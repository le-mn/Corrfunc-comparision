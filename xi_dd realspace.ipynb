{
 "cells": [
  {
   "cell_type": "markdown",
   "id": "96cddb5d-74d5-49b0-bac9-e5fa27a8fb54",
   "metadata": {},
   "source": [
    "\n",
    "The realspace density autocorrelation function $\\xi_{dd}$ between halos\n",
    "Calculated using the Corrfunc open package, DD module"
   ]
  },
  {
   "cell_type": "code",
   "execution_count": 2,
   "id": "9cd4a3d9-ae04-4339-aaf3-8dbbb22543cf",
   "metadata": {},
   "outputs": [],
   "source": [
    "from __future__ import print_function\n",
    "import numpy as np\n",
    "import matplotlib.pyplot as plt\n",
    "from Corrfunc.theory.DD import DD\n",
    "from hankel import HankelTransform\n",
    "from scipy.interpolate import InterpolatedUnivariateSpline as spline \n",
    "path ='/Users/ngoc/Desktop/Master-study/project'"
   ]
  },
  {
   "cell_type": "raw",
   "id": "14dd1f06-a7e2-4de6-884f-cc6649e07976",
   "metadata": {},
   "source": [
    "from datetime import datetime\n",
    "start_time = datetime.now()"
   ]
  },
  {
   "cell_type": "code",
   "execution_count": 3,
   "id": "719c8922-904e-40fd-a79c-446cbb4ccb18",
   "metadata": {},
   "outputs": [],
   "source": [
    "#cosmological parameters\n",
    "z        = 0.306\n",
    "Omg_lamb = 0.685\n",
    "Omg_m    = 1 - Omg_lamb\n",
    "a        = 1/(1 + z)\n",
    "E_a      = np.sqrt(Omg_m*(1+z)**3 + Omg_lamb)"
   ]
  },
  {
   "cell_type": "code",
   "execution_count": 4,
   "id": "dbb884dd-d101-48fa-8eeb-f75137ff27bc",
   "metadata": {},
   "outputs": [],
   "source": [
    "#simulation parameter \n",
    "boxsize  = 2000            #[Mpc/h]\n",
    "nthreads = 4               #The number of OpenMP threads to use\n",
    "autocorr = 1 \n",
    "nbins    = 50              #number of bins\n",
    "r_min    = 1               #[Mpc/h]\n",
    "r_max    = boxsize/3       #[Mpc/h]\n",
    "bins     = np.logspace(np.log10(r_min), np.log10(r_max), nbins + 1)\n",
    "ndata    = 8               #number of realizations (data sets)"
   ]
  },
  {
   "cell_type": "code",
   "execution_count": 5,
   "id": "8f1153d8-c898-46d1-a87f-e20e32bba640",
   "metadata": {},
   "outputs": [],
   "source": [
    "xi = np.zeros((ndata,nbins))\n",
    "r  = np.zeros((ndata,nbins))\n",
    "\n",
    "set_data = \"112345678\"\n",
    "\n",
    "for i in range (0,ndata):\n",
    "#load positions of objects\n",
    "    X = np.loadtxt(path+'/catalogs/'+set_data[0]+set_data[i+1]+'/gals/2gpc/R1'\n",
    "                   +set_data[0]+set_data[i+1]+'_S014_clu_d.cat', usecols = (1))\n",
    "    Y = np.loadtxt(path+'/catalogs/'+set_data[0]+set_data[i+1]+'/gals/2gpc/R1'\n",
    "                   +set_data[0]+set_data[i+1]+'_S014_clu_d.cat', usecols = (2))\n",
    "    Z = np.loadtxt(path+'/catalogs/'+set_data[0]+set_data[i+1]+'/gals/2gpc/R1'\n",
    "                   +set_data[0]+set_data[i+1]+'_S014_clu_d.cat', usecols = (3))\n",
    "    \n",
    "    weights = np.full_like(X,1)\n",
    "    \n",
    "    #calculate DD pairs, using module DD\n",
    "    results_DD = DD(autocorr,\n",
    "                    nthreads,\n",
    "                    bins,\n",
    "                    X, Y, Z,\n",
    "                    weights1    = weights,\n",
    "                    boxsize     = boxsize,\n",
    "                    weight_type = 'pair_product',\n",
    "                    output_ravg = True,\n",
    "                    periodic    = True) \n",
    "    \n",
    "    #calculate RR pairs\n",
    "    N_halo = len(X)\n",
    "    RR     = N_halo*(4./3.*np.pi*(bins[1::]**3 - bins[0:-1:]**3))*(N_halo-1)/boxsize**3\n",
    "    DDpair = results_DD['npairs']\n",
    "    weight = results_DD['weightavg']\n",
    "    \n",
    "    #write results into the 2D array\n",
    "    xi[i]  = DDpair*weight/RR - 1\n",
    "    r[i]   = results_DD['ravg']"
   ]
  },
  {
   "cell_type": "code",
   "execution_count": 6,
   "id": "8545df52-914a-4df9-ba5a-c70994906f3f",
   "metadata": {},
   "outputs": [],
   "source": [
    "    \n",
    "r_mean  = np.zeros(nbins)\n",
    "xi_mean = np.zeros(nbins)\n",
    "\n",
    "for i in range(0,nbins):\n",
    "    r_mean[i]  = np.mean(r[0:ndata,i])\n",
    "    xi_mean[i] = np.mean(xi[0:ndata,i])\n",
    "    \n",
    "sd = np.zeros(nbins)    \n",
    "error = np.zeros(nbins)\n",
    " \n",
    "for i in range(0,nbins):\n",
    "    a = 0\n",
    "    for j in range(0,ndata):\n",
    "        a = a + (xi[j,i] - xi_mean[i])**2      \n",
    "    sd[i] = np.sqrt(a/(ndata-1))             #standard deviation\n",
    "error = sd/np.sqrt(ndata)                    #standard error of the mean"
   ]
  },
  {
   "cell_type": "raw",
   "id": "ecbe0406-d1ce-4a96-ac18-282950c96d5a",
   "metadata": {},
   "source": [
    "output = np.array([r_mean, xi_mean, error])\n",
    "output1 = output.T\n",
    "np.savetxt('xi_dd_realspace.txt', output1)"
   ]
  },
  {
   "cell_type": "raw",
   "id": "3f908d40-0a6e-424f-96eb-715c5d1d71a1",
   "metadata": {},
   "source": [
    "#for i in range (0,ndata):\n",
    "#    plt.loglog(r[i],xi[i],':')\n",
    "plt.errorbar(r_mean, xi_mean, yerr = error, fmt = 'b.-')\n",
    "#plt.errorbar(r_mean, xi_mean, yerr = np.sqrt(DDpair)/RR, fmt = 'r*-')\n",
    "#plt.errorbar(r_mean, xi_mean, yerr = np.sqrt(xi_mean), fmt = 'g-')\n",
    "#plt.ylim(5e-3,2e-2)\n",
    "#plt.xlim(50,120)\n",
    "#plt.savefig('wrong_error_show.png')"
   ]
  },
  {
   "cell_type": "code",
   "execution_count": 9,
   "id": "7d8107e3-a2af-42e1-8b4f-20f0a48b28d6",
   "metadata": {},
   "outputs": [],
   "source": [
    "b   = 3.11\n",
    "k   = np.loadtxt(path+'/results/power_spectrum.txt', usecols = (0))\n",
    "P   = np.loadtxt(path+'/results/power_spectrum.txt', usecols = (1))\n",
    "P_k = spline(k, P)\n",
    "r   = r_mean\n",
    "h0  = HankelTransform(nu=1/2, N = 3000, h = 1e-5)\n",
    "\n",
    "# xi density in real space\n",
    "f_0 = lambda k: P_k(k)*k**(1/2)/(np.pi*2)**(3/2)\n",
    "xi_theory = 1/np.sqrt(r)*h0.transform(f_0,r, ret_err=False, inverse=True)*b**2"
   ]
  },
  {
   "cell_type": "code",
   "execution_count": 16,
   "id": "e9c387d1-6d09-4f5a-8a9d-461b9f9ab52b",
   "metadata": {},
   "outputs": [
    {
     "data": {
      "text/plain": [
       "Text(0.5, 1.0, '$\\\\xi_{dd}$ in realspace')"
      ]
     },
     "execution_count": 16,
     "metadata": {},
     "output_type": "execute_result"
    },
    {
     "data": {
      "image/png": "[encoded data removed]",
      "text/plain": [
       "<Figure size 432x288 with 1 Axes>"
      ]
     },
     "metadata": {
      "needs_background": "light"
     },
     "output_type": "display_data"
    }
   ],
   "source": [
    "ax = plt.axes()\n",
    "ax.set_xscale(\"log\")\n",
    "ax.set_yscale(\"log\")\n",
    "ax.errorbar(r_mean, xi_mean, yerr = error, fmt = 'b.', label='simulation')\n",
    "ax.plot(r, xi_theory,'b-',label='theory')\n",
    "ax.set_ylabel(\"$\\\\xi_{dd}$ \")\n",
    "ax.set_xlabel(\"r$[Mpc.h^{-1}]$\")\n",
    "ax.legend()\n",
    "#ax.set_ylim(22,29)\n",
    "ax.set_title('$\\\\xi_{dd}$ in realspace')\n",
    "#plt.savefig('xi_dd_realspace_Poisson.png')"
   ]
  },
  {
   "cell_type": "raw",
   "id": "4db4db8e-c047-4811-8f2c-c010133e7197",
   "metadata": {},
   "source": [
    "\n",
    "end_time = datetime.now()\n",
    "print('Duration: {}'.format(end_time - start_time))"
   ]
  },
  {
   "cell_type": "raw",
   "id": "963ff7b5-6cc2-497f-b2e1-4785eb0e9b09",
   "metadata": {},
   "source": [
    "output = np.array([r_mean, xi_theory])\n",
    "output1 = output.T\n",
    "np.savetxt('xi_dd_realspace_theory.txt', output1)"
   ]
  },
  {
   "cell_type": "code",
   "execution_count": null,
   "id": "ba4db90e-e4e9-4a7b-8d8e-9380564b964b",
   "metadata": {},
   "outputs": [],
   "source": []
  }
 ],
 "metadata": {
  "kernelspec": {
   "display_name": "Python 3",
   "language": "python",
   "name": "python3"
  },
  "language_info": {
   "codemirror_mode": {
    "name": "ipython",
    "version": 3
   },
   "file_extension": ".py",
   "mimetype": "text/x-python",
   "name": "python",
   "nbconvert_exporter": "python",
   "pygments_lexer": "ipython3",
   "version": "3.8.8"
  }
 },
 "nbformat": 4,
 "nbformat_minor": 5
}
