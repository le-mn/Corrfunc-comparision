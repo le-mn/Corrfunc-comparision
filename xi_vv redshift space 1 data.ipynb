{
 "cells": [
  {
   "cell_type": "code",
   "execution_count": 1,
   "id": "7aa4dd32-4a3b-4b49-bd48-1f4756b02f99",
   "metadata": {},
   "outputs": [],
   "source": [
    "from __future__ import print_function\n",
    "import numpy as np\n",
    "import matplotlib.pyplot as plt\n",
    "from Corrfunc.theory.DDsmu import DDsmu\n",
    "from hankel import HankelTransform\n",
    "from scipy.interpolate import InterpolatedUnivariateSpline as spline \n",
    "path ='/Users/ngoc/Desktop/Master-study/project'"
   ]
  },
  {
   "cell_type": "code",
   "execution_count": 2,
   "id": "05129d40",
   "metadata": {},
   "outputs": [],
   "source": [
    "#cosmological parameters\n",
    "z        = 0.306                   #redshift\n",
    "f        = 0.687255861             #growth rate\n",
    "Omg_lamb = 0.685                   #dark energy density parameter\n",
    "Omg_m    = 1. - Omg_lamb           #matter density parameter\n",
    "a        = 1./(1. + z)             #scale factor\n",
    "E_a      = np.sqrt(Omg_m*(1.+z)**3. + Omg_lamb) \n"
   ]
  },
  {
   "cell_type": "code",
   "execution_count": 3,
   "id": "f07bc370",
   "metadata": {},
   "outputs": [],
   "source": [
    "#simulation parameters\n",
    "boxsize  = 2000                    #length of the box [Mpc/h]\n",
    "nthreads = 4                       #number of Open MP threads to use \n",
    "autocorr = 1                       #auto correlation\n",
    "nbins    = 50                      #number of bins\n",
    "rmin     = 1.                      #minimum separation [Mpc/h]\n",
    "rmax     = boxsize/3               #maximum separation [Mpc/h]\n",
    "bins     = np.logspace(np.log10(rmin), np.log10(rmax), nbins+1)     \n",
    "mu_max   = 1                       #maximum value of cosine of the angle separated from the LOS\n",
    "nmu_bins = 10                      #number of bins of the angle separation \n",
    "delta_mu = mu_max/nmu_bins\n",
    "set_data = \"112345678\"             #for reading data\n",
    "\n"
   ]
  },
  {
   "cell_type": "code",
   "execution_count": 4,
   "id": "2e7821b4",
   "metadata": {},
   "outputs": [],
   "source": [
    "#Legendre polynomials\n",
    "P0 = 1\n",
    "P2 = lambda mu: (3*mu**2-1)/2\n",
    "P4 = lambda mu: (35*mu**4 - 30*mu**2 + 3)/8 \n"
   ]
  },
  {
   "cell_type": "code",
   "execution_count": 5,
   "id": "8cf91c08-3088-48f1-9355-87185072e00d",
   "metadata": {},
   "outputs": [],
   "source": [
    "i = 0\n",
    "# load positions of objects\n",
    "X = np.loadtxt(path+'/catalogs/'+set_data[0]+set_data[i+1]+'/gals/2gpc/R1'+set_data[0]+set_data[i+1]+'_S014_clu_d.cat', usecols = (1))\n",
    "Y = np.loadtxt(path+'/catalogs/'+set_data[0]+set_data[i+1]+'/gals/2gpc/R1'+set_data[0]+set_data[i+1]+'_S014_clu_d.cat', usecols = (2))\n",
    "Z = np.loadtxt(path+'/catalogs/'+set_data[0]+set_data[i+1]+'/gals/2gpc/R1'+set_data[0]+set_data[i+1]+'_S014_clu_d.cat', usecols = (3))\n",
    "\n",
    "# load velocities of objects\n",
    "V_z     = np.loadtxt(path+'/catalogs/'+set_data[0]+set_data[i+1]+'/gals/2gpc/R1'+set_data[0]+set_data[i+1]+'_S014_clu_d.cat', usecols = (6))\n",
    "weights = V_z/(a*E_a*100)\n",
    "s       = Z + V_z/(a*E_a*100)    \n",
    "#calculate random-random pairs \n",
    "N    = len(X)          # number of halos\n",
    "RR   = 4./3.*np.pi*(bins[1::]**3 - bins[0:-1:]**3)*N*(N-1)/boxsize**3\n",
    "    \n",
    "# using DDsmu to calculate pair in each mu bin\n",
    "results_DDsmu = DDsmu(autocorr, \n",
    "                      nthreads,\n",
    "                      bins,\n",
    "                      mu_max,\n",
    "                      nmu_bins,\n",
    "                      X, Y, s,\n",
    "                      weights1    = weights,\n",
    "                      boxsize     = boxsize,\n",
    "                      weight_type = 'pair_product',\n",
    "                      output_savg = True,\n",
    "                      periodic    = True)\n",
    "  \n",
    "npair         = results_DDsmu['npairs']\n",
    "weight        = results_DDsmu['weightavg']\n",
    "mu            = results_DDsmu['mu_max']\n",
    "r_mu          = results_DDsmu['savg']\n",
    "DD_r_mu       = npair*weight"
   ]
  },
  {
   "cell_type": "code",
   "execution_count": 6,
   "id": "1a48779c-618e-4771-9556-a786f74f024c",
   "metadata": {},
   "outputs": [],
   "source": [
    "\n",
    "#monopole\n",
    "DD_r = np.zeros(nbins)          \n",
    "xi0 = np.zeros(nbins)\n",
    "r0  = np.zeros(nbins)\n",
    "l   = 0 \n",
    "for ii in range(0,nbins):\n",
    "    for j in range ((ii)*nmu_bins,(ii+1)*nmu_bins):\n",
    "        xi0[ii] = xi0[ii] + DD_r_mu[j]/(RR[ii]/nmu_bins)*P0*delta_mu    \n",
    "        r0[ii]  = r0[ii]  + r_mu[j]  \n",
    "        DD_r[ii]= DD_r[ii]+ DD_r_mu[j]    \n",
    "xi0 = (2*l+1)*xi0\n",
    "r0  = r0/nmu_bins\n",
    "    \n",
    "#quadrupole\n",
    "            \n",
    "xi2 = np.zeros(nbins)\n",
    "l   = 2\n",
    "    \n",
    "for ii in range(0,nbins):\n",
    "    for j in range ((ii)*nmu_bins,(ii+1)*nmu_bins):\n",
    "        xi2[ii] = xi2[ii] + DD_r_mu[j]/(RR[ii]/nmu_bins)*delta_mu*P2(mu[j])\n",
    "        \n",
    "xi2 = (2*l+1)*xi2\n"
   ]
  },
  {
   "cell_type": "code",
   "execution_count": 14,
   "id": "1322fbbd",
   "metadata": {},
   "outputs": [
    {
     "data": {
      "text/plain": [
       "(1, 863.555080971309)"
      ]
     },
     "execution_count": 14,
     "metadata": {},
     "output_type": "execute_result"
    },
    {
     "data": {
      "image/png": "[encoded data removed]",
      "text/plain": [
       "<Figure size 432x288 with 1 Axes>"
      ]
     },
     "metadata": {
      "needs_background": "light"
     },
     "output_type": "display_data"
    }
   ],
   "source": [
    "ax = plt.axes()\n",
    "ax.set_xscale(\"log\")\n",
    "ax.set_yscale(\"log\")\n",
    "ax.plot(r0,  xi0, 'r-' , label=' xi_vv0 simulation')\n",
    "ax.plot(r0, -xi2, 'b-' , label='-xi_vv2 simulation')\n",
    "ax.set_ylabel(\"$xi_{vv,l}$\")\n",
    "ax.set_xlabel(\"r[Mpc$.h^{-1}$]\")\n",
    "ax.legend()\n",
    "ax.set_xlim(1,)\n",
    "#ax.set_ylim(-100,500)\n",
    "\n",
    "\n",
    "\n"
   ]
  },
  {
   "cell_type": "raw",
   "id": "60406a3b-7015-43eb-813a-8aef31b8852a",
   "metadata": {},
   "source": [
    "# The theory calculations\n",
    "H_0      = 67.3                    # Hubble constant\n",
    "L        = 2000                    # boxsize [Mpc.h^{-1}]\n",
    "r_max    = L*3.**(1./2.)       \n",
    "k_min    = 2.*np.pi/r_max\n",
    "b        = 3.11                    # bias factor = delta_(galaxy or cluster)/delta_matter"
   ]
  },
  {
   "cell_type": "raw",
   "id": "569c5851-3167-42c0-9718-904dfc73bca7",
   "metadata": {},
   "source": [
    "# loading matter power spectrum\n",
    "\n",
    "k   = np.loadtxt(path+'/results/power_spectrum03.txt', usecols = (0))\n",
    "P   = np.loadtxt(path+'/results/power_spectrum03.txt', usecols = (1))\n",
    "\n",
    "P_k = spline(k, P)\n"
   ]
  },
  {
   "cell_type": "raw",
   "id": "763a8c48-fa72-4037-af74-25eb6a251c8f",
   "metadata": {},
   "source": [
    "# xi_vv monopole\n",
    "\n",
    "h0    = HankelTransform(nu=1/2, N = 2000, h = 1e-3)\n",
    "\n",
    "f1    = lambda kk: P_k(kk)/(kk*np.pi*2)**(3/2)\n",
    "\n",
    "xi_p1 = 1/np.sqrt(r0)*h0.transform(f1,r0, ret_err=False, inverse=True)   \n",
    "    \n",
    "xi_vv0_theory = f**2*xi_p1/3#*b**2  \n"
   ]
  },
  {
   "cell_type": "raw",
   "id": "54ed2ee6-5c9d-46d3-b43f-7630dac41b45",
   "metadata": {},
   "source": [
    "# xi_vv quadrupole\n",
    "\n",
    "h2    = HankelTransform(nu=5/2, N = 2000, h = 1e-3)\n",
    "\n",
    "f1    = lambda kk: P_k(kk)/(kk*np.pi*2)**(3/2)\n",
    "\n",
    "xi_p2 = 1/np.sqrt(r0)*h2.transform(f1,r0, ret_err=False, inverse=True)\n",
    "\n",
    "xi_vv2_theory = -2/3*f**2*xi_p2#*b**2"
   ]
  },
  {
   "cell_type": "raw",
   "id": "c8c6a565-0f92-4919-84ae-87f31e1258df",
   "metadata": {
    "tags": []
   },
   "source": [
    "ax = plt.axes()\n",
    "ax.set_xscale(\"log\")\n",
    "ax.set_yscale(\"log\")\n",
    "ax.plot(r0,  xi0, 'r-' , label=' xi_vv0 simulation')\n",
    "ax.plot(r0, -xi2, 'b-' , label='-xi_vv2 simulation')\n",
    "ax.plot(r0,  xi_vv0_theory, 'r--', label =' xi_vv0 theory')\n",
    "ax.plot(r0, -xi_vv2_theory, 'b--', label ='-xi_vv2 theory')\n",
    "ax.set_ylabel(\"$xi_{vv,l}$\")\n",
    "ax.set_xlabel(\"r[Mpc$.h^{-1}$]\")\n",
    "ax.set_title('The multipole correlation function velocity-velocity in real space')\n",
    "ax.legend()\n",
    "ax.set_xlim(1,)\n",
    "ax.set_ylim(-1,120)\n"
   ]
  },
  {
   "cell_type": "raw",
   "id": "339c32c5-16af-4b6b-a5e0-cacce98a5db5",
   "metadata": {},
   "source": [
    "ax = plt.axes()\n",
    "ax.set_xscale(\"log\")\n",
    "ax.set_yscale(\"log\")\n",
    "ax.errorbar(r0, -xi2, fmt = 'c-', yerr = (1+xi2)/np.sqrt(DD_r), label ='$-\\\\xi_{vv,2}$ simulation Poisson error')\n",
    "ax.plot(r0, -xi_vv2_theory, 'b--', label ='$-\\\\xi_{vv,2}$ theory')\n",
    "ax.set_ylabel(\"$\\\\xi_{vv,l}$\")\n",
    "ax.set_xlabel(\"r[Mpc$.h^{-1}$]\")\n",
    "ax.set_title('The quarupole of velocity autocorrelation function in real space')\n",
    "ax.legend()\n",
    "ax.set_xlim(1,)\n",
    "ax.set_ylim(0,2.5)"
   ]
  },
  {
   "cell_type": "code",
   "execution_count": null,
   "id": "fbd6b232-1f3e-423a-a3b4-aa1b4f0abafd",
   "metadata": {},
   "outputs": [],
   "source": [
    "\n",
    "\n",
    "\n"
   ]
  }
 ],
 "metadata": {
  "kernelspec": {
   "display_name": "Python 3",
   "language": "python",
   "name": "python3"
  },
  "language_info": {
   "codemirror_mode": {
    "name": "ipython",
    "version": 3
   },
   "file_extension": ".py",
   "mimetype": "text/x-python",
   "name": "python",
   "nbconvert_exporter": "python",
   "pygments_lexer": "ipython3",
   "version": "3.8.8"
  }
 },
 "nbformat": 4,
 "nbformat_minor": 5
}
