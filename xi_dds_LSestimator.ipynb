{
 "cells": [
  {
   "cell_type": "markdown",
   "id": "ae819846-5fca-48ad-a734-ca87dded050c",
   "metadata": {},
   "source": [
    "Using LS estimator.\n",
    "\n",
    "Code using the module count_pair_DDsmu6 and main program ver.7 that fix the error of cutting box, in my fortran code. The box is cut in z direction, consider nonPBC case. Compare to the previous results using fullbox PBC.\n",
    "For density auto-correlation function $\\xi_{dd,l}^s$ multipole in redshift space"
   ]
  },
  {
   "cell_type": "code",
   "execution_count": 3,
   "id": "ed24bc9a-a508-4135-98e8-65a9274b4cec",
   "metadata": {},
   "outputs": [],
   "source": [
    "from __future__ import print_function\n",
    "import numpy as np\n",
    "import matplotlib.pyplot as plt\n",
    "path ='/Users/ngoc/Desktop/Master-study/project'"
   ]
  },
  {
   "cell_type": "code",
   "execution_count": 4,
   "id": "05129d40",
   "metadata": {},
   "outputs": [],
   "source": [
    "#cosmological parameters\n",
    "z        = 0.306                   #redshift\n",
    "f        = 0.687255861             #growth rate\n",
    "Omg_lamb = 0.685                   #dark energy density parameter\n",
    "Omg_m    = 1. - Omg_lamb           #matter density parameter\n",
    "a        = 1./(1. + z)             #scale factor\n",
    "E_a      = np.sqrt(Omg_m*(1.+z)**3. + Omg_lamb) \n"
   ]
  },
  {
   "cell_type": "code",
   "execution_count": 5,
   "id": "c0a13dbc-6eb8-4115-a7f2-b134b281e69e",
   "metadata": {},
   "outputs": [],
   "source": [
    "# load results from xi_dd redshift space, PBC, fullbox to compare\n",
    "xi_dd0_sfull = np.loadtxt(path+'/my-f-code/results/xi-ddsmu0-F.txt', usecols =(1))\n",
    "xi_dd2_sfull = np.loadtxt(path+'/my-f-code/results/xi-ddsmu2-F.txt', usecols =(1))\n",
    "error_xi_dd0_sfull = np.loadtxt(path+'/my-f-code/results/xi-ddsmu0-F.txt', usecols =(2))\n",
    "error_xi_dd2_sfull = np.loadtxt(path+'/my-f-code/results/xi-ddsmu2-F.txt', usecols =(2))"
   ]
  },
  {
   "cell_type": "code",
   "execution_count": 6,
   "id": "f07bc370",
   "metadata": {},
   "outputs": [],
   "source": [
    "#simulation paramters\n",
    "boxsize  = 2000                    #length of 1D of the box [Mpc/h]\n",
    "nbins    = 50                      #number of bins\n",
    "rmin     = 1.\n",
    "rmax     = boxsize/3\n",
    "bins     = np.logspace(np.log10(rmin), np.log10(rmax), nbins+1)     \n",
    "mu_max   = 1                       #maximum value of cosine of the angle separated from the LOS\n",
    "nmu_bins = 10                      #number of bins of the angle separation \n",
    "delta_mu = mu_max/nmu_bins\n",
    "ndata    = 8                       #number of data\n",
    "realizations = \"12345678\"          #for reading the data\n",
    "\n",
    "#Legendre polynomials\n",
    "P0 = 1\n",
    "P2 = lambda mu: (3*mu**2-1)/2\n",
    "P4 = lambda mu: (35*mu**4 - 30*mu**2 + 3)/8 \n",
    "\n",
    "l0 = 0\n",
    "l2 = 2"
   ]
  },
  {
   "cell_type": "code",
   "execution_count": 7,
   "id": "94438d5f-1fb1-4fda-8ce8-599e731e5cc4",
   "metadata": {},
   "outputs": [],
   "source": [
    "\n",
    "#cosmological parameters\n",
    "z        = 0.306                   #redshift\n",
    "f        = 0.687255861             #growth rate\n",
    "Omg_lamb = 0.685                   #dark energy density parameter\n",
    "Omg_m    = 1. - Omg_lamb           #matter density parameter\n",
    "a        = 1./(1. + z)             #scale factor\n",
    "E_a      = np.sqrt(Omg_m*(1.+z)**3. + Omg_lamb) \n",
    "b        = 3.11                                 #bias for halo b = \\delta_halo/\\delta_matter\n",
    "beta     = f/b                                  #linear RSD parameter\n",
    "#relation between the real and redshift space power spectrum multipoles (Kaiser's coefficients)\n",
    "K0       = 1 + 2/3*beta + 1/5*beta**2\n",
    "K2       = 4/3*beta + 4/7*beta**2\n",
    "K4       = 8/35*beta**2\n"
   ]
  },
  {
   "cell_type": "code",
   "execution_count": 8,
   "id": "e2d8e3f7-6b69-4476-a28b-60a8cfbfd612",
   "metadata": {},
   "outputs": [
    {
     "name": "stderr",
     "output_type": "stream",
     "text": [
      "<ipython-input-8-efa188b4c50d>:28: RuntimeWarning: invalid value encountered in double_scalars\n",
      "  xi0_nonPBC[ii] += ((DDsmu_nonPBC[j]-2*DR[j])/RR_mus+1)*P0*delta_mu\n",
      "<ipython-input-8-efa188b4c50d>:29: RuntimeWarning: invalid value encountered in double_scalars\n",
      "  xi2_nonPBC[ii] += ((DDsmu_nonPBC[j]-2*DR[j])/RR_mus+1)*delta_mu*P2(mu_nonPBC[j])\n",
      "<ipython-input-8-efa188b4c50d>:28: RuntimeWarning: divide by zero encountered in double_scalars\n",
      "  xi0_nonPBC[ii] += ((DDsmu_nonPBC[j]-2*DR[j])/RR_mus+1)*P0*delta_mu\n",
      "<ipython-input-8-efa188b4c50d>:29: RuntimeWarning: divide by zero encountered in double_scalars\n",
      "  xi2_nonPBC[ii] += ((DDsmu_nonPBC[j]-2*DR[j])/RR_mus+1)*delta_mu*P2(mu_nonPBC[j])\n"
     ]
    }
   ],
   "source": [
    "#LS estimator\n",
    "A_0_03 = np.zeros((ndata,nbins))\n",
    "r_nonPBC   = np.zeros((ndata,nbins))\n",
    "A_2_03 = np.zeros((ndata,nbins))\n",
    "for i in range (0,ndata):\n",
    "\n",
    "    #load results for 8 realizations\n",
    "    DDsmu_nonPBC = np.loadtxt(path+'/my-f-code/results/dds-cutbox03Lnew-nonPBC-realization'\n",
    "                         +realizations[i]+'.txt', usecols = (0))\n",
    "    rsmu_nonPBC  = np.loadtxt(path+'/my-f-code/results/dds-cutbox03Lnew-nonPBC-realization'\n",
    "                         +realizations[i]+'.txt', usecols = (1))\n",
    "    mu_nonPBC    = np.loadtxt(path+'/my-f-code/results/dds-cutbox03Lnew-nonPBC-realization'\n",
    "                         +realizations[i]+'.txt', usecols = (2))\n",
    "\n",
    "    # RR pairs count\n",
    "    RRs_nonPBC = np.loadtxt(path+'/my-f-code/results/RRs-cutbox03Lnew-nonPBC-realization'\n",
    "                         +realizations[i]+'.txt', usecols = (0))\n",
    "    DR = np.loadtxt(path+'/my-f-code/results/DRs-cutbox03Lnew-nonPBC-realization'\n",
    "                         +realizations[i]+'.txt', usecols = (0))\n",
    "            \n",
    "    xi0_nonPBC = np.zeros(nbins)\n",
    "    xi2_nonPBC = np.zeros(nbins)\n",
    "    r0_nonPBC  = np.zeros(nbins)\n",
    "\n",
    "    for ii in range(0,nbins):\n",
    "        RR_mus = RRs_nonPBC[ii]/nmu_bins\n",
    "        for j in range ((ii)*nmu_bins,(ii+1)*nmu_bins):\n",
    "            xi0_nonPBC[ii] += ((DDsmu_nonPBC[j]-2*DR[j])/RR_mus+1)*P0*delta_mu \n",
    "            xi2_nonPBC[ii] += ((DDsmu_nonPBC[j]-2*DR[j])/RR_mus+1)*delta_mu*P2(mu_nonPBC[j])\n",
    "            r0_nonPBC[ii]  += rsmu_nonPBC[j]\n",
    "\n",
    "    #monopole    \n",
    "    A_0_03[i] = xi0_nonPBC\n",
    "    r_nonPBC[i]= r0_nonPBC/nmu_bins    \n",
    "    \n",
    "    #quadrupole\n",
    "    A_2_03[i] = xi2_nonPBC*(2*l2+1)\n",
    "\n",
    "# calculate the average of 8 realizations and error bars, F code\n",
    "xi_dd0s_03_LS = np.zeros(nbins)\n",
    "xi_dd2s_03_LS = np.zeros(nbins)\n",
    "r       = np.zeros(nbins)\n",
    "\n",
    "for i in range(0,nbins):\n",
    "    r[i]       = np.mean(r_nonPBC[0:ndata,i])\n",
    "    xi_dd0s_03_LS[i] = np.mean(A_0_03[0:ndata,i])\n",
    "    xi_dd2s_03_LS[i] = np.mean(A_2_03[0:ndata,i])\n",
    "\n",
    "error_xi_dd0s_03_LS = np.zeros(nbins)\n",
    "error_xi_dd2s_03_LS = np.zeros(nbins)\n",
    "for i in range(0,nbins):\n",
    "    a0 = 0\n",
    "    a2 = 0\n",
    "    for j in range(0,ndata):\n",
    "        a0 += (A_0_03[j,i] - xi_dd0s_03_LS[i])**2\n",
    "        a2 += (A_2_03[j,i] - xi_dd2s_03_LS[i])**2\n",
    "    error_xi_dd0s_03_LS[i] = np.sqrt(a0/((ndata-1)*ndata)) #standard error of the mean\n",
    "    error_xi_dd2s_03_LS[i] = np.sqrt(a2/((ndata-1)*ndata))    "
   ]
  },
  {
   "cell_type": "code",
   "execution_count": 22,
   "id": "4cf00c36-b40b-49c1-9dc4-442197a901c6",
   "metadata": {},
   "outputs": [
    {
     "name": "stderr",
     "output_type": "stream",
     "text": [
      "<ipython-input-22-a223f9e1b2ab>:28: RuntimeWarning: invalid value encountered in double_scalars\n",
      "  xi0_nonPBC[ii] += ((DDsmu_nonPBC[j])/RR_mus-1)*P0*delta_mu\n",
      "<ipython-input-22-a223f9e1b2ab>:29: RuntimeWarning: invalid value encountered in double_scalars\n",
      "  xi2_nonPBC[ii] += ((DDsmu_nonPBC[j])/RR_mus-1)*delta_mu*P2(mu_nonPBC[j])\n",
      "<ipython-input-22-a223f9e1b2ab>:28: RuntimeWarning: divide by zero encountered in double_scalars\n",
      "  xi0_nonPBC[ii] += ((DDsmu_nonPBC[j])/RR_mus-1)*P0*delta_mu\n",
      "<ipython-input-22-a223f9e1b2ab>:29: RuntimeWarning: divide by zero encountered in double_scalars\n",
      "  xi2_nonPBC[ii] += ((DDsmu_nonPBC[j])/RR_mus-1)*delta_mu*P2(mu_nonPBC[j])\n"
     ]
    }
   ],
   "source": [
    "#test with reproducing PH \n",
    "A_0_03 = np.zeros((ndata,nbins))\n",
    "r_nonPBC   = np.zeros((ndata,nbins))\n",
    "A_2_03 = np.zeros((ndata,nbins))\n",
    "for i in range (0,ndata):\n",
    "\n",
    "    #load results for 8 realizations\n",
    "    DDsmu_nonPBC = np.loadtxt(path+'/my-f-code/results/dds-cutbox03Lnew-nonPBC-realization'\n",
    "                         +realizations[i]+'.txt', usecols = (0))\n",
    "    rsmu_nonPBC  = np.loadtxt(path+'/my-f-code/results/dds-cutbox03Lnew-nonPBC-realization'\n",
    "                         +realizations[i]+'.txt', usecols = (1))\n",
    "    mu_nonPBC    = np.loadtxt(path+'/my-f-code/results/dds-cutbox03Lnew-nonPBC-realization'\n",
    "                         +realizations[i]+'.txt', usecols = (2))\n",
    "\n",
    "    # RR pairs count\n",
    "    RRs_nonPBC = np.loadtxt(path+'/my-f-code/results/RRs-cutbox03Lnew-nonPBC-realization'\n",
    "                         +realizations[i]+'.txt', usecols = (0))\n",
    "    DR = np.loadtxt(path+'/my-f-code/results/DRs-cutbox03Lnew-nonPBC-realization'\n",
    "                         +realizations[i]+'.txt', usecols = (0))\n",
    "            \n",
    "    xi0_nonPBC = np.zeros(nbins)\n",
    "    xi2_nonPBC = np.zeros(nbins)\n",
    "    r0_nonPBC  = np.zeros(nbins)\n",
    "\n",
    "    for ii in range(0,nbins):\n",
    "        RR_mus = RRs_nonPBC[ii]/nmu_bins\n",
    "        for j in range ((ii)*nmu_bins,(ii+1)*nmu_bins):\n",
    "            xi0_nonPBC[ii] += ((DDsmu_nonPBC[j])/RR_mus-1)*P0*delta_mu \n",
    "            xi2_nonPBC[ii] += ((DDsmu_nonPBC[j])/RR_mus-1)*delta_mu*P2(mu_nonPBC[j])\n",
    "            r0_nonPBC[ii]  += rsmu_nonPBC[j]\n",
    "\n",
    "    #monopole    \n",
    "    A_0_03[i] = xi0_nonPBC\n",
    "    r_nonPBC[i]= r0_nonPBC/nmu_bins    \n",
    "    \n",
    "    #quadrupole\n",
    "    A_2_03[i] = xi2_nonPBC*(2*l2+1)\n",
    "\n",
    "# calculate the average of 8 realizations and error bars, F code\n",
    "xi_dd0s_03_PH = np.zeros(nbins)\n",
    "xi_dd2s_03_PH = np.zeros(nbins)\n",
    "r       = np.zeros(nbins)\n",
    "\n",
    "for i in range(0,nbins):\n",
    "    r[i]       = np.mean(r_nonPBC[0:ndata,i])\n",
    "    xi_dd0s_03_PH[i] = np.mean(A_0_03[0:ndata,i])\n",
    "    xi_dd2s_03_PH[i] = np.mean(A_2_03[0:ndata,i])\n",
    "\n",
    "error_xi_dd0s_03_PH = np.zeros(nbins)\n",
    "error_xi_dd2s_03_PH = np.zeros(nbins)\n",
    "for i in range(0,nbins):\n",
    "    a0 = 0\n",
    "    a2 = 0\n",
    "    for j in range(0,ndata):\n",
    "        a0 += (A_0_03[j,i] - xi_dd0s_03_PH[i])**2\n",
    "        a2 += (A_2_03[j,i] - xi_dd2s_03_PH[i])**2\n",
    "    error_xi_dd0s_03_PH[i] = np.sqrt(a0/((ndata-1)*ndata)) #standard error of the mean\n",
    "    error_xi_dd2s_03_PH[i] = np.sqrt(a2/((ndata-1)*ndata))    "
   ]
  },
  {
   "cell_type": "code",
   "execution_count": 9,
   "id": "865ced31-993a-4f88-9f65-b17d63bebb09",
   "metadata": {},
   "outputs": [
    {
     "name": "stderr",
     "output_type": "stream",
     "text": [
      "<ipython-input-9-9875373672c5>:24: RuntimeWarning: divide by zero encountered in double_scalars\n",
      "  xi0_nonPBC[ii] += ((DDsmu_nonPBC[j]-2*DR[j])/RR_mus+1)*P0*delta_mu\n",
      "<ipython-input-9-9875373672c5>:25: RuntimeWarning: divide by zero encountered in double_scalars\n",
      "  xi2_nonPBC[ii] += ((DDsmu_nonPBC[j]-2*DR[j])/RR_mus+1)*delta_mu*P2(mu_nonPBC[j])\n",
      "<ipython-input-9-9875373672c5>:24: RuntimeWarning: invalid value encountered in double_scalars\n",
      "  xi0_nonPBC[ii] += ((DDsmu_nonPBC[j]-2*DR[j])/RR_mus+1)*P0*delta_mu\n",
      "<ipython-input-9-9875373672c5>:25: RuntimeWarning: invalid value encountered in double_scalars\n",
      "  xi2_nonPBC[ii] += ((DDsmu_nonPBC[j]-2*DR[j])/RR_mus+1)*delta_mu*P2(mu_nonPBC[j])\n"
     ]
    }
   ],
   "source": [
    "#LS estimator\n",
    "A_0_05 = np.zeros((ndata,nbins))\n",
    "A_2_05 = np.zeros((ndata,nbins))\n",
    "for i in range (0,ndata):\n",
    "\n",
    "    #load results for 8 realizations\n",
    "    DDsmu_nonPBC = np.loadtxt(path+'/my-f-code/results/dds-cutbox05Lnew-nonPBC-realization'\n",
    "                         +realizations[i]+'.txt', usecols = (0))\n",
    "    mu_nonPBC    = np.loadtxt(path+'/my-f-code/results/dds-cutbox05Lnew-nonPBC-realization'\n",
    "                         +realizations[i]+'.txt', usecols = (2))\n",
    "\n",
    "    # RR pairs count\n",
    "    RRs_nonPBC = np.loadtxt(path+'/my-f-code/results/RRs-cutbox05Lnew-nonPBC-realization'\n",
    "                         +realizations[i]+'.txt', usecols = (0))\n",
    "    DR = np.loadtxt(path+'/my-f-code/results/DRs-cutbox05Lnew-nonPBC-realization'\n",
    "                         +realizations[i]+'.txt', usecols = (0))\n",
    "       \n",
    "    xi0_nonPBC = np.zeros(nbins)\n",
    "    xi2_nonPBC = np.zeros(nbins)\n",
    "\n",
    "    for ii in range(0,nbins):\n",
    "        RR_mus = RRs_nonPBC[ii]/nmu_bins\n",
    "        for j in range ((ii)*nmu_bins,(ii+1)*nmu_bins):\n",
    "            xi0_nonPBC[ii] += ((DDsmu_nonPBC[j]-2*DR[j])/RR_mus+1)*P0*delta_mu \n",
    "            xi2_nonPBC[ii] += ((DDsmu_nonPBC[j]-2*DR[j])/RR_mus+1)*delta_mu*P2(mu_nonPBC[j])\n",
    "\n",
    "    #monopole    \n",
    "    A_0_05[i] = xi0_nonPBC\n",
    "    \n",
    "    #quadrupole\n",
    "    A_2_05[i] = xi2_nonPBC*(2*l2+1)\n",
    "# calculate the average of 8 realizations and error bars, F code\n",
    "xi_dd0s_05_LS = np.zeros(nbins)\n",
    "xi_dd2s_05_LS = np.zeros(nbins)\n",
    "\n",
    "for i in range(0,nbins):\n",
    "    xi_dd0s_05_LS[i] = np.mean(A_0_05[0:ndata,i])\n",
    "    xi_dd2s_05_LS[i] = np.mean(A_2_05[0:ndata,i])\n",
    "\n",
    "error_xi_dd0s_05_LS = np.zeros(nbins)\n",
    "error_xi_dd2s_05_LS = np.zeros(nbins)\n",
    "for i in range(0,nbins):\n",
    "    a0 = 0\n",
    "    a2 = 0\n",
    "    for j in range(0,ndata):\n",
    "        a0 += (A_0_05[j,i] - xi_dd0s_05_LS[i])**2\n",
    "        a2 += (A_2_05[j,i] - xi_dd2s_05_LS[i])**2\n",
    "    error_xi_dd0s_05_LS[i] = np.sqrt(a0/((ndata-1)*ndata)) #standard error of the mean\n",
    "    error_xi_dd2s_05_LS[i] = np.sqrt(a2/((ndata-1)*ndata))    "
   ]
  },
  {
   "cell_type": "code",
   "execution_count": 21,
   "id": "b4d32449-e96e-4131-8e8d-9d7b20a4f328",
   "metadata": {},
   "outputs": [
    {
     "name": "stderr",
     "output_type": "stream",
     "text": [
      "<ipython-input-21-f8d66f1b9a60>:24: RuntimeWarning: divide by zero encountered in double_scalars\n",
      "  xi0_nonPBC[ii] += ((DDsmu_nonPBC[j])/RR_mus-1)*P0*delta_mu\n",
      "<ipython-input-21-f8d66f1b9a60>:25: RuntimeWarning: divide by zero encountered in double_scalars\n",
      "  xi2_nonPBC[ii] += ((DDsmu_nonPBC[j])/RR_mus-1)*delta_mu*P2(mu_nonPBC[j])\n",
      "<ipython-input-21-f8d66f1b9a60>:25: RuntimeWarning: invalid value encountered in double_scalars\n",
      "  xi2_nonPBC[ii] += ((DDsmu_nonPBC[j])/RR_mus-1)*delta_mu*P2(mu_nonPBC[j])\n",
      "<ipython-input-21-f8d66f1b9a60>:24: RuntimeWarning: invalid value encountered in double_scalars\n",
      "  xi0_nonPBC[ii] += ((DDsmu_nonPBC[j])/RR_mus-1)*P0*delta_mu\n",
      "<ipython-input-21-f8d66f1b9a60>:46: RuntimeWarning: invalid value encountered in double_scalars\n",
      "  a0 += (A_0_05[j,i] - xi_dd0s_05_PH[i])**2\n"
     ]
    }
   ],
   "source": [
    "#test with reproducing PH\n",
    "A_0_05 = np.zeros((ndata,nbins))\n",
    "A_2_05 = np.zeros((ndata,nbins))\n",
    "for i in range (0,ndata):\n",
    "\n",
    "    #load results for 8 realizations\n",
    "    DDsmu_nonPBC = np.loadtxt(path+'/my-f-code/results/dds-cutbox05Lnew-nonPBC-realization'\n",
    "                         +realizations[i]+'.txt', usecols = (0))\n",
    "    mu_nonPBC    = np.loadtxt(path+'/my-f-code/results/dds-cutbox05Lnew-nonPBC-realization'\n",
    "                         +realizations[i]+'.txt', usecols = (2))\n",
    "\n",
    "    # RR pairs count\n",
    "    RRs_nonPBC = np.loadtxt(path+'/my-f-code/results/RRs-cutbox05Lnew-nonPBC-realization'\n",
    "                         +realizations[i]+'.txt', usecols = (0))\n",
    "    DR = np.loadtxt(path+'/my-f-code/results/DRs-cutbox05Lnew-nonPBC-realization'\n",
    "                         +realizations[i]+'.txt', usecols = (0))\n",
    "       \n",
    "    xi0_nonPBC = np.zeros(nbins)\n",
    "    xi2_nonPBC = np.zeros(nbins)\n",
    "\n",
    "    for ii in range(0,nbins):\n",
    "        RR_mus = RRs_nonPBC[ii]/nmu_bins\n",
    "        for j in range ((ii)*nmu_bins,(ii+1)*nmu_bins):\n",
    "            xi0_nonPBC[ii] += ((DDsmu_nonPBC[j])/RR_mus-1)*P0*delta_mu \n",
    "            xi2_nonPBC[ii] += ((DDsmu_nonPBC[j])/RR_mus-1)*delta_mu*P2(mu_nonPBC[j])\n",
    "\n",
    "    #monopole    \n",
    "    A_0_05[i] = xi0_nonPBC\n",
    "    \n",
    "    #quadrupole\n",
    "    A_2_05[i] = xi2_nonPBC*(2*l2+1)\n",
    "# calculate the average of 8 realizations and error bars, F code\n",
    "xi_dd0s_05_PH = np.zeros(nbins)\n",
    "xi_dd2s_05_PH = np.zeros(nbins)\n",
    "\n",
    "for i in range(0,nbins):\n",
    "    xi_dd0s_05_PH[i] = np.mean(A_0_05[0:ndata,i])\n",
    "    xi_dd2s_05_PH[i] = np.mean(A_2_05[0:ndata,i])\n",
    "\n",
    "error_xi_dd0s_05_PH = np.zeros(nbins)\n",
    "error_xi_dd2s_05_PH = np.zeros(nbins)\n",
    "for i in range(0,nbins):\n",
    "    a0 = 0\n",
    "    a2 = 0\n",
    "    for j in range(0,ndata):\n",
    "        a0 += (A_0_05[j,i] - xi_dd0s_05_PH[i])**2\n",
    "        a2 += (A_2_05[j,i] - xi_dd2s_05_PH[i])**2\n",
    "    error_xi_dd0s_05_PH[i] = np.sqrt(a0/((ndata-1)*ndata)) #standard error of the mean\n",
    "    error_xi_dd2s_05_PH[i] = np.sqrt(a2/((ndata-1)*ndata))    "
   ]
  },
  {
   "cell_type": "code",
   "execution_count": 10,
   "id": "d66cbad1-1e44-40e1-a850-acdbca93ebd1",
   "metadata": {},
   "outputs": [
    {
     "name": "stderr",
     "output_type": "stream",
     "text": [
      "<ipython-input-10-5e9dd9a28107>:24: RuntimeWarning: divide by zero encountered in double_scalars\n",
      "  xi0_nonPBC[ii] += ((DDsmu_nonPBC[j]-2*DR[j])/RR_mus+1)*P0*delta_mu\n",
      "<ipython-input-10-5e9dd9a28107>:25: RuntimeWarning: divide by zero encountered in double_scalars\n",
      "  xi2_nonPBC[ii] += ((DDsmu_nonPBC[j]-2*DR[j])/RR_mus+1)*delta_mu*P2(mu_nonPBC[j])\n",
      "<ipython-input-10-5e9dd9a28107>:24: RuntimeWarning: invalid value encountered in double_scalars\n",
      "  xi0_nonPBC[ii] += ((DDsmu_nonPBC[j]-2*DR[j])/RR_mus+1)*P0*delta_mu\n",
      "<ipython-input-10-5e9dd9a28107>:25: RuntimeWarning: invalid value encountered in double_scalars\n",
      "  xi2_nonPBC[ii] += ((DDsmu_nonPBC[j]-2*DR[j])/RR_mus+1)*delta_mu*P2(mu_nonPBC[j])\n"
     ]
    }
   ],
   "source": [
    "#LS estimator\n",
    "A_0_07 = np.zeros((ndata,nbins))\n",
    "A_2_07 = np.zeros((ndata,nbins))\n",
    "for i in range (0,ndata):\n",
    "\n",
    "    #load results for 8 realizations\n",
    "    DDsmu_nonPBC = np.loadtxt(path+'/my-f-code/results/dds-cutbox07Lnew-nonPBC-realization'\n",
    "                         +realizations[i]+'.txt', usecols = (0))\n",
    "    mu_nonPBC    = np.loadtxt(path+'/my-f-code/results/dds-cutbox07Lnew-nonPBC-realization'\n",
    "                         +realizations[i]+'.txt', usecols = (2))\n",
    "\n",
    "    # RR pairs count\n",
    "    RRs_nonPBC = np.loadtxt(path+'/my-f-code/results/RRs-cutbox07Lnew-nonPBC-realization'\n",
    "                         +realizations[i]+'.txt', usecols = (0))\n",
    "    DR = np.loadtxt(path+'/my-f-code/results/DRs-cutbox07Lnew-nonPBC-realization'\n",
    "                         +realizations[i]+'.txt', usecols = (0))\n",
    "        \n",
    "    xi0_nonPBC = np.zeros(nbins)\n",
    "    xi2_nonPBC = np.zeros(nbins)\n",
    "\n",
    "    for ii in range(0,nbins):\n",
    "        RR_mus = RRs_nonPBC[ii]/nmu_bins\n",
    "        for j in range ((ii)*nmu_bins,(ii+1)*nmu_bins):\n",
    "            xi0_nonPBC[ii] += ((DDsmu_nonPBC[j]-2*DR[j])/RR_mus+1)*P0*delta_mu \n",
    "            xi2_nonPBC[ii] += ((DDsmu_nonPBC[j]-2*DR[j])/RR_mus+1)*delta_mu*P2(mu_nonPBC[j])\n",
    "\n",
    "    #monopole    \n",
    "    A_0_07[i] = xi0_nonPBC\n",
    "    \n",
    "    #quadrupole\n",
    "    A_2_07[i] = xi2_nonPBC*(2*l2+1)\n",
    "# calculate the average of 8 realizations and error bars, F code\n",
    "xi_dd0s_07_LS = np.zeros(nbins)\n",
    "xi_dd2s_07_LS = np.zeros(nbins)\n",
    "\n",
    "for i in range(0,nbins):\n",
    "    xi_dd0s_07_LS[i] = np.mean(A_0_07[0:ndata,i])\n",
    "    xi_dd2s_07_LS[i] = np.mean(A_2_07[0:ndata,i])\n",
    "\n",
    "error_xi_dd0s_07_LS = np.zeros(nbins)\n",
    "error_xi_dd2s_07_LS = np.zeros(nbins)\n",
    "for i in range(0,nbins):\n",
    "    a0 = 0\n",
    "    a2 = 0\n",
    "    for j in range(0,ndata):\n",
    "        a0 += (A_0_07[j,i] - xi_dd0s_07_LS[i])**2\n",
    "        a2 += (A_2_07[j,i] - xi_dd2s_07_LS[i])**2\n",
    "    error_xi_dd0s_07_LS[i] = np.sqrt(a0/((ndata-1)*ndata)) #standard error of the mean\n",
    "    error_xi_dd2s_07_LS[i] = np.sqrt(a2/((ndata-1)*ndata))\n",
    "    "
   ]
  },
  {
   "cell_type": "code",
   "execution_count": 15,
   "id": "7607e135-e1bd-4101-8caf-86e40319a2ff",
   "metadata": {},
   "outputs": [
    {
     "name": "stderr",
     "output_type": "stream",
     "text": [
      "<ipython-input-15-8a4fdd5225b0>:24: RuntimeWarning: divide by zero encountered in double_scalars\n",
      "  xi0_nonPBC[ii] += ((DDsmu_nonPBC[j])/RR_mus-1)*P0*delta_mu\n",
      "<ipython-input-15-8a4fdd5225b0>:25: RuntimeWarning: divide by zero encountered in double_scalars\n",
      "  xi2_nonPBC[ii] += ((DDsmu_nonPBC[j])/RR_mus-1)*delta_mu*P2(mu_nonPBC[j])\n",
      "<ipython-input-15-8a4fdd5225b0>:24: RuntimeWarning: invalid value encountered in double_scalars\n",
      "  xi0_nonPBC[ii] += ((DDsmu_nonPBC[j])/RR_mus-1)*P0*delta_mu\n",
      "<ipython-input-15-8a4fdd5225b0>:25: RuntimeWarning: invalid value encountered in double_scalars\n",
      "  xi2_nonPBC[ii] += ((DDsmu_nonPBC[j])/RR_mus-1)*delta_mu*P2(mu_nonPBC[j])\n"
     ]
    }
   ],
   "source": [
    "#test with reproducing PH\n",
    "A_0_07 = np.zeros((ndata,nbins))\n",
    "A_2_07 = np.zeros((ndata,nbins))\n",
    "for i in range (0,ndata):\n",
    "\n",
    "    #load results for 8 realizations\n",
    "    DDsmu_nonPBC = np.loadtxt(path+'/my-f-code/results/dds-cutbox07Lnew-nonPBC-realization'\n",
    "                         +realizations[i]+'.txt', usecols = (0))\n",
    "    mu_nonPBC    = np.loadtxt(path+'/my-f-code/results/dds-cutbox07Lnew-nonPBC-realization'\n",
    "                         +realizations[i]+'.txt', usecols = (2))\n",
    "\n",
    "    # RR pairs count\n",
    "    RRs_nonPBC = np.loadtxt(path+'/my-f-code/results/RRs-cutbox07Lnew-nonPBC-realization'\n",
    "                         +realizations[i]+'.txt', usecols = (0))\n",
    "    DR = np.loadtxt(path+'/my-f-code/results/DRs-cutbox07Lnew-nonPBC-realization'\n",
    "                         +realizations[i]+'.txt', usecols = (0))\n",
    "        \n",
    "    xi0_nonPBC = np.zeros(nbins)\n",
    "    xi2_nonPBC = np.zeros(nbins)\n",
    "\n",
    "    for ii in range(0,nbins):\n",
    "        RR_mus = RRs_nonPBC[ii]/nmu_bins\n",
    "        for j in range ((ii)*nmu_bins,(ii+1)*nmu_bins):\n",
    "            xi0_nonPBC[ii] += ((DDsmu_nonPBC[j])/RR_mus-1)*P0*delta_mu \n",
    "            xi2_nonPBC[ii] += ((DDsmu_nonPBC[j])/RR_mus-1)*delta_mu*P2(mu_nonPBC[j])\n",
    "\n",
    "    #monopole    \n",
    "    A_0_07[i] = xi0_nonPBC\n",
    "    \n",
    "    #quadrupole\n",
    "    A_2_07[i] = xi2_nonPBC*(2*l2+1)\n",
    "# calculate the average of 8 realizations and error bars, F code\n",
    "xi_dd0s_07_PH = np.zeros(nbins)\n",
    "xi_dd2s_07_PH = np.zeros(nbins)\n",
    "\n",
    "for i in range(0,nbins):\n",
    "    xi_dd0s_07_PH[i] = np.mean(A_0_07[0:ndata,i])\n",
    "    xi_dd2s_07_PH[i] = np.mean(A_2_07[0:ndata,i])\n",
    "\n",
    "error_xi_dd0s_07_PH = np.zeros(nbins)\n",
    "error_xi_dd2s_07_PH = np.zeros(nbins)\n",
    "for i in range(0,nbins):\n",
    "    a0 = 0\n",
    "    a2 = 0\n",
    "    for j in range(0,ndata):\n",
    "        a0 += (A_0_07[j,i] - xi_dd0s_07_PH[i])**2\n",
    "        a2 += (A_2_07[j,i] - xi_dd2s_07_PH[i])**2\n",
    "    error_xi_dd0s_07_PH[i] = np.sqrt(a0/((ndata-1)*ndata)) #standard error of the mean\n",
    "    error_xi_dd2s_07_PH[i] = np.sqrt(a2/((ndata-1)*ndata))\n",
    "    "
   ]
  },
  {
   "cell_type": "code",
   "execution_count": 11,
   "id": "dc95d24a-0369-4358-b384-0c6dc1a2cbd6",
   "metadata": {},
   "outputs": [],
   "source": [
    "#with Landy-Szalay estimator (DD-2DR+RR)/RR = (DD-2DR)/RR + 1\n",
    "A_0_f = np.zeros((ndata,nbins))\n",
    "A_2_f = np.zeros((ndata,nbins))\n",
    "for i in range (0,ndata):\n",
    "\n",
    "    #load results for 8 realizations\n",
    "    DDsmu_nonPBC = np.loadtxt(path+'/my-f-code/results/dds-fullboxnew-nonPBC-realization'\n",
    "                         +realizations[i]+'.txt', usecols = (0))\n",
    "    mu_nonPBC    = np.loadtxt(path+'/my-f-code/results/dds-fullboxnew-nonPBC-realization'\n",
    "                         +realizations[i]+'.txt', usecols = (2))\n",
    "\n",
    "    # RR, DR pairs count\n",
    "    RRs_nonPBC = np.loadtxt(path+'/my-f-code/results/RRs-fullboxnew-nonPBC-realization'\n",
    "                         +realizations[i]+'.txt', usecols = (0))\n",
    "     \n",
    "    DR = np.loadtxt(path+'/my-f-code/results/DRs-fullboxnew-nonPBC-realization'\n",
    "                         +realizations[i]+'.txt', usecols = (0))\n",
    "        \n",
    "    xi0_nonPBC = np.zeros(nbins)\n",
    "    xi2_nonPBC = np.zeros(nbins)\n",
    " \n",
    "    for ii in range(0,nbins):\n",
    "        RR_mus = RRs_nonPBC[ii]/nmu_bins\n",
    "        for j in range ((ii)*nmu_bins,(ii+1)*nmu_bins):\n",
    "            xi0_nonPBC[ii] += ((DDsmu_nonPBC[j]-2*DR[j])/RR_mus+1)*P0*delta_mu \n",
    "            xi2_nonPBC[ii] += ((DDsmu_nonPBC[j]-2*DR[j])/RR_mus+1)*delta_mu*P2(mu_nonPBC[j])\n",
    "   \n",
    "    #monopole    \n",
    "    A_0_f[i] = xi0_nonPBC\n",
    "   \n",
    "    #quadrupole\n",
    "    A_2_f[i] = xi2_nonPBC*(2*l2+1)\n",
    "\n",
    "# calculate the average of 8 realizations and error bars, F code\n",
    "xi_dd0s_LS = np.zeros(nbins)\n",
    "xi_dd2s_LS = np.zeros(nbins)\n",
    "\n",
    "for i in range(0,nbins):\n",
    "    xi_dd0s_LS[i] = np.mean(A_0_f[0:ndata,i])\n",
    "    xi_dd2s_LS[i] = np.mean(A_2_f[0:ndata,i])\n",
    "\n",
    "error_xi_dd0s_LS = np.zeros(nbins)\n",
    "error_xi_dd2s_LS = np.zeros(nbins)\n",
    "for i in range(0,nbins):\n",
    "    a0 = 0\n",
    "    a2 = 0\n",
    "    for j in range(0,ndata):\n",
    "        a0 += (A_0_f[j,i] - xi_dd0s_LS[i])**2\n",
    "        a2 += (A_2_f[j,i] - xi_dd2s_LS[i])**2\n",
    "    error_xi_dd0s_LS[i] = np.sqrt(a0/((ndata-1)*ndata)) #standard error of the mean\n",
    "    error_xi_dd2s_LS[i] = np.sqrt(a2/((ndata-1)*ndata))\n"
   ]
  },
  {
   "cell_type": "code",
   "execution_count": 12,
   "id": "6a665eea-aac5-48ac-862b-8a0b5803d29f",
   "metadata": {},
   "outputs": [],
   "source": [
    "#test, reproduce the PH estimator\n",
    "A_0_f = np.zeros((ndata,nbins))\n",
    "A_2_f = np.zeros((ndata,nbins))\n",
    "for i in range (0,ndata):\n",
    "\n",
    "    #load results for 8 realizations\n",
    "    DDsmu_nonPBC = np.loadtxt(path+'/my-f-code/results/dds-fullboxnew-nonPBC-realization'\n",
    "                         +realizations[i]+'.txt', usecols = (0))\n",
    "    mu_nonPBC    = np.loadtxt(path+'/my-f-code/results/dds-fullboxnew-nonPBC-realization'\n",
    "                         +realizations[i]+'.txt', usecols = (2))\n",
    "\n",
    "    # RR, DR pairs count\n",
    "    RRs_nonPBC = np.loadtxt(path+'/my-f-code/results/RRs-fullboxnew-nonPBC-realization'\n",
    "                         +realizations[i]+'.txt', usecols = (0))\n",
    "     \n",
    "    DR = np.loadtxt(path+'/my-f-code/results/DRs-fullboxnew-nonPBC-realization'\n",
    "                         +realizations[i]+'.txt', usecols = (0))\n",
    "        \n",
    "    xi0_nonPBC = np.zeros(nbins)\n",
    "    xi2_nonPBC = np.zeros(nbins)\n",
    " \n",
    "    for ii in range(0,nbins):\n",
    "        RR_mus = RRs_nonPBC[ii]/nmu_bins\n",
    "        for j in range ((ii)*nmu_bins,(ii+1)*nmu_bins):\n",
    "            xi0_nonPBC[ii] += ((DDsmu_nonPBC[j])/RR_mus-1)*P0*delta_mu \n",
    "            xi2_nonPBC[ii] += ((DDsmu_nonPBC[j])/RR_mus-1)*delta_mu*P2(mu_nonPBC[j])\n",
    "   \n",
    "    #monopole    \n",
    "    A_0_f[i] = xi0_nonPBC\n",
    "   \n",
    "    #quadrupole\n",
    "    A_2_f[i] = xi2_nonPBC*(2*l2+1)\n",
    "\n",
    "# calculate the average of 8 realizations and error bars, F code\n",
    "xi_dd0s_PH = np.zeros(nbins)\n",
    "xi_dd2s_PH = np.zeros(nbins)\n",
    "\n",
    "for i in range(0,nbins):\n",
    "    xi_dd0s_PH[i] = np.mean(A_0_f[0:ndata,i])\n",
    "    xi_dd2s_PH[i] = np.mean(A_2_f[0:ndata,i])\n",
    "\n",
    "error_xi_dd0s_PH = np.zeros(nbins)\n",
    "error_xi_dd2s_PH = np.zeros(nbins)\n",
    "for i in range(0,nbins):\n",
    "    a0 = 0\n",
    "    a2 = 0\n",
    "    for j in range(0,ndata):\n",
    "        a0 += (A_0_f[j,i] - xi_dd0s_PH[i])**2\n",
    "        a2 += (A_2_f[j,i] - xi_dd2s_PH[i])**2\n",
    "    error_xi_dd0s_PH[i] = np.sqrt(a0/((ndata-1)*ndata)) #standard error of the mean\n",
    "    error_xi_dd2s_PH[i] = np.sqrt(a2/((ndata-1)*ndata))\n"
   ]
  },
  {
   "cell_type": "code",
   "execution_count": 23,
   "id": "80823f72-7604-43ea-a178-786e16b15789",
   "metadata": {},
   "outputs": [
    {
     "data": {
      "text/plain": [
       "<matplotlib.legend.Legend at 0x7ff6b6d86130>"
      ]
     },
     "execution_count": 23,
     "metadata": {},
     "output_type": "execute_result"
    },
    {
     "data": {
      "image/png": "[encoded data removed]",
      "text/plain": [
       "<Figure size 432x288 with 1 Axes>"
      ]
     },
     "metadata": {
      "needs_background": "light"
     },
     "output_type": "display_data"
    }
   ],
   "source": [
    "#LS estimator\n",
    "ax = plt.axes()\n",
    "ax.set_xscale(\"log\")\n",
    "#ax.set_yscale(\"log\")\n",
    "ax.errorbar(r, -xi_dd2s_03_LS*r**2, fmt ='y--',yerr = error_xi_dd2s_03_LS*r**2 ,label=\"LS 0.3L\")\n",
    "ax.errorbar(r, -xi_dd2s_03_PH*r**2, fmt ='y.',yerr = error_xi_dd2s_03_PH*r**2 ,label=\"PH 0.3L\")\n",
    "ax.errorbar(r, -xi_dd2s_05_LS*r**2, fmt ='r--',yerr = error_xi_dd2s_05_LS*r**2 ,label=\"LS 0.5L\")\n",
    "ax.errorbar(r, -xi_dd2s_05_PH*r**2, fmt ='r.',yerr = error_xi_dd2s_05_PH*r**2 ,label=\"PH 0.5L\")\n",
    "ax.errorbar(r, -xi_dd2s_07_LS*r**2, fmt ='g--',yerr = error_xi_dd2s_07_LS*r**2 ,label=\"LS 0.7L\")\n",
    "ax.errorbar(r, -xi_dd2s_07_PH*r**2, fmt ='g.',yerr = error_xi_dd2s_07_PH*r**2 ,label=\"PH 0.7L\")\n",
    "#ax.errorbar(r, -xi_dd2s_LS*r**2, fmt ='--',yerr = error_xi_dd2s_LS*r**2 ,label=\"LS non PBC\")\n",
    "#ax.errorbar(r, -xi_dd2s_pbc_LS*r**2, fmt ='-',yerr = error_xi_dd2s_pbc_LS*r**2  ,label=\"LS PBC\")\n",
    "ax.set_ylabel(\"$-\\\\xi_{dd,2}^s.s^2$\")\n",
    "ax.set_xlabel(\"s[h$^{-1}$Mpc]\")\n",
    "#ax.set_xlim(1,100)\n",
    "ax.set_ylim(-500,500)\n",
    "ax.legend(loc=(1.1,0))\n",
    "#plt.savefig('dds2-cutbox-correct.pdf')\n",
    "#plt.savefig('dds2-03.png')"
   ]
  },
  {
   "cell_type": "code",
   "execution_count": 13,
   "id": "c51d819c-9782-421b-a8c7-4a189fc7f110",
   "metadata": {},
   "outputs": [],
   "source": [
    "#with Landy-Szalay estimator (DD-2DR+RR)/RR = (DD-2DR)/RR + 1\n",
    "A_0_f = np.zeros((ndata,nbins))\n",
    "A_2_f = np.zeros((ndata,nbins))\n",
    "for i in range (0,ndata):\n",
    "\n",
    "    #load results for 8 realizations\n",
    "    DDsmu_PBC = np.loadtxt(path+'/my-f-code/results/dds-fullboxnew-PBC-realization'\n",
    "                         +realizations[i]+'.txt', usecols = (0))\n",
    "    mu_PBC    = np.loadtxt(path+'/my-f-code/results/dds-fullboxnew-PBC-realization'\n",
    "                         +realizations[i]+'.txt', usecols = (2))\n",
    "\n",
    "    # RR, DR pairs count\n",
    "    RRs_PBC = np.loadtxt(path+'/my-f-code/results/RRs-fullboxnew-PBC-realization'\n",
    "                         +realizations[i]+'.txt', usecols = (0))\n",
    "     \n",
    "    DR = np.loadtxt(path+'/my-f-code/results/DRs-fullboxnew-PBC-realization'\n",
    "                         +realizations[i]+'.txt', usecols = (0))\n",
    "        \n",
    "    xi0_PBC = np.zeros(nbins)\n",
    "    xi2_PBC = np.zeros(nbins)\n",
    " \n",
    "    for ii in range(0,nbins):\n",
    "        RR_mus = RRs_PBC[ii]/nmu_bins\n",
    "        for j in range ((ii)*nmu_bins,(ii+1)*nmu_bins):\n",
    "            xi0_PBC[ii] += ((DDsmu_PBC[j]-2*DR[j])/RR_mus+1)*P0*delta_mu \n",
    "            xi2_PBC[ii] += ((DDsmu_PBC[j]-2*DR[j])/RR_mus+1)*delta_mu*P2(mu_PBC[j])\n",
    "   \n",
    "    #monopole    \n",
    "    A_0_f[i] = xi0_PBC\n",
    "   \n",
    "    #quadrupole\n",
    "    A_2_f[i] = xi2_PBC*(2*l2+1)\n",
    "\n",
    "# calculate the average of 8 realizations and error bars, F code\n",
    "xi_dd0s_pbc_LS = np.zeros(nbins)\n",
    "xi_dd2s_pbc_LS = np.zeros(nbins)\n",
    "\n",
    "for i in range(0,nbins):\n",
    "    xi_dd0s_pbc_LS[i] = np.mean(A_0_f[0:ndata,i])\n",
    "    xi_dd2s_pbc_LS[i] = np.mean(A_2_f[0:ndata,i])\n",
    "\n",
    "error_xi_dd0s_pbc_LS = np.zeros(nbins)\n",
    "error_xi_dd2s_pbc_LS = np.zeros(nbins)\n",
    "for i in range(0,nbins):\n",
    "    a0 = 0\n",
    "    a2 = 0\n",
    "    for j in range(0,ndata):\n",
    "        a0 += (A_0_f[j,i] - xi_dd0s_pbc_LS[i])**2\n",
    "        a2 += (A_2_f[j,i] - xi_dd2s_pbc_LS[i])**2\n",
    "    error_xi_dd0s_pbc_LS[i] = np.sqrt(a0/((ndata-1)*ndata)) #standard error of the mean\n",
    "    error_xi_dd2s_pbc_LS[i] = np.sqrt(a2/((ndata-1)*ndata))\n"
   ]
  },
  {
   "cell_type": "code",
   "execution_count": 24,
   "id": "930c950e-c426-4556-899b-7c7f00a10348",
   "metadata": {},
   "outputs": [
    {
     "data": {
      "text/plain": [
       "<matplotlib.legend.Legend at 0x7ff6b71e7e80>"
      ]
     },
     "execution_count": 24,
     "metadata": {},
     "output_type": "execute_result"
    },
    {
     "data": {
      "image/png": "[encoded data removed]",
      "text/plain": [
       "<Figure size 432x288 with 1 Axes>"
      ]
     },
     "metadata": {
      "needs_background": "light"
     },
     "output_type": "display_data"
    }
   ],
   "source": [
    "#plot LS estimator\n",
    "ax = plt.axes()\n",
    "ax.set_xscale(\"log\")\n",
    "#ax.set_yscale(\"log\")\n",
    "ax.errorbar(r, xi_dd0s_03_LS*r**2, fmt ='y--',yerr = error_xi_dd0s_03_LS*r**2 ,label=\"LS 0.3L\")\n",
    "ax.errorbar(r, xi_dd0s_05_LS*r**2, fmt ='r--',yerr = error_xi_dd0s_05_LS*r**2 ,label=\" 0.5L\")\n",
    "ax.errorbar(r, xi_dd0s_07_LS*r**2, fmt ='g--',yerr = error_xi_dd0s_07_LS*r**2 ,label=\"LS 0.7L\")\n",
    "#ax.errorbar(r, xi_dd0s_07_PH*r**2, fmt ='y.',yerr = error_xi_dd0s_07_PH*r**2 ,label=\"PH 0.7L\")\n",
    "ax.errorbar(r, xi_dd0s_LS*r**2, fmt ='--',yerr = error_xi_dd0s_LS*r**2,label=\"LS non PBC\")\n",
    "#ax.errorbar(r, xi_dd0s_PH*r**2, fmt ='--',yerr = error_xi_dd0s_PH*r**2,label=\"PH non PBC\")\n",
    "ax.errorbar(r, xi_dd0s_pbc_LS*r**2,fmt ='-',yerr = error_xi_dd0s_pbc_LS*r**2,label=\"LS PBC\")\n",
    "ax.set_ylabel(\"$\\\\xi_{dd,0}^s.s^2$\")\n",
    "ax.set_xlabel(\"s[h$^{-1}$Mpc]\")\n",
    "#ax.set_xlim(1,100)\n",
    "#ax.set_ylim(-1000,500)\n",
    "ax.legend()#(loc=(1.1,0))\n",
    "#plt.savefig('dds0-cutbox-correct.pdf')\n",
    "#plt.savefig('dds0-05.png')"
   ]
  },
  {
   "cell_type": "code",
   "execution_count": 25,
   "id": "38cde1d7-878c-4021-9989-90fd0bee5760",
   "metadata": {},
   "outputs": [
    {
     "data": {
      "text/plain": [
       "<matplotlib.legend.Legend at 0x7ff6b73d8e80>"
      ]
     },
     "execution_count": 25,
     "metadata": {},
     "output_type": "execute_result"
    },
    {
     "data": {
      "image/png": "[encoded data removed]",
      "text/plain": [
       "<Figure size 432x288 with 1 Axes>"
      ]
     },
     "metadata": {
      "needs_background": "light"
     },
     "output_type": "display_data"
    }
   ],
   "source": [
    "#LS estimator\n",
    "ax = plt.axes()\n",
    "ax.set_xscale(\"log\")\n",
    "#ax.set_yscale(\"log\")\n",
    "ax.errorbar(r, -xi_dd2s_03_LS*r**2, fmt ='y--',yerr = error_xi_dd2s_03_LS*r**2 ,label=\"LS 0.3L\")\n",
    "ax.errorbar(r, -xi_dd2s_05_LS*r**2, fmt ='r--',yerr = error_xi_dd2s_05_LS*r**2 ,label=\"LS 0.5L\")\n",
    "ax.errorbar(r, -xi_dd2s_07_LS*r**2, fmt ='g--',yerr = error_xi_dd2s_07_LS*r**2 ,label=\"LS 0.7L\")\n",
    "#ax.errorbar(r, -xi_dd2s_07_PH*r**2, fmt ='y--',yerr = error_xi_dd2s_07_PH*r**2 ,label=\"PH 0.7L\")\n",
    "ax.errorbar(r, -xi_dd2s_LS*r**2, fmt ='--',yerr = error_xi_dd2s_LS*r**2 ,label=\"LS non PBC\")\n",
    "ax.errorbar(r, -xi_dd2s_pbc_LS*r**2, fmt ='-',yerr = error_xi_dd2s_pbc_LS*r**2  ,label=\"LS PBC\")\n",
    "ax.set_ylabel(\"$-\\\\xi_{dd,2}^s.s^2$\")\n",
    "ax.set_xlabel(\"s[h$^{-1}$Mpc]\")\n",
    "#ax.set_xlim(1,100)\n",
    "ax.set_ylim(-500,200)\n",
    "ax.legend(loc=(1.1,0))\n",
    "#plt.savefig('dds2-cutbox-correct.pdf')\n",
    "#plt.savefig('dds2-03.png')"
   ]
  },
  {
   "cell_type": "markdown",
   "id": "9e26a760-bb9b-4ea5-a46c-34b2a71d897c",
   "metadata": {},
   "source": [
    "plot with the cut off theoretical curves"
   ]
  },
  {
   "cell_type": "code",
   "execution_count": 15,
   "id": "0703f39b-9fdb-4beb-b8e8-85dc4dcedd4f",
   "metadata": {},
   "outputs": [],
   "source": [
    "# density auto-correlation in redshiftspace, theory, Fortran code \n",
    "xi_dd0_th = np.loadtxt(path+'/my-f-code/results/xi-dd0-th.txt', usecols=(1))\n",
    "xi_dd0_th *= K0*b**2\n",
    "xi_dd2_th = np.loadtxt(path+'/my-f-code/results/xi-dd2-th.txt', usecols=(1))\n",
    "xi_dd2_th *= K2*b**2\n",
    "\n",
    "# density auto-correlation cut-off in redshiftspace, theory, Fortran code \n",
    "xi_dd0_th_cut = np.loadtxt(path+'/my-f-code/results/xi-dd0-th-cut.txt', usecols=(1))\n",
    "xi_dd0_th_cut *= K0*b**2\n",
    "xi_dd2_th_cut = np.loadtxt(path+'/my-f-code/results/xi-dd2-th-cut.txt', usecols=(1))\n",
    "xi_dd2_th_cut *= K2*b**2\n"
   ]
  },
  {
   "cell_type": "code",
   "execution_count": 19,
   "id": "308086bf-8091-49e5-89a3-26fbf39a25e6",
   "metadata": {},
   "outputs": [
    {
     "data": {
      "text/plain": [
       "<matplotlib.legend.Legend at 0x7f8e66927370>"
      ]
     },
     "execution_count": 19,
     "metadata": {},
     "output_type": "execute_result"
    },
    {
     "data": {
      "image/png": "[encoded data removed]",
      "text/plain": [
       "<Figure size 432x288 with 1 Axes>"
      ]
     },
     "metadata": {
      "needs_background": "light"
     },
     "output_type": "display_data"
    }
   ],
   "source": [
    "ax = plt.axes()\n",
    "ax.set_xscale(\"log\")\n",
    "#ax.set_yscale(\"log\")\n",
    "ax.errorbar(r, xi_dd0s_03_LS*r**2, fmt ='y--',yerr = error_xi_dd0s_03_LS*r**2 ,label=\"LS 0.3L\")\n",
    "ax.errorbar(r, xi_dd0s_05_LS*r**2, fmt ='r--',yerr = error_xi_dd0s_05_LS*r**2 ,label=\" 0.5L\")\n",
    "ax.errorbar(r, xi_dd0s_07_LS*r**2, fmt ='g--',yerr = error_xi_dd0s_07_LS*r**2 ,label=\" 0.7L\")\n",
    "ax.errorbar(r, xi_dd0s_LS*r**2, fmt ='--',yerr = error_xi_dd0s_LS*r**2,label=\"LS non PBC\")\n",
    "ax.errorbar(r, xi_dd0s_pbc_LS*r**2,fmt ='-',yerr = error_xi_dd0s_pbc_LS*r**2,label=\"LS PBC\")\n",
    "ax.plot(r, xi_dd0_th_cut*r**2,'.' ,label=\"cut\")\n",
    "ax.plot(r, xi_dd0_th*r**2,'r-' ,label=\"Lin\")\n",
    "ax.set_ylabel(\"$\\\\xi_{dd,0}^s.s^2$\")\n",
    "ax.set_xlabel(\"s[h$^{-1}$Mpc]\")\n",
    "#ax.set_xlim(1,100)\n",
    "ax.set_ylim(-250,400)\n",
    "ax.legend(loc=(1.1,0))\n",
    "#plt.savefig('dds0-cutbox.pdf')\n",
    "#plt.savefig('dds0-Lincut.png')"
   ]
  },
  {
   "cell_type": "code",
   "execution_count": 18,
   "id": "a80f4579-e9db-4b9f-86f4-c624affdb360",
   "metadata": {},
   "outputs": [
    {
     "data": {
      "text/plain": [
       "<matplotlib.legend.Legend at 0x7f8e6679aca0>"
      ]
     },
     "execution_count": 18,
     "metadata": {},
     "output_type": "execute_result"
    },
    {
     "data": {
      "image/png": "[encoded data removed]",
      "text/plain": [
       "<Figure size 432x288 with 1 Axes>"
      ]
     },
     "metadata": {
      "needs_background": "light"
     },
     "output_type": "display_data"
    }
   ],
   "source": [
    "ax = plt.axes()\n",
    "ax.set_xscale(\"log\")\n",
    "#ax.set_yscale(\"log\")\n",
    "ax.errorbar(r, -xi_dd2s_03_LS*r**2, fmt ='y--',yerr = error_xi_dd2s_03_LS*r**2 ,label=\"LS 0.3L\")\n",
    "ax.errorbar(r, -xi_dd2s_05_LS*r**2, fmt ='r--',yerr = error_xi_dd2s_05_LS*r**2 ,label=\"LS 0.5L\")\n",
    "ax.errorbar(r, -xi_dd2s_07_LS*r**2, fmt ='g--',yerr = error_xi_dd2s_07_LS*r**2 ,label=\"LS 0.7L\")\n",
    "ax.errorbar(r, -xi_dd2s_LS*r**2, fmt ='--',yerr = error_xi_dd2s_LS*r**2 ,label=\"LS non PBC\")\n",
    "ax.errorbar(r, -xi_dd2s_pbc_LS*r**2, fmt ='-',yerr = error_xi_dd2s_pbc_LS*r**2  ,label=\"LS PBC\")\n",
    "ax.plot(r, -xi_dd2_th_cut*r**2,'.' ,label=\"cut\")\n",
    "ax.plot(r, -xi_dd2_th*r**2,'r-' ,label=\"Lin\")\n",
    "ax.set_ylabel(\"$-\\\\xi_{dd,2}^s.s^2$\")\n",
    "ax.set_xlabel(\"s[h$^{-1}$Mpc]\")\n",
    "#ax.set_xlim(1,100)\n",
    "ax.set_ylim(-200,200)\n",
    "ax.legend(loc=(1.1,0))\n",
    "#plt.savefig('dds2-cutbox.pdf')\n",
    "#plt.savefig('dds2-Lincut.png')"
   ]
  },
  {
   "cell_type": "code",
   "execution_count": null,
   "id": "70f9ac14-0c7f-40b0-ac22-1572e9f1ca01",
   "metadata": {},
   "outputs": [],
   "source": []
  }
 ],
 "metadata": {
  "kernelspec": {
   "display_name": "Python 3",
   "language": "python",
   "name": "python3"
  },
  "language_info": {
   "codemirror_mode": {
    "name": "ipython",
    "version": 3
   },
   "file_extension": ".py",
   "mimetype": "text/x-python",
   "name": "python",
   "nbconvert_exporter": "python",
   "pygments_lexer": "ipython3",
   "version": "3.8.8"
  }
 },
 "nbformat": 4,
 "nbformat_minor": 5
}
