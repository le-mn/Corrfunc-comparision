{
 "cells": [
  {
   "cell_type": "markdown",
   "id": "ae819846-5fca-48ad-a734-ca87dded050c",
   "metadata": {},
   "source": [
    "This is the copy of xi_dd_cutbox.ipynb, correct the mistake of cutting simulation box.\n",
    "\n",
    "Code using the module count_pair_DDsmu6 and main program corrfunc_cutbox7.f90 in my fortran code, after revise the mistake of cutbox in main program ver.5. The box is cut in z direction, consider nonPBC case. Compare to the previous results using fullbox PBC.\n",
    "\n",
    "For density auto-correlation function $\\xi_{dd,l}$ monopole in real space."
   ]
  },
  {
   "cell_type": "code",
   "execution_count": 55,
   "id": "ed24bc9a-a508-4135-98e8-65a9274b4cec",
   "metadata": {},
   "outputs": [],
   "source": [
    "from __future__ import print_function\n",
    "import numpy as np\n",
    "import matplotlib.pyplot as plt\n",
    "path ='/Users/ngoc/Desktop/Master-study/project'"
   ]
  },
  {
   "cell_type": "code",
   "execution_count": 56,
   "id": "05129d40",
   "metadata": {},
   "outputs": [],
   "source": [
    "#cosmological parameters\n",
    "z        = 0.306                   #redshift\n",
    "f        = 0.687255861             #growth rate\n",
    "Omg_lamb = 0.685                   #dark energy density parameter\n",
    "Omg_m    = 1. - Omg_lamb           #matter density parameter\n",
    "a        = 1./(1. + z)             #scale factor\n",
    "E_a      = np.sqrt(Omg_m*(1.+z)**3. + Omg_lamb) \n"
   ]
  },
  {
   "cell_type": "code",
   "execution_count": 57,
   "id": "f07bc370",
   "metadata": {},
   "outputs": [],
   "source": [
    "#simulation paramters\n",
    "boxsize  = 2000                    #length of 1D of the box [Mpc/h]\n",
    "nbins    = 50                      #number of bins\n",
    "rmin     = 1.\n",
    "rmax     = boxsize/3\n",
    "bins     = np.logspace(np.log10(rmin), np.log10(rmax), nbins+1)     \n",
    "mu_max   = 1                       #maximum value of cosine of the angle separated from the LOS\n",
    "nmu_bins = 10                      #number of bins of the angle separation \n",
    "delta_mu = mu_max/nmu_bins\n",
    "ndata    = 8                       #number of data\n",
    "realizations = \"12345678\"          #for reading the data\n",
    "\n",
    "#Legendre polynomials\n",
    "P0 = 1\n",
    "P2 = lambda mu: (3*mu**2-1)/2\n",
    "P4 = lambda mu: (35*mu**4 - 30*mu**2 + 3)/8 \n",
    "\n",
    "l0 = 0\n",
    "l2 = 2\n",
    "\n",
    "b        = 3.11   "
   ]
  },
  {
   "cell_type": "code",
   "execution_count": 58,
   "id": "9ee82984-990c-40ba-8017-081f1234592d",
   "metadata": {},
   "outputs": [],
   "source": [
    "# result of full simulation box + PBC\n",
    "xi_dd       = np.loadtxt(path+'/my-p-code/xi_dd_realspace.txt', usecols = 1)\n",
    "rdd         = np.loadtxt(path+'/my-p-code/xi_dd_realspace.txt', usecols = 0)\n",
    "error_xi_dd = np.loadtxt(path+'/my-p-code/xi_dd_realspace.txt', usecols = 2)"
   ]
  },
  {
   "cell_type": "code",
   "execution_count": 59,
   "id": "30f0e5e1-0a5d-4eed-93ae-f051ffc34502",
   "metadata": {},
   "outputs": [],
   "source": [
    "#load the theory curve and the cut of theory\n",
    "xi_dd_th    = np.loadtxt(path+'/my-f-code/results/xi-dd-th.txt', usecols = 1)\n",
    "xi_dd_th    *= b**2\n",
    "xi_dd_th_cut= np.loadtxt(path+'/my-f-code/results/xi-dd-th-cut.txt', usecols = 1)\n",
    "xi_dd_th_cut*= b**2"
   ]
  },
  {
   "cell_type": "code",
   "execution_count": 60,
   "id": "23242c04-641a-4ee0-a73f-bcff29acff3a",
   "metadata": {},
   "outputs": [
    {
     "name": "stderr",
     "output_type": "stream",
     "text": [
      "<ipython-input-60-4033ee6a4b87>:17: RuntimeWarning: invalid value encountered in double_scalars\n",
      "  xi0_nonPBC[ii] += (DDsmu_nonPBC[j]/RR_mus-1)*P0*delta_mu\n",
      "<ipython-input-60-4033ee6a4b87>:17: RuntimeWarning: divide by zero encountered in double_scalars\n",
      "  xi0_nonPBC[ii] += (DDsmu_nonPBC[j]/RR_mus-1)*P0*delta_mu\n"
     ]
    }
   ],
   "source": [
    "A_03 = np.zeros((ndata,nbins))\n",
    "for i in range (0,ndata):\n",
    "\n",
    "    #load results for 8 realizations\n",
    "    DDsmu_nonPBC = np.loadtxt(path+'/my-f-code/results/dd-cutbox03Lnew-nonPBC-realization'\n",
    "                         +realizations[i]+'.txt', usecols = (0))\n",
    "\n",
    "    # RR pairs count\n",
    "    RRs_nonPBC = np.loadtxt(path+'/my-f-code/results/RR-cutbox03Lnew-nonPBC-realization'\n",
    "                         +realizations[i]+'.txt', usecols = (0))\n",
    "        \n",
    "    xi0_nonPBC = np.zeros(nbins)\n",
    "\n",
    "    for ii in range(0,nbins):\n",
    "        RR_mus = RRs_nonPBC[ii]/nmu_bins\n",
    "        for j in range ((ii)*nmu_bins,(ii+1)*nmu_bins):\n",
    "            xi0_nonPBC[ii] += (DDsmu_nonPBC[j]/RR_mus-1)*P0*delta_mu \n",
    "\n",
    "    #monopole    \n",
    "    A_03[i] = xi0_nonPBC\n",
    "\n",
    "# calculate the average of 8 realizations and error bars, F code\n",
    "xi_03 = np.zeros(nbins)\n",
    "\n",
    "for i in range(0,nbins):\n",
    "    xi_03[i] = np.mean(A_03[0:ndata,i])\n",
    "\n",
    "error_xi_03 = np.zeros(nbins)\n",
    "for i in range(0,nbins):\n",
    "    a0 = 0\n",
    "    for j in range(0,ndata):\n",
    "        a0 += (A_03[j,i] - xi_03[i])**2\n",
    "    error_xi_03[i] = np.sqrt(a0/((ndata-1)*ndata)) #standard error of the mean\n"
   ]
  },
  {
   "cell_type": "code",
   "execution_count": 61,
   "id": "ef1532c1-85b1-4074-9021-818872538cf7",
   "metadata": {},
   "outputs": [
    {
     "name": "stderr",
     "output_type": "stream",
     "text": [
      "<ipython-input-61-438a1bf0e332>:19: RuntimeWarning: invalid value encountered in double_scalars\n",
      "  xi0_nonPBC[ii] += ((DDsmu_nonPBC[j]-2*DR[j])/RR_mus+1)*P0*delta_mu\n",
      "<ipython-input-61-438a1bf0e332>:19: RuntimeWarning: divide by zero encountered in double_scalars\n",
      "  xi0_nonPBC[ii] += ((DDsmu_nonPBC[j]-2*DR[j])/RR_mus+1)*P0*delta_mu\n",
      "<ipython-input-61-438a1bf0e332>:34: RuntimeWarning: invalid value encountered in double_scalars\n",
      "  a0 += (A_03[j,i] - xi_03_OMP[i])**2\n"
     ]
    }
   ],
   "source": [
    "A_03 = np.zeros((ndata,nbins))\n",
    "for i in range (0,ndata):\n",
    "\n",
    "    #load results for 8 realizations\n",
    "    DDsmu_nonPBC = np.loadtxt(path+'/my-f-code/results/dd-cutbox03L-testOMP-nonPBC-realization'\n",
    "                         +realizations[i]+'.txt', usecols = (0))\n",
    "\n",
    "    # RR pairs count\n",
    "    RRs_nonPBC = np.loadtxt(path+'/my-f-code/results/RR-cutbox03L-testOMP-nonPBC-realization'\n",
    "                         +realizations[i]+'.txt', usecols = (0))\n",
    "    \n",
    "    DR = np.loadtxt(path+'/my-f-code/results/DR-cutbox03L-testOMP-nonPBC-realization'\n",
    "                         +realizations[i]+'.txt', usecols = (0))\n",
    "    xi0_nonPBC = np.zeros(nbins)\n",
    "\n",
    "    for ii in range(0,nbins):\n",
    "        RR_mus = RRs_nonPBC[ii]/nmu_bins\n",
    "        for j in range ((ii)*nmu_bins,(ii+1)*nmu_bins):\n",
    "            xi0_nonPBC[ii] += ((DDsmu_nonPBC[j]-2*DR[j])/RR_mus+1)*P0*delta_mu \n",
    "\n",
    "    #monopole    \n",
    "    A_03[i] = xi0_nonPBC\n",
    "\n",
    "# calculate the average of 8 realizations and error bars, F code\n",
    "xi_03_OMP = np.zeros(nbins)\n",
    "\n",
    "for i in range(0,nbins):\n",
    "    xi_03_OMP[i] = np.mean(A_03[0:ndata,i])\n",
    "\n",
    "error_xi_03_OMP = np.zeros(nbins)\n",
    "for i in range(0,nbins):\n",
    "    a0 = 0\n",
    "    for j in range(0,ndata):\n",
    "        a0 += (A_03[j,i] - xi_03_OMP[i])**2\n",
    "    error_xi_03_OMP[i] = np.sqrt(a0/((ndata-1)*ndata)) #standard error of the mean\n"
   ]
  },
  {
   "cell_type": "code",
   "execution_count": 62,
   "id": "e5200366-574c-409e-87a5-f171bb058fa3",
   "metadata": {},
   "outputs": [
    {
     "name": "stderr",
     "output_type": "stream",
     "text": [
      "<ipython-input-62-f9f9b4621b53>:20: RuntimeWarning: invalid value encountered in double_scalars\n",
      "  xi0_nonPBC[ii] += ((DDsmu_nonPBC[j]-2*DR[j])/RR_mus+1)*P0*delta_mu\n",
      "<ipython-input-62-f9f9b4621b53>:20: RuntimeWarning: divide by zero encountered in double_scalars\n",
      "  xi0_nonPBC[ii] += ((DDsmu_nonPBC[j]-2*DR[j])/RR_mus+1)*P0*delta_mu\n"
     ]
    }
   ],
   "source": [
    "#LS estimator\n",
    "A_03 = np.zeros((ndata,nbins))\n",
    "for i in range (0,ndata):\n",
    "\n",
    "    #load results for 8 realizations\n",
    "    DDsmu_nonPBC = np.loadtxt(path+'/my-f-code/results/dd-cutbox03Lnew-nonPBC-realization'\n",
    "                         +realizations[i]+'.txt', usecols = (0))\n",
    "\n",
    "    # RR pairs count\n",
    "    RRs_nonPBC = np.loadtxt(path+'/my-f-code/results/RR-cutbox03Lnew-nonPBC-realization'\n",
    "                         +realizations[i]+'.txt', usecols = (0))\n",
    "    DR = np.loadtxt(path+'/my-f-code/results/DR-cutbox03Lnew-nonPBC-realization'\n",
    "                         +realizations[i]+'.txt', usecols = (0))\n",
    "        \n",
    "    xi0_nonPBC = np.zeros(nbins)\n",
    "\n",
    "    for ii in range(0,nbins):\n",
    "        RR_mus = RRs_nonPBC[ii]/nmu_bins\n",
    "        for j in range ((ii)*nmu_bins,(ii+1)*nmu_bins):\n",
    "            xi0_nonPBC[ii] += ((DDsmu_nonPBC[j]-2*DR[j])/RR_mus+1)*P0*delta_mu \n",
    "\n",
    "    #monopole    \n",
    "    A_03[i] = xi0_nonPBC\n",
    "\n",
    "# calculate the average of 8 realizations and error bars, F code\n",
    "xi_03_LS = np.zeros(nbins)\n",
    "\n",
    "for i in range(0,nbins):\n",
    "    xi_03_LS[i] = np.mean(A_03[0:ndata,i])\n",
    "\n",
    "error_xi_03_LS = np.zeros(nbins)\n",
    "for i in range(0,nbins):\n",
    "    a0 = 0\n",
    "    for j in range(0,ndata):\n",
    "        a0 += (A_03[j,i] - xi_03_LS[i])**2\n",
    "    error_xi_03_LS[i] = np.sqrt(a0/((ndata-1)*ndata)) #standard error of the mean\n"
   ]
  },
  {
   "cell_type": "code",
   "execution_count": 63,
   "id": "140e8808-fa89-4570-8b43-a2c9a12436d0",
   "metadata": {},
   "outputs": [
    {
     "data": {
      "text/plain": [
       "<matplotlib.legend.Legend at 0x7f7f2d20e580>"
      ]
     },
     "execution_count": 63,
     "metadata": {},
     "output_type": "execute_result"
    },
    {
     "data": {
      "image/png": "[encoded data removed]",
      "text/plain": [
       "<Figure size 432x288 with 1 Axes>"
      ]
     },
     "metadata": {
      "needs_background": "light"
     },
     "output_type": "display_data"
    }
   ],
   "source": [
    "ax = plt.axes()\n",
    "ax.set_xscale(\"log\")\n",
    "#ax.set_yscale(\"log\")\n",
    "ax.errorbar(rdd, xi_03*rdd**2, fmt ='y--', yerr = error_xi_03*rdd**2, label=\" 0.3L\")\n",
    "#ax.errorbar(rdd, xi_03_LS*rdd**2, fmt ='r:', yerr = error_xi_03_LS*rdd**2, label=\" 0.3L LS\")\n",
    "ax.errorbar(rdd, xi_03_OMP*rdd**2, fmt ='g.', yerr = error_xi_03_OMP*rdd**2, label=\" 0.3L OMP\")\n",
    "ax.errorbar(rdd, xi_dd*rdd**2, fmt ='-', yerr = error_xi_dd*rdd**2, label=\"full box\")\n",
    "ax.set_ylabel(\"$\\\\xi_{dd,0}.r^2$\")\n",
    "ax.set_xlabel(\"r[h$^{-1}$Mpc]\")\n",
    "#ax.set_xlim(100,)\n",
    "#ax.set_ylim(-8000,8000)\n",
    "ax.legend(loc=(1.1,0))\n",
    "#plt.savefig('dd-cutbox-correct.pdf')\n",
    "#plt.savefig('dd-cutbox-correct.png')"
   ]
  },
  {
   "cell_type": "code",
   "execution_count": 64,
   "id": "77901e6c-d612-4340-b6ca-bac7112f2e8d",
   "metadata": {},
   "outputs": [
    {
     "name": "stderr",
     "output_type": "stream",
     "text": [
      "<ipython-input-64-9e27cdd546a0>:17: RuntimeWarning: divide by zero encountered in double_scalars\n",
      "  xi0_nonPBC[ii] += (DDsmu_nonPBC[j]/RR_mus-1)*P0*delta_mu\n",
      "<ipython-input-64-9e27cdd546a0>:17: RuntimeWarning: invalid value encountered in double_scalars\n",
      "  xi0_nonPBC[ii] += (DDsmu_nonPBC[j]/RR_mus-1)*P0*delta_mu\n"
     ]
    }
   ],
   "source": [
    "A_05 = np.zeros((ndata,nbins))\n",
    "for i in range (0,ndata):\n",
    "\n",
    "    #load results for 8 realizations\n",
    "    DDsmu_nonPBC = np.loadtxt(path+'/my-f-code/results/dd-cutbox05Lnew-nonPBC-realization'\n",
    "                         +realizations[i]+'.txt', usecols = (0))\n",
    "\n",
    "    # RR pairs count\n",
    "    RRs_nonPBC = np.loadtxt(path+'/my-f-code/results/RR-cutbox05Lnew-nonPBC-realization'\n",
    "                         +realizations[i]+'.txt', usecols = (0))\n",
    "        \n",
    "    xi0_nonPBC = np.zeros(nbins)\n",
    "\n",
    "    for ii in range(0,nbins):\n",
    "        RR_mus = RRs_nonPBC[ii]/nmu_bins\n",
    "        for j in range ((ii)*nmu_bins,(ii+1)*nmu_bins):\n",
    "            xi0_nonPBC[ii] += (DDsmu_nonPBC[j]/RR_mus-1)*P0*delta_mu \n",
    "\n",
    "    #monopole    \n",
    "    A_05[i] = xi0_nonPBC\n",
    "\n",
    "# calculate the average of 8 realizations and error bars, F code\n",
    "xi_05 = np.zeros(nbins)\n",
    "\n",
    "for i in range(0,nbins):\n",
    "    xi_05[i] = np.mean(A_05[0:ndata,i])\n",
    "\n",
    "error_xi_05 = np.zeros(nbins)\n",
    "for i in range(0,nbins):\n",
    "    a0 = 0\n",
    "    for j in range(0,ndata):\n",
    "        a0 += (A_05[j,i] - xi_05[i])**2\n",
    "    error_xi_05[i] = np.sqrt(a0/((ndata-1)*ndata)) #standard error of the mean\n"
   ]
  },
  {
   "cell_type": "code",
   "execution_count": 65,
   "id": "2da414b6-09a2-4639-9abd-39deeef65431",
   "metadata": {},
   "outputs": [
    {
     "name": "stderr",
     "output_type": "stream",
     "text": [
      "<ipython-input-65-e21626f55ad4>:20: RuntimeWarning: divide by zero encountered in double_scalars\n",
      "  xi0_nonPBC[ii] += ((DDsmu_nonPBC[j]-2*DR[j])/RR_mus+1)*P0*delta_mu\n",
      "<ipython-input-65-e21626f55ad4>:20: RuntimeWarning: invalid value encountered in double_scalars\n",
      "  xi0_nonPBC[ii] += ((DDsmu_nonPBC[j]-2*DR[j])/RR_mus+1)*P0*delta_mu\n"
     ]
    }
   ],
   "source": [
    "#LS estimator\n",
    "A_05 = np.zeros((ndata,nbins))\n",
    "for i in range (0,ndata):\n",
    "\n",
    "    #load results for 8 realizations\n",
    "    DDsmu_nonPBC = np.loadtxt(path+'/my-f-code/results/dd-cutbox05Lnew-nonPBC-realization'\n",
    "                         +realizations[i]+'.txt', usecols = (0))\n",
    "\n",
    "    # RR pairs count\n",
    "    RRs_nonPBC = np.loadtxt(path+'/my-f-code/results/RR-cutbox05Lnew-nonPBC-realization'\n",
    "                         +realizations[i]+'.txt', usecols = (0))\n",
    "    DR = np.loadtxt(path+'/my-f-code/results/DR-cutbox05Lnew-nonPBC-realization'\n",
    "                         +realizations[i]+'.txt', usecols = (0))\n",
    "        \n",
    "    xi0_nonPBC = np.zeros(nbins)\n",
    "\n",
    "    for ii in range(0,nbins):\n",
    "        RR_mus = RRs_nonPBC[ii]/nmu_bins\n",
    "        for j in range ((ii)*nmu_bins,(ii+1)*nmu_bins):\n",
    "            xi0_nonPBC[ii] += ((DDsmu_nonPBC[j]-2*DR[j])/RR_mus+1)*P0*delta_mu \n",
    "\n",
    "    #monopole    \n",
    "    A_05[i] = xi0_nonPBC\n",
    "\n",
    "# calculate the average of 8 realizations and error bars, F code\n",
    "xi_05_LS = np.zeros(nbins)\n",
    "\n",
    "for i in range(0,nbins):\n",
    "    xi_05_LS[i] = np.mean(A_05[0:ndata,i])\n",
    "\n",
    "error_xi_05_LS = np.zeros(nbins)\n",
    "for i in range(0,nbins):\n",
    "    a0 = 0\n",
    "    for j in range(0,ndata):\n",
    "        a0 += (A_05[j,i] - xi_05_LS[i])**2\n",
    "    error_xi_05_LS[i] = np.sqrt(a0/((ndata-1)*ndata)) #standard error of the mean\n"
   ]
  },
  {
   "cell_type": "code",
   "execution_count": 66,
   "id": "cdfb68dc-690e-4714-b227-8d32cea0e409",
   "metadata": {},
   "outputs": [
    {
     "name": "stderr",
     "output_type": "stream",
     "text": [
      "<ipython-input-66-95afd14ca90b>:20: RuntimeWarning: divide by zero encountered in double_scalars\n",
      "  xi0_nonPBC[ii] += ((DDsmu_nonPBC[j]-2*DR[j])/RR_mus+1)*P0*delta_mu\n",
      "<ipython-input-66-95afd14ca90b>:20: RuntimeWarning: invalid value encountered in double_scalars\n",
      "  xi0_nonPBC[ii] += ((DDsmu_nonPBC[j]-2*DR[j])/RR_mus+1)*P0*delta_mu\n"
     ]
    }
   ],
   "source": [
    "#LS estimator\n",
    "A_05 = np.zeros((ndata,nbins))\n",
    "for i in range (0,ndata):\n",
    "\n",
    "    #load results for 8 realizations\n",
    "    DDsmu_nonPBC = np.loadtxt(path+'/my-f-code/results/dd-cutbox05L-testOMP-nonPBC-realization'\n",
    "                         +realizations[i]+'.txt', usecols = (0))\n",
    "\n",
    "    # RR pairs count\n",
    "    RRs_nonPBC = np.loadtxt(path+'/my-f-code/results/RR-cutbox05L-testOMP-nonPBC-realization'\n",
    "                         +realizations[i]+'.txt', usecols = (0))\n",
    "    DR = np.loadtxt(path+'/my-f-code/results/DR-cutbox05L-testOMP-nonPBC-realization'\n",
    "                         +realizations[i]+'.txt', usecols = (0))\n",
    "         \n",
    "    xi0_nonPBC = np.zeros(nbins)\n",
    "\n",
    "    for ii in range(0,nbins):\n",
    "        RR_mus = RRs_nonPBC[ii]/nmu_bins\n",
    "        for j in range ((ii)*nmu_bins,(ii+1)*nmu_bins):\n",
    "            xi0_nonPBC[ii] += ((DDsmu_nonPBC[j]-2*DR[j])/RR_mus+1)*P0*delta_mu \n",
    "\n",
    "    #monopole    \n",
    "    A_05[i] = xi0_nonPBC\n",
    "\n",
    "# calculate the average of 8 realizations and error bars, F code\n",
    "xi_05_OMP = np.zeros(nbins)\n",
    "\n",
    "for i in range(0,nbins):\n",
    "    xi_05_OMP[i] = np.mean(A_05[0:ndata,i])\n",
    "\n",
    "error_xi_05_OMP = np.zeros(nbins)\n",
    "for i in range(0,nbins):\n",
    "    a0 = 0\n",
    "    for j in range(0,ndata):\n",
    "        a0 += (A_05[j,i] - xi_05_OMP[i])**2\n",
    "    error_xi_05_OMP[i] = np.sqrt(a0/((ndata-1)*ndata)) #standard error of the mean\n"
   ]
  },
  {
   "cell_type": "code",
   "execution_count": 67,
   "id": "bc90a3f1-01e7-4bae-9685-40d8fd9458c5",
   "metadata": {},
   "outputs": [
    {
     "data": {
      "text/plain": [
       "<matplotlib.legend.Legend at 0x7f7f2d406ee0>"
      ]
     },
     "execution_count": 67,
     "metadata": {},
     "output_type": "execute_result"
    },
    {
     "data": {
      "image/png": "[encoded data removed]",
      "text/plain": [
       "<Figure size 432x288 with 1 Axes>"
      ]
     },
     "metadata": {
      "needs_background": "light"
     },
     "output_type": "display_data"
    }
   ],
   "source": [
    "ax = plt.axes()\n",
    "ax.set_xscale(\"log\")\n",
    "#ax.set_yscale(\"log\")\n",
    "ax.errorbar(rdd, xi_05*rdd**2, fmt ='y--', yerr = error_xi_05*rdd**2, label=\" 0.5L\")\n",
    "ax.errorbar(rdd, xi_05_LS*rdd**2, fmt ='r:', yerr = error_xi_05_LS*rdd**2, label=\" 0.5L LS\")\n",
    "ax.errorbar(rdd, xi_05_OMP*rdd**2, fmt ='g.', yerr = error_xi_05_OMP*rdd**2, label=\" 0.5L OMP\")\n",
    "ax.errorbar(rdd, xi_dd*rdd**2, fmt ='-', yerr = error_xi_dd*rdd**2, label=\"full box\")\n",
    "ax.set_ylabel(\"$\\\\xi_{dd,0}.r^2$\")\n",
    "ax.set_xlabel(\"r[h$^{-1}$Mpc]\")\n",
    "#ax.set_xlim(100,)\n",
    "#ax.set_ylim(-8000,8000)\n",
    "ax.legend(loc=(1.1,0))\n",
    "#plt.savefig('dd-cutbox-correct.pdf')\n",
    "#plt.savefig('dd-cutbox-correct.png')"
   ]
  },
  {
   "cell_type": "code",
   "execution_count": 68,
   "id": "6ca59805-01dd-40e3-8a7d-fe07f735375d",
   "metadata": {},
   "outputs": [
    {
     "name": "stderr",
     "output_type": "stream",
     "text": [
      "<ipython-input-68-26d0e995edff>:17: RuntimeWarning: divide by zero encountered in double_scalars\n",
      "  xi0[ii] += (DD[j]/RR_mu-1)*delta_mu\n",
      "<ipython-input-68-26d0e995edff>:17: RuntimeWarning: invalid value encountered in double_scalars\n",
      "  xi0[ii] += (DD[j]/RR_mu-1)*delta_mu\n"
     ]
    }
   ],
   "source": [
    "A_07 = np.zeros((ndata,nbins))\n",
    "for i in range (0,ndata):\n",
    "\n",
    "    #load results for 8 realizations\n",
    "    DD = np.loadtxt(path+'/my-f-code/results/dd-cutbox07Lnew-nonPBC-realization'\n",
    "                         +realizations[i]+'.txt', usecols = (0))\n",
    "\n",
    "    # RR pairs count\n",
    "    RR = np.loadtxt(path+'/my-f-code/results/RR-cutbox07Lnew-nonPBC-realization'\n",
    "                         +realizations[i]+'.txt', usecols = (0))\n",
    "        \n",
    "    xi0 = np.zeros(nbins)\n",
    "\n",
    "    for ii in range(0,nbins):\n",
    "        RR_mu = RR[ii]/nmu_bins\n",
    "        for j in range ((ii)*nmu_bins,(ii+1)*nmu_bins):\n",
    "            xi0[ii] += (DD[j]/RR_mu-1)*delta_mu \n",
    "\n",
    "    #monopole    \n",
    "    A_07[i] = xi0\n",
    "\n",
    "# calculate the average of 8 realizations and error bars, F code\n",
    "xi_07 = np.zeros(nbins)\n",
    "\n",
    "for i in range(0,nbins):\n",
    "    xi_07[i] = np.mean(A_07[0:ndata,i])\n",
    "\n",
    "error_xi_07 = np.zeros(nbins)\n",
    "for i in range(0,nbins):\n",
    "    a0 = 0\n",
    "    for j in range(0,ndata):\n",
    "        a0 += (A_07[j,i] - xi_07[i])**2\n",
    "    error_xi_07[i] = np.sqrt(a0/((ndata-1)*ndata)) #standard error of the mean\n",
    " "
   ]
  },
  {
   "cell_type": "code",
   "execution_count": 69,
   "id": "874f8c34-d5fc-4400-a8e0-fb9fab77653b",
   "metadata": {},
   "outputs": [
    {
     "name": "stderr",
     "output_type": "stream",
     "text": [
      "<ipython-input-69-d49b9dfbab18>:20: RuntimeWarning: divide by zero encountered in double_scalars\n",
      "  xi0[ii] += ((DD[j]-2*DR[j])/RR_mu+1)*delta_mu\n",
      "<ipython-input-69-d49b9dfbab18>:20: RuntimeWarning: invalid value encountered in double_scalars\n",
      "  xi0[ii] += ((DD[j]-2*DR[j])/RR_mu+1)*delta_mu\n"
     ]
    }
   ],
   "source": [
    "#LS estimator\n",
    "A_07 = np.zeros((ndata,nbins))\n",
    "for i in range (0,ndata):\n",
    "\n",
    "    #load results for 8 realizations\n",
    "    DD = np.loadtxt(path+'/my-f-code/results/dd-cutbox07Lnew-nonPBC-realization'\n",
    "                         +realizations[i]+'.txt', usecols = (0))\n",
    "\n",
    "    # RR pairs count\n",
    "    RR = np.loadtxt(path+'/my-f-code/results/RR-cutbox07Lnew-nonPBC-realization'\n",
    "                         +realizations[i]+'.txt', usecols = (0))\n",
    "    DR = np.loadtxt(path+'/my-f-code/results/DR-cutbox07Lnew-nonPBC-realization'\n",
    "                         +realizations[i]+'.txt', usecols = (0))\n",
    "         \n",
    "    xi0 = np.zeros(nbins)\n",
    "\n",
    "    for ii in range(0,nbins):\n",
    "        RR_mu = RR[ii]/nmu_bins\n",
    "        for j in range ((ii)*nmu_bins,(ii+1)*nmu_bins):\n",
    "            xi0[ii] += ((DD[j]-2*DR[j])/RR_mu+1)*delta_mu \n",
    "\n",
    "    #monopole    \n",
    "    A_07[i] = xi0\n",
    "\n",
    "# calculate the average of 8 realizations and error bars, F code\n",
    "xi_07_LS = np.zeros(nbins)\n",
    "\n",
    "for i in range(0,nbins):\n",
    "    xi_07_LS[i] = np.mean(A_07[0:ndata,i])\n",
    "\n",
    "error_xi_07_LS = np.zeros(nbins)\n",
    "for i in range(0,nbins):\n",
    "    a0 = 0\n",
    "    for j in range(0,ndata):\n",
    "        a0 += (A_07[j,i] - xi_07_LS[i])**2\n",
    "    error_xi_07_LS[i] = np.sqrt(a0/((ndata-1)*ndata)) #standard error of the mean\n",
    " "
   ]
  },
  {
   "cell_type": "code",
   "execution_count": 70,
   "id": "c2dbfe85-45e8-4283-84ca-94ed596c133c",
   "metadata": {},
   "outputs": [
    {
     "name": "stderr",
     "output_type": "stream",
     "text": [
      "<ipython-input-70-8631eb631665>:20: RuntimeWarning: divide by zero encountered in double_scalars\n",
      "  xi0[ii] += ((DD[j]-2*DR[j])/RR_mu+1)*delta_mu\n",
      "<ipython-input-70-8631eb631665>:20: RuntimeWarning: invalid value encountered in double_scalars\n",
      "  xi0[ii] += ((DD[j]-2*DR[j])/RR_mu+1)*delta_mu\n"
     ]
    }
   ],
   "source": [
    "#LS estimator\n",
    "A_07 = np.zeros((ndata,nbins))\n",
    "for i in range (0,ndata):\n",
    "\n",
    "    #load results for 8 realizations\n",
    "    DD = np.loadtxt(path+'/my-f-code/results/dd-cutbox07L-testOMP-nonPBC-realization'\n",
    "                         +realizations[i]+'.txt', usecols = (0))\n",
    "\n",
    "    # RR pairs count\n",
    "    RR = np.loadtxt(path+'/my-f-code/results/RR-cutbox07L-testOMP-nonPBC-realization'\n",
    "                         +realizations[i]+'.txt', usecols = (0))\n",
    "    DR = np.loadtxt(path+'/my-f-code/results/DR-cutbox07L-testOMP-nonPBC-realization'\n",
    "                         +realizations[i]+'.txt', usecols = (0))\n",
    "         \n",
    "    xi0 = np.zeros(nbins)\n",
    "\n",
    "    for ii in range(0,nbins):\n",
    "        RR_mu = RR[ii]/nmu_bins\n",
    "        for j in range ((ii)*nmu_bins,(ii+1)*nmu_bins):\n",
    "            xi0[ii] += ((DD[j]-2*DR[j])/RR_mu+1)*delta_mu \n",
    "\n",
    "    #monopole    \n",
    "    A_07[i] = xi0\n",
    "\n",
    "# calculate the average of 8 realizations and error bars, F code\n",
    "xi_07_OMP = np.zeros(nbins)\n",
    "\n",
    "for i in range(0,nbins):\n",
    "    xi_07_OMP[i] = np.mean(A_07[0:ndata,i])\n",
    "\n",
    "error_xi_07_OMP = np.zeros(nbins)\n",
    "for i in range(0,nbins):\n",
    "    a0 = 0\n",
    "    for j in range(0,ndata):\n",
    "        a0 += (A_07[j,i] - xi_07_OMP[i])**2\n",
    "    error_xi_07_OMP[i] = np.sqrt(a0/((ndata-1)*ndata)) #standard error of the mean\n",
    " "
   ]
  },
  {
   "cell_type": "code",
   "execution_count": 71,
   "id": "5fba9ef2-ddad-4e97-93be-3e6b6f1aba47",
   "metadata": {},
   "outputs": [
    {
     "data": {
      "text/plain": [
       "<matplotlib.legend.Legend at 0x7f7f2d5adee0>"
      ]
     },
     "execution_count": 71,
     "metadata": {},
     "output_type": "execute_result"
    },
    {
     "data": {
      "image/png": "[encoded data removed]",
      "text/plain": [
       "<Figure size 432x288 with 1 Axes>"
      ]
     },
     "metadata": {
      "needs_background": "light"
     },
     "output_type": "display_data"
    }
   ],
   "source": [
    "ax = plt.axes()\n",
    "ax.set_xscale(\"log\")\n",
    "#ax.set_yscale(\"log\")\n",
    "ax.errorbar(rdd, xi_07*rdd**2, fmt ='y--', yerr = error_xi_07*rdd**2, label=\" 0.7L\")\n",
    "ax.errorbar(rdd, xi_07_LS*rdd**2, fmt ='r:', yerr = error_xi_07_LS*rdd**2, label=\" 0.7L LS\")\n",
    "ax.errorbar(rdd, xi_07_OMP*rdd**2, fmt ='g.', yerr = error_xi_07_OMP*rdd**2, label=\" 0.7L OMP\")\n",
    "ax.errorbar(rdd, xi_dd*rdd**2, fmt ='-', yerr = error_xi_dd*rdd**2, label=\"full box\")\n",
    "ax.set_ylabel(\"$\\\\xi_{dd,0}.r^2$\")\n",
    "ax.set_xlabel(\"r[h$^{-1}$Mpc]\")\n",
    "#ax.set_xlim(100,)\n",
    "#ax.set_ylim(-8000,8000)\n",
    "ax.legend(loc=(1.1,0))\n",
    "#plt.savefig('dd-cutbox-correct.pdf')\n",
    "#plt.savefig('dd-cutbox-correct.png')"
   ]
  },
  {
   "cell_type": "code",
   "execution_count": 72,
   "id": "b9a12834-0345-497c-a2f8-3c737ae17c3c",
   "metadata": {},
   "outputs": [],
   "source": [
    "\n",
    "A_0f = np.zeros((ndata,nbins))\n",
    "for i in range (0,ndata):\n",
    "\n",
    "    #load results for 8 realizations\n",
    "    DD = np.loadtxt(path+'/my-f-code/results/dd-fullboxnew-nonPBC-realization'\n",
    "                         +realizations[i]+'.txt', usecols = (0))\n",
    "\n",
    "    # RR pairs count\n",
    "    RR = np.loadtxt(path+'/my-f-code/results/RR-fullboxnew-nonPBC-realization'\n",
    "                         +realizations[i]+'.txt', usecols = (0))\n",
    "        \n",
    "    xi0 = np.zeros(nbins) \n",
    "    for ii in range(0,nbins):\n",
    "        RR_mu = RR[ii]/nmu_bins      \n",
    "        for j in range ((ii)*nmu_bins,(ii+1)*nmu_bins):\n",
    "            xi0[ii] += (DD[j]/RR_mu-1)*delta_mu \n",
    "\n",
    "    #monopole    \n",
    "    A_0f[i] = xi0\n",
    "\n",
    "# calculate the average of 8 realizations and error bars, F code\n",
    "xi_f = np.zeros(nbins)\n",
    "\n",
    "for i in range(0,nbins):\n",
    "    xi_f[i] = np.mean(A_0f[0:ndata,i])\n",
    "\n",
    "error_xi_f = np.zeros(nbins)\n",
    "for i in range(0,nbins):\n",
    "    a0 = 0\n",
    "    for j in range(0,ndata):\n",
    "        a0 += (A_0f[j,i] - xi_f[i])**2\n",
    "    error_xi_f[i] = np.sqrt(a0/((ndata-1)*ndata)) #standard error of the mean\n",
    " "
   ]
  },
  {
   "cell_type": "code",
   "execution_count": 73,
   "id": "8f4b0ba7-1e30-4fd5-8682-af22386387c5",
   "metadata": {},
   "outputs": [],
   "source": [
    "#Landy-Szalay estimator\n",
    "A_0f = np.zeros((ndata,nbins))\n",
    "for i in range (0,ndata):\n",
    "\n",
    "    #load results for 8 realizations\n",
    "    DD = np.loadtxt(path+'/my-f-code/results/dd-fullboxnew-nonPBC-realization'\n",
    "                         +realizations[i]+'.txt', usecols = (0))\n",
    "\n",
    "    # RR, DR pairs count\n",
    "    RR = np.loadtxt(path+'/my-f-code/results/RR-fullboxnew-nonPBC-realization'\n",
    "                         +realizations[i]+'.txt', usecols = (0))\n",
    "    DR = np.loadtxt(path+'/my-f-code/results/DR-fullboxnew-nonPBC-realization'\n",
    "                         +realizations[i]+'.txt', usecols = (0))\n",
    "\n",
    "    xi0 = np.zeros(nbins) \n",
    "    for ii in range(0,nbins):\n",
    "        RR_mu = RR[ii]/nmu_bins      \n",
    "        for j in range ((ii)*nmu_bins,(ii+1)*nmu_bins):\n",
    "            xi0[ii] += ((DD[j]-2*DR[j])/RR_mu+1)*delta_mu \n",
    "\n",
    "    #monopole    \n",
    "    A_0f[i] = xi0\n",
    "\n",
    "# calculate the average of 8 realizations and error bars, F code\n",
    "xi_LS = np.zeros(nbins)\n",
    "\n",
    "for i in range(0,nbins):\n",
    "    xi_LS[i] = np.mean(A_0f[0:ndata,i])\n",
    "\n",
    "error_xi_LS = np.zeros(nbins)\n",
    "for i in range(0,nbins):\n",
    "    a0 = 0\n",
    "    for j in range(0,ndata):\n",
    "        a0 += (A_0f[j,i] - xi_LS[i])**2\n",
    "    error_xi_LS[i] = np.sqrt(a0/((ndata-1)*ndata)) #standard error of the mean\n",
    " "
   ]
  },
  {
   "cell_type": "code",
   "execution_count": 74,
   "id": "0d8c97ed-f66d-4e83-a660-b312dfee7122",
   "metadata": {},
   "outputs": [],
   "source": [
    "#Landy-Szalay estimator, OMP\n",
    "A_0f = np.zeros((ndata,nbins))\n",
    "for i in range (0,ndata):\n",
    "\n",
    "    #load results for 8 realizations\n",
    "    DD = np.loadtxt(path+'/my-f-code/results/dd-fullbox-testOMP-nonPBC-realization'\n",
    "                         +realizations[i]+'.txt', usecols = (0))\n",
    "\n",
    "    # RR, DR pairs count\n",
    "    RR = np.loadtxt(path+'/my-f-code/results/RR-fullbox-testOMP-nonPBC-realization'\n",
    "                         +realizations[i]+'.txt', usecols = (0))\n",
    "    DR = np.loadtxt(path+'/my-f-code/results/DR-fullbox-testOMP-nonPBC-realization'\n",
    "                         +realizations[i]+'.txt', usecols = (0))\n",
    "\n",
    "    xi0 = np.zeros(nbins) \n",
    "    for ii in range(0,nbins):\n",
    "        RR_mu = RR[ii]/nmu_bins      \n",
    "        for j in range ((ii)*nmu_bins,(ii+1)*nmu_bins):\n",
    "            xi0[ii] += ((DD[j]-2*DR[j])/RR_mu+1)*delta_mu \n",
    "\n",
    "    #monopole    \n",
    "    A_0f[i] = xi0\n",
    "\n",
    "# calculate the average of 8 realizations and error bars, F code\n",
    "xi_OMP = np.zeros(nbins)\n",
    "\n",
    "for i in range(0,nbins):\n",
    "    xi_OMP[i] = np.mean(A_0f[0:ndata,i])\n",
    "\n",
    "error_xi_OMP = np.zeros(nbins)\n",
    "for i in range(0,nbins):\n",
    "    a0 = 0\n",
    "    for j in range(0,ndata):\n",
    "        a0 += (A_0f[j,i] - xi_OMP[i])**2\n",
    "    error_xi_OMP[i] = np.sqrt(a0/((ndata-1)*ndata)) #standard error of the mean\n",
    " "
   ]
  },
  {
   "cell_type": "code",
   "execution_count": 75,
   "id": "c2809e05-f83d-4214-bab1-4af576d7aaef",
   "metadata": {},
   "outputs": [
    {
     "data": {
      "text/plain": [
       "<matplotlib.legend.Legend at 0x7f7f2e0ee7f0>"
      ]
     },
     "execution_count": 75,
     "metadata": {},
     "output_type": "execute_result"
    },
    {
     "data": {
      "image/png": "[encoded data removed]",
      "text/plain": [
       "<Figure size 432x288 with 1 Axes>"
      ]
     },
     "metadata": {
      "needs_background": "light"
     },
     "output_type": "display_data"
    }
   ],
   "source": [
    "ax = plt.axes()\n",
    "ax.set_xscale(\"log\")\n",
    "#ax.set_yscale(\"log\")\n",
    "ax.errorbar(rdd, xi_OMP *rdd**2, fmt ='g.', yerr = error_xi_OMP*rdd**2, label=\"OMP non PBC\")\n",
    "ax.errorbar(rdd, xi_LS *rdd**2, fmt ='r:', yerr = error_xi_LS*rdd**2, label=\"LS non PBC\")\n",
    "ax.errorbar(rdd, xi_f *rdd**2, fmt ='y--', yerr = error_xi_f*rdd**2, label=\"non PBC\")\n",
    "ax.errorbar(rdd, xi_dd*rdd**2, fmt ='-', yerr = error_xi_dd*rdd**2, label=\"full box\")\n",
    "ax.set_ylabel(\"$\\\\xi_{dd,0}.r^2$\")\n",
    "ax.set_xlabel(\"r[h$^{-1}$Mpc]\")\n",
    "#ax.set_xlim(100,)\n",
    "#ax.set_ylim(-8000,8000)\n",
    "ax.legend(loc=(1.1,0))\n",
    "#plt.savefig('dd-cutbox-correct.pdf')\n",
    "#plt.savefig('dd-cutbox-correct.png')"
   ]
  },
  {
   "cell_type": "code",
   "execution_count": 76,
   "id": "7c30ffc7-4110-4152-8368-e89ec63e44e0",
   "metadata": {},
   "outputs": [],
   "source": [
    "#Landy-Szalay estimator, full PBC\n",
    "A_0f = np.zeros((ndata,nbins))\n",
    "for i in range (0,ndata):\n",
    "\n",
    "    #load results for 8 realizations\n",
    "    DD = np.loadtxt(path+'/my-f-code/results/dd-fullboxnew-PBC-realization'\n",
    "                         +realizations[i]+'.txt', usecols = (0))\n",
    "\n",
    "    # RR, DR pairs count\n",
    "    RR = np.loadtxt(path+'/my-f-code/results/RR-fullboxnew-PBC-realization'\n",
    "                         +realizations[i]+'.txt', usecols = (0))\n",
    "    DR = np.loadtxt(path+'/my-f-code/results/DR-fullbox-PBC-realization'\n",
    "                         +realizations[i]+'.txt', usecols = (0))\n",
    "\n",
    "    xi0 = np.zeros(nbins) \n",
    "    for ii in range(0,nbins):\n",
    "        RR_mu = RR[ii]/nmu_bins      \n",
    "        for j in range ((ii)*nmu_bins,(ii+1)*nmu_bins):\n",
    "            xi0[ii] += ((DD[j]-2*DR[j])/RR_mu+1)*delta_mu \n",
    "\n",
    "    #monopole    \n",
    "    A_0f[i] = xi0\n",
    "\n",
    "# calculate the average of 8 realizations and error bars, F code\n",
    "xi_pbc_LS = np.zeros(nbins)\n",
    "\n",
    "for i in range(0,nbins):\n",
    "    xi_pbc_LS[i] = np.mean(A_0f[0:ndata,i])\n",
    "\n",
    "error_xi_pbc_LS = np.zeros(nbins)\n",
    "for i in range(0,nbins):\n",
    "    a0 = 0\n",
    "    for j in range(0,ndata):\n",
    "        a0 += (A_0f[j,i] - xi_pbc_LS[i])**2\n",
    "    error_xi_pbc_LS[i] = np.sqrt(a0/((ndata-1)*ndata)) #standard error of the mean\n",
    " "
   ]
  },
  {
   "cell_type": "code",
   "execution_count": 77,
   "id": "0273c1df-aa49-42a1-96a8-74bd9965b3f9",
   "metadata": {},
   "outputs": [
    {
     "data": {
      "text/plain": [
       "<matplotlib.legend.Legend at 0x7f7f2d521580>"
      ]
     },
     "execution_count": 77,
     "metadata": {},
     "output_type": "execute_result"
    },
    {
     "data": {
      "image/png": "[encoded data removed]",
      "text/plain": [
       "<Figure size 432x288 with 1 Axes>"
      ]
     },
     "metadata": {
      "needs_background": "light"
     },
     "output_type": "display_data"
    }
   ],
   "source": [
    "ax = plt.axes()\n",
    "ax.set_xscale(\"log\")\n",
    "#ax.set_yscale(\"log\")\n",
    "ax.errorbar(rdd, xi_03*rdd**2, fmt ='y--', yerr = error_xi_03*rdd**2, label=\" 0.3L\")\n",
    "ax.errorbar(rdd, xi_05*rdd**2, fmt ='r--', yerr = error_xi_05*rdd**2, label=\" 0.5L\")\n",
    "ax.errorbar(rdd, xi_07*rdd**2, fmt ='g--', yerr = error_xi_07*rdd**2, label=\" 0.7L\")\n",
    "ax.errorbar(rdd, xi_f *rdd**2, fmt ='--', yerr = error_xi_f*rdd**2, label=\"non PBC\")\n",
    "ax.errorbar(rdd, xi_dd*rdd**2, fmt ='-', yerr = error_xi_dd*rdd**2, label=\"full box\")\n",
    "ax.set_ylabel(\"$\\\\xi_{dd,0}.r^2$\")\n",
    "ax.set_xlabel(\"r[h$^{-1}$Mpc]\")\n",
    "#ax.set_xlim(100,)\n",
    "#ax.set_ylim(-8000,8000)\n",
    "ax.legend(loc=(1.1,0))\n",
    "#plt.savefig('dd-cutbox-correct.pdf')\n",
    "#plt.savefig('dd-cutbox-correct.png')"
   ]
  },
  {
   "cell_type": "code",
   "execution_count": 78,
   "id": "3fb6d6af-e332-4823-a448-5b118968f283",
   "metadata": {},
   "outputs": [
    {
     "data": {
      "text/plain": [
       "<matplotlib.legend.Legend at 0x7f7f2e2abeb0>"
      ]
     },
     "execution_count": 78,
     "metadata": {},
     "output_type": "execute_result"
    },
    {
     "data": {
      "image/png": "[encoded data removed]",
      "text/plain": [
       "<Figure size 432x288 with 1 Axes>"
      ]
     },
     "metadata": {
      "needs_background": "light"
     },
     "output_type": "display_data"
    }
   ],
   "source": [
    "#plot LS estimator\n",
    "ax = plt.axes()\n",
    "ax.set_xscale(\"log\")\n",
    "#ax.set_yscale(\"log\")\n",
    "ax.errorbar(rdd, xi_03_LS*rdd**2, fmt ='y--', yerr = error_xi_03_LS*rdd**2, label=\"LS 0.3L\")\n",
    "ax.errorbar(rdd, xi_05_LS*rdd**2, fmt ='r--', yerr = error_xi_05_LS*rdd**2, label=\"LS 0.5L\")\n",
    "ax.errorbar(rdd, xi_07_LS*rdd**2, fmt ='g--', yerr = error_xi_07_LS*rdd**2, label=\"LS 0.7L\")\n",
    "ax.errorbar(rdd, xi_LS *rdd**2, fmt ='--', yerr = error_xi_LS*rdd**2, label=\"LS non PBC\")\n",
    "ax.errorbar(rdd, xi_pbc_LS*rdd**2, fmt ='-', yerr = error_xi_pbc_LS*rdd**2, label=\"LS full box\")\n",
    "ax.set_ylabel(\"$\\\\xi_{dd,0}.r^2$\")\n",
    "ax.set_xlabel(\"r[h$^{-1}$Mpc]\")\n",
    "#ax.set_xlim(100,)\n",
    "#ax.set_ylim(-8000,8000)\n",
    "ax.legend()#(loc=(1.1,0))\n",
    "#plt.savefig('dd-cutbox-correct.pdf')\n",
    "#plt.savefig('dd-cutbox-correct.png')"
   ]
  },
  {
   "cell_type": "code",
   "execution_count": 129,
   "id": "9dbcd76f-9d97-48c7-8432-2fb05e7b6024",
   "metadata": {},
   "outputs": [
    {
     "data": {
      "text/plain": [
       "<matplotlib.legend.Legend at 0x7f7f14c8d0a0>"
      ]
     },
     "execution_count": 129,
     "metadata": {},
     "output_type": "execute_result"
    },
    {
     "data": {
      "image/png": "[encoded data removed]",
      "text/plain": [
       "<Figure size 432x288 with 1 Axes>"
      ]
     },
     "metadata": {
      "needs_background": "light"
     },
     "output_type": "display_data"
    }
   ],
   "source": [
    "#compare LS to PH\n",
    "ax = plt.axes()\n",
    "ax.set_xscale(\"log\")\n",
    "#ax.set_yscale(\"log\")\n",
    "ax.errorbar(rdd, xi_03*rdd**2, fmt ='--', yerr = error_xi_03*rdd**2, label=\"PH\")\n",
    "ax.errorbar(rdd, xi_03_LS*rdd**2, fmt ='--', yerr = error_xi_03_LS*rdd**2, label=\"LS\")\n",
    "#ax.errorbar(rdd, xi_f *rdd**2, fmt ='--', yerr = error_xi_f*rdd**2, label=\"non PBC\")\n",
    "#ax.errorbar(rdd, xi_LS *rdd**2, fmt ='--', yerr = error_xi_LS*rdd**2, label=\"LS non PBC\")\n",
    "#ax.errorbar(rdd, xi_dd*rdd**2, fmt ='-', yerr = error_xi_dd*rdd**2, label=\"full box\")\n",
    "#ax.errorbar(rdd, xi_pbc_LS*rdd**2, fmt ='-', yerr = error_xi_pbc_LS*rdd**2, label=\"LS PBC\")\n",
    "ax.set_ylabel(\"$\\\\xi_{dd,0}.r^2$\")\n",
    "ax.set_xlabel(\"r[h$^{-1}$Mpc]\")\n",
    "ax.set_xlim(100,)\n",
    "#ax.set_ylim(-8000,8000)\n",
    "ax.legend()#(loc=(1.1,0))\n",
    "#plt.savefig('dd-cutbox-correct.pdf')\n",
    "#plt.savefig('dd-cutbox-correct.png')"
   ]
  },
  {
   "cell_type": "code",
   "execution_count": 130,
   "id": "9ed39ee1-ae2c-47e0-9c9a-dc2bf18f4520",
   "metadata": {},
   "outputs": [
    {
     "data": {
      "text/plain": [
       "<matplotlib.legend.Legend at 0x7f7f1537fb80>"
      ]
     },
     "execution_count": 130,
     "metadata": {},
     "output_type": "execute_result"
    },
    {
     "data": {
      "image/png": "[encoded data removed]",
      "text/plain": [
       "<Figure size 432x288 with 1 Axes>"
      ]
     },
     "metadata": {
      "needs_background": "light"
     },
     "output_type": "display_data"
    }
   ],
   "source": [
    "#compare LS to PH, plot the ratio\n",
    "ax = plt.axes()\n",
    "ax.set_xscale(\"log\")\n",
    "#ax.set_yscale(\"log\")\n",
    "ax.plot(rdd, xi_03/xi_03)\n",
    "ax.errorbar(rdd, xi_03_LS/xi_03, fmt ='--', yerr = error_xi_03_LS/xi_03, label=\"LS/PH\")\n",
    "#ax.plot(rdd, xi_f/xi_f)\n",
    "#ax.errorbar(rdd, xi_LS /xi_f, fmt ='--', yerr = error_xi_LS/xi_f, label=\"LS non PBC\")\n",
    "#ax.plot(rdd, xi_dd/xi_dd)\n",
    "#ax.errorbar(rdd, xi_pbc_LS/xi_dd, fmt ='-', yerr = error_xi_pbc_LS/xi_dd, label=\"LS PBC\")\n",
    "ax.set_ylabel(\"$\\\\xi_{dd,0}$\")\n",
    "ax.set_xlabel(\"r[h$^{-1}$Mpc]\")\n",
    "ax.set_xlim(80,)\n",
    "ax.set_ylim(-2,5)\n",
    "ax.legend()#(loc=(1.1,0))\n",
    "#plt.savefig('dd-cutbox-correct.pdf')\n",
    "#plt.savefig('dd-cutbox-correct.png')"
   ]
  },
  {
   "cell_type": "code",
   "execution_count": null,
   "id": "3a140ebf-724f-4221-a996-93ddda7bfa0d",
   "metadata": {},
   "outputs": [],
   "source": []
  }
 ],
 "metadata": {
  "kernelspec": {
   "display_name": "Python 3",
   "language": "python",
   "name": "python3"
  },
  "language_info": {
   "codemirror_mode": {
    "name": "ipython",
    "version": 3
   },
   "file_extension": ".py",
   "mimetype": "text/x-python",
   "name": "python",
   "nbconvert_exporter": "python",
   "pygments_lexer": "ipython3",
   "version": "3.8.8"
  }
 },
 "nbformat": 4,
 "nbformat_minor": 5
}
