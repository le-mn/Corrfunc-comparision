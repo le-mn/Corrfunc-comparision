{
 "cells": [
  {
   "cell_type": "code",
   "execution_count": 19,
   "id": "a6ba9c93-980c-4bc2-ad99-2a9f302180d8",
   "metadata": {},
   "outputs": [],
   "source": [
    "from classy import Class\n",
    "import numpy as np\n",
    "import matplotlib.pyplot as plt\n",
    "from Corrfunc.theory.DDsmu import DDsmu\n",
    "from hankel import HankelTransform\n",
    "from scipy.interpolate import InterpolatedUnivariateSpline as spline "
   ]
  },
  {
   "cell_type": "code",
   "execution_count": 20,
   "id": "aefaa977-f3ec-4027-a8e7-f979299fb3b3",
   "metadata": {},
   "outputs": [],
   "source": [
    "path = '/Users/ngoc/Desktop/Master-study/project'"
   ]
  },
  {
   "cell_type": "code",
   "execution_count": 21,
   "id": "24bb8203-652d-4e38-90ac-f2ea8c480a8a",
   "metadata": {},
   "outputs": [],
   "source": [
    "#kbins = 2000         # number of bins in k-space \n",
    "kbins     = 5000\n",
    "\n",
    "# Cosmological parameters from Teppei's 1907.00750 paper\n",
    "h         = 0.673\n",
    "z         = 0.306\n",
    "Omega_m   = 0.315\n",
    "Omega_b   = 0.0492\n",
    "LambdaCDM = Class()\n",
    "sigma8    = 0.8309\n",
    "n_s       = 0.965\n",
    "\n",
    "LambdaCDM.set({'Omega_b': Omega_b ,\n",
    "               'Omega_cdm': Omega_m - Omega_b ,\n",
    "               'h': h ,\n",
    "               #'A_s' : 2e-9 ,                # primordial perturbation A_s (input either A_s or sigma8)\n",
    "               'sigma8' : sigma8,             # amplitude of density fluctuations sigma8\n",
    "               'n_s': n_s ,\n",
    "               'tau_reio':0.0925,\n",
    "               'z_pk': z})\n",
    "LambdaCDM.set({'output':'mPk',\n",
    "               'P_k_max_1/Mpc':100.0})\n",
    "LambdaCDM.compute()\n",
    "\n",
    "#use sigma8 from the paper"
   ]
  },
  {
   "cell_type": "code",
   "execution_count": 22,
   "id": "839d68a0-fd58-42fa-83c0-d1542565eef3",
   "metadata": {},
   "outputs": [],
   "source": [
    "f = LambdaCDM.scale_independent_growth_factor_f(z)\n",
    "D = LambdaCDM.scale_independent_growth_factor(z)\n"
   ]
  },
  {
   "cell_type": "code",
   "execution_count": 23,
   "id": "506bbb89-ec72-493f-8af5-ac2f0ce2e49e",
   "metadata": {},
   "outputs": [
    {
     "name": "stdout",
     "output_type": "stream",
     "text": [
      "0.6871684569754593\n",
      "0.8501441981199028\n"
     ]
    }
   ],
   "source": [
    "print(f)\n",
    "print(D)"
   ]
  },
  {
   "cell_type": "code",
   "execution_count": 24,
   "id": "c4f4669f-f6c6-43c2-8872-11955c32ce5b",
   "metadata": {},
   "outputs": [],
   "source": [
    "kk = np.logspace(-10, 2, kbins)\n",
    "#kk = np.logspace(-4, 2, kbins)\n",
    "Pk = []\n",
    "for k in kk :\n",
    "    Pk.append(LambdaCDM.pk(k, z))"
   ]
  },
  {
   "cell_type": "code",
   "execution_count": 25,
   "id": "34811c4a-045c-4706-b6ad-761a9c887cab",
   "metadata": {},
   "outputs": [],
   "source": [
    "kk_f = np.full_like(kk, 0)\n",
    "Pk_f = np.full_like(Pk,0)\n",
    "\n",
    "# change unit of power spectrum\n",
    "for i in range(0,kbins):\n",
    "    kk_f[i] = kk[i]/h\n",
    "    Pk_f[i] = Pk[i]*h**3"
   ]
  },
  {
   "cell_type": "code",
   "execution_count": 26,
   "id": "4f63972d-8e7c-44f3-b20c-d87a0e078ce2",
   "metadata": {},
   "outputs": [
    {
     "data": {
      "text/plain": [
       "Text(0, 0.5, 'P(k)[$(h^{-1}Mpc)^3$]')"
      ]
     },
     "execution_count": 26,
     "metadata": {},
     "output_type": "execute_result"
    },
    {
     "data": {
      "image/png": "[encoded data removed]",
      "text/plain": [
       "<Figure size 432x288 with 1 Axes>"
      ]
     },
     "metadata": {
      "needs_background": "light"
     },
     "output_type": "display_data"
    }
   ],
   "source": [
    "plt.loglog(kk_f, Pk_f)\n",
    "#plt.ylim(1,)\n",
    "plt.xlabel('k$[h.Mpc^{-1}]$')\n",
    "plt.ylabel('P(k)[$(h^{-1}Mpc)^3$]')"
   ]
  },
  {
   "cell_type": "raw",
   "id": "b8bb0dc1-5c5b-4987-98ca-d486c76376fe",
   "metadata": {},
   "source": [
    "output = np.array([kk_f, Pk_f])\n",
    "output = output.T\n",
    "with open(path+'/results/power_spectrum03.txt', 'w') as openfile:\n",
    "    np.savetxt(openfile, output)"
   ]
  },
  {
   "cell_type": "code",
   "execution_count": 167,
   "id": "db83c68b-2ec2-4074-80ce-27f5545ec153",
   "metadata": {},
   "outputs": [],
   "source": [
    "k03   = np.loadtxt(path+'/results/power_spectrum03.txt', usecols = (0))\n",
    "P03   = np.loadtxt(path+'/results/power_spectrum03.txt', usecols = (1))\n",
    "k   = np.loadtxt(path+'/my_results/matter_Pk.txt', usecols = (0))\n",
    "P   = np.loadtxt(path+'/my_results/matter_Pk.txt', usecols = (1))\n",
    "#k05   = np.loadtxt(path+'/results/power_spectrum05.txt', usecols = (0))\n",
    "#P05   = np.loadtxt(path+'/results/power_spectrum05.txt', usecols = (1))"
   ]
  },
  {
   "cell_type": "code",
   "execution_count": 169,
   "id": "0396cffe-924f-44ba-b2a9-a82734d6ae05",
   "metadata": {},
   "outputs": [
    {
     "data": {
      "text/plain": [
       "<matplotlib.legend.Legend at 0x7fd96173f490>"
      ]
     },
     "execution_count": 169,
     "metadata": {},
     "output_type": "execute_result"
    },
    {
     "data": {
      "image/png": "[encoded data removed]",
      "text/plain": [
       "<Figure size 432x288 with 1 Axes>"
      ]
     },
     "metadata": {
      "needs_background": "light"
     },
     "output_type": "display_data"
    }
   ],
   "source": [
    "amp = 1.1\n",
    "#plt.loglog(k05, P05*amp,'b-', label =\" $P_m(k), z = 0.5$\")\n",
    "plt.loglog(k03, P03,'g:', label =\" $P_m(k), z = 0.3$\")\n",
    "plt.loglog(k, P,'--', label =\" test\")\n",
    "\n",
    "#plt.loglog(kk_f,Pk_f,'r-', label =\" $P_m(k), z = 0$\")\n",
    "#plt.ylim(1,)\n",
    "plt.xlabel('k$[h.Mpc^{-1}]$')\n",
    "plt.ylabel('P(k)[$(h^{-1}Mpc)^3$]')\n",
    "plt.legend()"
   ]
  },
  {
   "cell_type": "code",
   "execution_count": 171,
   "id": "dfe8ee59-e153-47e2-8e27-4fb8623baf4b",
   "metadata": {},
   "outputs": [
    {
     "ename": "ValueError",
     "evalue": "operands could not be broadcast together with shapes (5000,) (2000,) ",
     "output_type": "error",
     "traceback": [
      "\u001b[0;31m---------------------------------------------------------------------------\u001b[0m",
      "\u001b[0;31mValueError\u001b[0m                                Traceback (most recent call last)",
      "\u001b[0;32m<ipython-input-171-0b74b1b49c97>\u001b[0m in \u001b[0;36m<module>\u001b[0;34m\u001b[0m\n\u001b[1;32m      1\u001b[0m \u001b[0my\u001b[0m \u001b[0;34m=\u001b[0m \u001b[0mnp\u001b[0m\u001b[0;34m.\u001b[0m\u001b[0mfull_like\u001b[0m\u001b[0;34m(\u001b[0m\u001b[0mk03\u001b[0m\u001b[0;34m,\u001b[0m\u001b[0;36m1\u001b[0m\u001b[0;34m)\u001b[0m\u001b[0;34m\u001b[0m\u001b[0;34m\u001b[0m\u001b[0m\n\u001b[0;32m----> 2\u001b[0;31m \u001b[0mplt\u001b[0m\u001b[0;34m.\u001b[0m\u001b[0mplot\u001b[0m\u001b[0;34m(\u001b[0m\u001b[0mk03\u001b[0m\u001b[0;34m,\u001b[0m \u001b[0mP03\u001b[0m\u001b[0;34m/\u001b[0m\u001b[0mP\u001b[0m\u001b[0;34m,\u001b[0m\u001b[0;34m'g:'\u001b[0m\u001b[0;34m)\u001b[0m\u001b[0;34m\u001b[0m\u001b[0;34m\u001b[0m\u001b[0m\n\u001b[0m\u001b[1;32m      3\u001b[0m \u001b[0mplt\u001b[0m\u001b[0;34m.\u001b[0m\u001b[0mplot\u001b[0m\u001b[0;34m(\u001b[0m\u001b[0mk03\u001b[0m\u001b[0;34m,\u001b[0m\u001b[0my\u001b[0m\u001b[0;34m,\u001b[0m\u001b[0;34m'r-'\u001b[0m\u001b[0;34m)\u001b[0m\u001b[0;34m\u001b[0m\u001b[0;34m\u001b[0m\u001b[0m\n\u001b[1;32m      4\u001b[0m \u001b[0mplt\u001b[0m\u001b[0;34m.\u001b[0m\u001b[0mylim\u001b[0m\u001b[0;34m(\u001b[0m\u001b[0;36m0.9\u001b[0m\u001b[0;34m,\u001b[0m\u001b[0;36m1.05\u001b[0m\u001b[0;34m)\u001b[0m\u001b[0;34m\u001b[0m\u001b[0;34m\u001b[0m\u001b[0m\n\u001b[1;32m      5\u001b[0m \u001b[0mplt\u001b[0m\u001b[0;34m.\u001b[0m\u001b[0mxlabel\u001b[0m\u001b[0;34m(\u001b[0m\u001b[0;34m'k$[h.Mpc^{-1}]$'\u001b[0m\u001b[0;34m)\u001b[0m\u001b[0;34m\u001b[0m\u001b[0;34m\u001b[0m\u001b[0m\n",
      "\u001b[0;31mValueError\u001b[0m: operands could not be broadcast together with shapes (5000,) (2000,) "
     ]
    }
   ],
   "source": [
    "y = np.full_like(k03,1)\n",
    "plt.plot(k03, P03/P,'g:')\n",
    "plt.plot(k03,y,'r-')\n",
    "plt.ylim(0.9,1.05)\n",
    "plt.xlabel('k$[h.Mpc^{-1}]$')\n",
    "plt.ylabel('P(k)[$(h^{-1}Mpc)^3$]')\n",
    "plt.title('ratio of Pk over the matter_Pk.txt sigma8 input')\n",
    "plt.legend()\n",
    "#plt.savefig('powerspectrum-input-error.png')"
   ]
  },
  {
   "cell_type": "markdown",
   "id": "5e781524-046f-4086-a01b-786e347a5e31",
   "metadata": {},
   "source": [
    "=> that is why I got the inconsistent results: the last one I used A_s for input, while the previous one I use sigma8. \n",
    "Now let find which one is correct."
   ]
  },
  {
   "cell_type": "code",
   "execution_count": null,
   "id": "d569af2b-87f0-4acf-a44a-c69c26ab6ac3",
   "metadata": {},
   "outputs": [],
   "source": []
  }
 ],
 "metadata": {
  "kernelspec": {
   "display_name": "Python 3",
   "language": "python",
   "name": "python3"
  },
  "language_info": {
   "codemirror_mode": {
    "name": "ipython",
    "version": 3
   },
   "file_extension": ".py",
   "mimetype": "text/x-python",
   "name": "python",
   "nbconvert_exporter": "python",
   "pygments_lexer": "ipython3",
   "version": "3.8.8"
  }
 },
 "nbformat": 4,
 "nbformat_minor": 5
}
