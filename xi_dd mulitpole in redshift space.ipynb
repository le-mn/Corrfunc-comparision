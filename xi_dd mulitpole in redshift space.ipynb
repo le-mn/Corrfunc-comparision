{
 "cells": [
  {
   "cell_type": "markdown",
   "id": "faed8dca-cc6b-410d-bb4e-330ab18892ef",
   "metadata": {},
   "source": [
    "\n",
    "Calculate the density auto-correlation function multipoles $\\xi_{dd,l}^s$\n",
    "in redshift space, using package DDsmu\n"
   ]
  },
  {
   "cell_type": "code",
   "execution_count": 25,
   "id": "10f832b7-8473-43f5-873b-84d232e0584f",
   "metadata": {},
   "outputs": [],
   "source": [
    "from __future__ import print_function\n",
    "import numpy as np\n",
    "import matplotlib.pyplot as plt\n",
    "from Corrfunc.theory.DDsmu import DDsmu\n",
    "from hankel import HankelTransform\n",
    "from scipy.interpolate import InterpolatedUnivariateSpline as spline \n",
    "path = '/Users/ngoc/Desktop/Master-study/project'"
   ]
  },
  {
   "cell_type": "code",
   "execution_count": 26,
   "id": "da320a62",
   "metadata": {},
   "outputs": [],
   "source": [
    "\n",
    "#cosmological parameters\n",
    "z        = 0.306                                #redshift\n",
    "H_0      = 67                                   #Hubble const\n",
    "Omg_lamb = 0.685                                #cosmological density parameter\n",
    "Omg_m    = 1. - Omg_lamb                        #mater density parameter\n",
    "a        = 1./(1. + z)                          #scale factor\n",
    "E_a      = np.sqrt(Omg_m*(1.+z)**3. + Omg_lamb) #parameter of Hubble H = E*H_0\n",
    "f        = 0.687255861\n",
    "b        = 3.11                                 #bias for halo b = \\delta_halo/\\delta_matter\n"
   ]
  },
  {
   "cell_type": "code",
   "execution_count": 27,
   "id": "2ba0f75c",
   "metadata": {},
   "outputs": [],
   "source": [
    "#simulation paramters\n",
    "boxsize  = 2000                    #length of 1D of the box [Mpc/h]\n",
    "nthreads = 4                       #number of Open MP threads to use \n",
    "autocorr = 1                       #auto correlation\n",
    "nbins    = 50                      #number of bins\n",
    "rmin     = 1.\n",
    "rmax     = boxsize/3\n",
    "bins     = np.logspace(np.log10(rmin), np.log10(rmax), nbins+1)     \n",
    "mu_max   = 1                       #maximum value of cosine of the angle separated from the LOS\n",
    "nmu_bins = 10                      #number of bins of the angle separation \n",
    "delta_mu = mu_max/nmu_bins\n",
    "ndata    = 8                       #number of data\n",
    "set_data = \"112345678\"             #for reading the data\n",
    "\n"
   ]
  },
  {
   "cell_type": "code",
   "execution_count": 28,
   "id": "4024fc41-ea1d-4e46-b0ee-bc183f028627",
   "metadata": {},
   "outputs": [],
   "source": [
    "A_0 = np.zeros((ndata,nbins))\n",
    "r   = np.zeros((ndata,nbins))\n",
    "A_2 = np.zeros((ndata,nbins))\n",
    "A_4 = np.zeros((ndata,nbins))\n",
    "\n",
    "\n",
    "#Legendre polynomials\n",
    "P0 = 1\n",
    "P2 = lambda mu: (3*mu**2-1)/2\n",
    "P4 = lambda mu: (35*mu**4 - 30*mu**2 + 3)/8 \n",
    "\n"
   ]
  },
  {
   "cell_type": "code",
   "execution_count": 29,
   "id": "cfb8a749-2628-41ca-8a17-3c398271c126",
   "metadata": {},
   "outputs": [
    {
     "ename": "RuntimeError",
     "evalue": "RuntimeError occurred",
     "output_type": "error",
     "traceback": [
      "\u001b[0;31m---------------------------------------------------------------------------\u001b[0m",
      "\u001b[0;31mRuntimeError\u001b[0m                              Traceback (most recent call last)",
      "\u001b[0;32m<ipython-input-29-147ad7d2a9b6>\u001b[0m in \u001b[0;36m<module>\u001b[0;34m\u001b[0m\n\u001b[1;32m     28\u001b[0m \u001b[0;34m\u001b[0m\u001b[0m\n\u001b[1;32m     29\u001b[0m     \u001b[0;31m#using DDsmu to calculate pair\u001b[0m\u001b[0;34m\u001b[0m\u001b[0;34m\u001b[0m\u001b[0;34m\u001b[0m\u001b[0m\n\u001b[0;32m---> 30\u001b[0;31m     results_DDsmu = DDsmu(autocorr,\n\u001b[0m\u001b[1;32m     31\u001b[0m                           \u001b[0mnthreads\u001b[0m\u001b[0;34m,\u001b[0m\u001b[0;34m\u001b[0m\u001b[0;34m\u001b[0m\u001b[0m\n\u001b[1;32m     32\u001b[0m                           \u001b[0mbins\u001b[0m\u001b[0;34m,\u001b[0m\u001b[0;34m\u001b[0m\u001b[0;34m\u001b[0m\u001b[0m\n",
      "\u001b[0;32m~/anaconda3/lib/python3.8/site-packages/Corrfunc/theory/DDsmu.py\u001b[0m in \u001b[0;36mDDsmu\u001b[0;34m(autocorr, nthreads, binfile, mu_max, nmu_bins, X1, Y1, Z1, weights1, periodic, X2, Y2, Z2, weights2, verbose, boxsize, output_savg, fast_divide_and_NR_steps, xbin_refine_factor, ybin_refine_factor, zbin_refine_factor, max_cells_per_dim, copy_particles, enable_min_sep_opt, c_api_timer, isa, weight_type)\u001b[0m\n\u001b[1;32m    315\u001b[0m     \u001b[0;32mif\u001b[0m \u001b[0mextn_results\u001b[0m \u001b[0;32mis\u001b[0m \u001b[0;32mNone\u001b[0m\u001b[0;34m:\u001b[0m\u001b[0;34m\u001b[0m\u001b[0;34m\u001b[0m\u001b[0m\n\u001b[1;32m    316\u001b[0m         \u001b[0mmsg\u001b[0m \u001b[0;34m=\u001b[0m \u001b[0;34m\"RuntimeError occurred\"\u001b[0m\u001b[0;34m\u001b[0m\u001b[0;34m\u001b[0m\u001b[0m\n\u001b[0;32m--> 317\u001b[0;31m         \u001b[0;32mraise\u001b[0m \u001b[0mRuntimeError\u001b[0m\u001b[0;34m(\u001b[0m\u001b[0mmsg\u001b[0m\u001b[0;34m)\u001b[0m\u001b[0;34m\u001b[0m\u001b[0;34m\u001b[0m\u001b[0m\n\u001b[0m\u001b[1;32m    318\u001b[0m     \u001b[0;32melse\u001b[0m\u001b[0;34m:\u001b[0m\u001b[0;34m\u001b[0m\u001b[0;34m\u001b[0m\u001b[0m\n\u001b[1;32m    319\u001b[0m         \u001b[0mextn_results\u001b[0m\u001b[0;34m,\u001b[0m \u001b[0mapi_time\u001b[0m \u001b[0;34m=\u001b[0m \u001b[0mextn_results\u001b[0m\u001b[0;34m\u001b[0m\u001b[0;34m\u001b[0m\u001b[0m\n",
      "\u001b[0;31mRuntimeError\u001b[0m: RuntimeError occurred"
     ]
    }
   ],
   "source": [
    "for i in range (0,ndata):\n",
    "#load positions of objects\n",
    "    X = np.loadtxt(path+'/catalogs/'+set_data[0]+set_data[i+1]+'/gals/2gpc/R1'+set_data[0]+set_data[i+1]+'_S014_clu_d.cat',\n",
    "                   usecols = (1))\n",
    "    Y = np.loadtxt(path+'/catalogs/'+set_data[0]+set_data[i+1]+'/gals/2gpc/R1'+set_data[0]+set_data[i+1]+'_S014_clu_d.cat',\n",
    "                   usecols = (2))\n",
    "    Z = np.loadtxt(path+'/catalogs/'+set_data[0]+set_data[i+1]+'/gals/2gpc/R1'+set_data[0]+set_data[i+1]+'_S014_clu_d.cat',\n",
    "                   usecols = (3))\n",
    "\n",
    "    #load LOS velocities of objects (Z-direction is the LOS) \n",
    "    V_z = np.loadtxt(path+'/catalogs/'+set_data[0]+set_data[i+1]+'/gals/2gpc/R1'+set_data[0]+set_data[i+1]+'_S014_clu_d.cat',\n",
    "                     usecols = (6))\n",
    "    \n",
    "    s   = Z + V_z/(a*E_a*100) \n",
    "    \n",
    "    # PBC \n",
    "    for j in range(len(s)):\n",
    "        if s[j] < 0:\n",
    "            s[j] = s[j] + boxsize\n",
    "        elif s[j] > boxsize:\n",
    "            s[j] = s[j] - boxsize\n",
    "        \n",
    "    weights = np.full_like(X,1)\n",
    "    \n",
    "    #calculate random-random pairs \n",
    "    N_halo = len(X)\n",
    "    RR     = (4./3.*np.pi*(bins[1::]**3 - bins[0:-1:]**3))*N_halo*(N_halo-1)/boxsize**3\n",
    "    \n",
    "    #using DDsmu to calculate pair\n",
    "    results_DDsmu = DDsmu(autocorr,\n",
    "                          nthreads,\n",
    "                          bins,\n",
    "                          mu_max,\n",
    "                          nmu_bins,\n",
    "                          X, Y, s,\n",
    "                          weights1    = weights,\n",
    "                          boxsize     = boxsize,\n",
    "                          weight_type = 'pair_product',\n",
    "                          periodic    = True,\n",
    "                          output_savg = True)\n",
    " \n",
    "    # using mu value from F-corrfunc\n",
    "    mu = np.loadtxt(path+'/my-f-code/results/xi-ddsmu-realization'+set_data[i+1]+'.txt', usecols = (2))\n",
    "#    mu       = results_DDsmu['mu_max']\n",
    "    r_mu     = results_DDsmu['savg']\n",
    "    DD_r_mu  = results_DDsmu['npairs']*results_DDsmu['weightavg']\n",
    "      \n",
    "    #monopole\n",
    "    DD_r= np.zeros(nbins)      \n",
    "    xi0 = np.zeros(nbins)\n",
    "    r0  = np.zeros(nbins)\n",
    "    \n",
    "    l   = 0 \n",
    "    for ii in range(0,nbins):\n",
    "        for j in range ((ii)*nmu_bins,(ii+1)*nmu_bins):\n",
    "            xi0[ii] = xi0[ii] + (DD_r_mu[j]/(RR[ii]/nmu_bins)-1)*P0*delta_mu       \n",
    "            r0[ii]  = r0[ii]  + r_mu[j]  \n",
    "            DD_r[ii]= DD_r[ii]+ DD_r_mu[j]\n",
    "            \n",
    "    xi0 = (2*l+1)*xi0\n",
    "    r0  = r0/nmu_bins\n",
    "    \n",
    "    A_0[i] = xi0\n",
    "    r[i]   = r0\n",
    "    \n",
    "      \n",
    "    #quadrupole\n",
    "            \n",
    "    xi2 = np.zeros(nbins)\n",
    "    l   = 2\n",
    "    \n",
    "    for ii in range(0,nbins):\n",
    "        for j in range ((ii)*nmu_bins,(ii+1)*nmu_bins):\n",
    "            xi2[ii] = xi2[ii] + (DD_r_mu[j]/(RR[ii]/nmu_bins)-1)*delta_mu*P2(mu[j])\n",
    "   \n",
    "    xi2    = (2*l+1)*xi2\n",
    "    A_2[i] = xi2\n",
    "\n",
    "  \n",
    "    #hexadecapole\n",
    "        \n",
    "    xi4 = np.zeros(nbins)\n",
    "    l   = 4    \n",
    "    for ii in range(0,nbins):\n",
    "        for j in range ((ii)*nmu_bins,(ii+1)*nmu_bins):\n",
    "            xi4[ii] = xi4[ii] + (DD_r_mu[j]/(RR[ii]/nmu_bins)-1)*delta_mu*P4(mu[j])\n",
    "        \n",
    "    xi4    = (2*l+1)*xi4 \n",
    "    A_4[i] = xi4\n",
    "    \n"
   ]
  },
  {
   "cell_type": "code",
   "execution_count": null,
   "id": "62df83ac-7121-44db-8573-7f1e6cd6b876",
   "metadata": {},
   "outputs": [],
   "source": [
    "\n",
    "#monopole\n",
    "xi_dd0_s = np.zeros(nbins)\n",
    "r_s      = np.zeros(nbins)\n",
    "\n",
    "for i in range(0,nbins):\n",
    "    r_s[i]      = np.mean(r[0:ndata,i])\n",
    "    xi_dd0_s[i] = np.mean(A_0[0:ndata,i])\n",
    "\n",
    "\n",
    "error_xi_dd0_s = np.zeros(nbins) \n",
    "for i in range(0,nbins):\n",
    "    a = 0\n",
    "    for j in range(0,ndata):\n",
    "        a = a + (A_0[j,i] - xi_dd0_s[i])**2.\n",
    "    error_xi_dd0_s[i] = np.sqrt(a/(ndata-1)) #standard deviation\n",
    "serror_xi_dd0_s = error_xi_dd0_s/np.sqrt(ndata)\n",
    "\n",
    "#quadrupole\n",
    "xi_dd2_s = np.zeros(nbins)\n",
    "for i in range(0,nbins):\n",
    "    xi_dd2_s[i] = np.mean(A_2[0:ndata,i])\n",
    "\n",
    "error_xi_dd2_s = np.zeros(nbins) \n",
    "for i in range(0,nbins):\n",
    "    a = 0\n",
    "    for j in range(0,ndata):\n",
    "        a = a + (A_2[j,i] - xi_dd2_s[i])**2\n",
    "    error_xi_dd2_s[i] = np.sqrt(a/(ndata-1))\n",
    "serror_xi_dd2_s = error_xi_dd2_s/np.sqrt(ndata)\n",
    "\n",
    "\n",
    "#hexadecapole\n",
    "xi_dd4_s = np.zeros(nbins)\n",
    "for i in range(0,nbins):\n",
    "    xi_dd4_s[i] = np.mean(A_4[0:ndata,i])\n",
    "\n",
    "error_xi_dd4_s = np.zeros(nbins) \n",
    "for i in range(0,nbins):\n",
    "    a = 0\n",
    "    for j in range(0,ndata):\n",
    "        a = a + (A_4[j,i] - xi_dd4_s[i])**2\n",
    "    error_xi_dd4_s[i] = np.sqrt(a/(ndata))\n",
    "serror_xi_dd4_s = error_xi_dd4_s/np.sqrt(ndata-1)\n",
    "\n",
    "\n"
   ]
  },
  {
   "cell_type": "raw",
   "id": "bd8de5a3-a881-4656-b5da-4094ca15140f",
   "metadata": {},
   "source": [
    "output = np.array([r_s, xi_dd0_s, serror_xi_dd0_s])\n",
    "output1 = output.T\n",
    "np.savetxt('xi_dd_redshiftspace_mono.txt', output1)\n",
    "\n",
    "output = np.array([r_s, xi_dd2_s, serror_xi_dd2_s])\n",
    "output1 = output.T\n",
    "np.savetxt('xi_dd_redshiftspace_quad.txt', output1)"
   ]
  },
  {
   "cell_type": "raw",
   "id": "8240847d-7f6d-4592-bd24-c2cf99fd9aab",
   "metadata": {},
   "source": [
    "#The hexadecapole is noisy so we no need to concentrate on it\n",
    "\n",
    "output = np.array([r_s, xi_dd4_s, serror_xi_dd4_s])\n",
    "output1 = output.T\n",
    "np.savetxt('xi_dd_redshiftspace_hexa.txt', output1)"
   ]
  },
  {
   "cell_type": "code",
   "execution_count": 22,
   "id": "0d5f3b87",
   "metadata": {},
   "outputs": [],
   "source": [
    "'''\n",
    "theoretical calculations of the density-density correlation function multipoles\n",
    "in redshift space, using package DDsmu\n",
    "the cosmological parameters taken from the paper 1907.00750 \n",
    "'''\n",
    "beta = f/b\n",
    "#relation between the real and redshift space power spectrum multipoles (Kaiser's coefficients)\n",
    "K0   = 1 + 2/3*beta + 1/5*beta**2\n",
    "K2   = 4/3*beta + 4/7*beta**2\n",
    "K4   = 8/35*beta**2\n"
   ]
  },
  {
   "cell_type": "code",
   "execution_count": 30,
   "id": "cda296b5",
   "metadata": {},
   "outputs": [],
   "source": [
    "# loading the power spectrum in realspace\n",
    "k   = np.loadtxt(path+'/results/power_spectrum03.txt', usecols = (0))\n",
    "P   = np.loadtxt(path+'/results/power_spectrum03.txt', usecols = (1))\n",
    "#Pcut   = np.loadtxt(path+'/my-p-code/results/mPk_cut.txt', usecols = (1))\n",
    "r  = np.loadtxt(path+'/my-p-code/xi_dd_redshiftspace_mono.txt', usecols=(0))\n",
    "#r   = r_s # using the same distance as the simulation results to compare\n",
    "P_k = spline(k, P)\n",
    "#P_k_cut = spline(k,Pcut)"
   ]
  },
  {
   "cell_type": "code",
   "execution_count": 31,
   "id": "ea7834ed",
   "metadata": {},
   "outputs": [],
   "source": [
    "#monopole\n",
    "h0         = HankelTransform(nu = 1/2, N = 3000, h = 1e-5)\n",
    "\n",
    "f_0        = lambda k: P_k(k)*np.sqrt(k)/(np.pi*2)**(3/2)\n",
    "xi_dd0_lin = 1/np.sqrt(r)*h0.transform(f_0,r, ret_err=False, inverse=True)*K0*b**2\n",
    "\n",
    "#f_0_cut        = lambda k: P_k_cut(k)*np.sqrt(k)/(np.pi*2)**(3/2)\n",
    "#xi_dd0_lin_cut = 1/np.sqrt(r)*h0.transform(f_0_cut,r, ret_err=False, inverse=True)*K0*b**2"
   ]
  },
  {
   "cell_type": "raw",
   "id": "072db2f8-1221-4486-8f11-fb655e16a0c7",
   "metadata": {},
   "source": [
    "#quadrupole\n",
    "h2         = HankelTransform(nu = 5/2, N = 3000, h = 1e-5)\n",
    "\n",
    "f_2        = lambda k: P_k(k)*np.sqrt(k)/(np.pi*2)**(3/2)\n",
    "xi_dd2_lin = -1/np.sqrt(r)*h2.transform(f_2,r, ret_err=False, inverse=True)*K2*b**2\n",
    "\n",
    "f_2_cut        = lambda k: P_k_cut(k)*np.sqrt(k)/(np.pi*2)**(3/2)\n",
    "xi_dd2_lin_cut = -1/np.sqrt(r)*h2.transform(f_2_cut,r, ret_err=False, inverse=True)*K2*b**2\n",
    " "
   ]
  },
  {
   "cell_type": "raw",
   "id": "4671cddc-6e2c-4d9f-8bda-1bf30c0a090d",
   "metadata": {},
   "source": [
    "#hexadecapole\n",
    "h4         = HankelTransform(nu = 9/2, N = 3000, h = 1e-5)\n",
    "f_4        = lambda k: P_k(k)*np.sqrt(k)/(np.pi*2)**(3/2)\n",
    "xi_dd4_lin = 1/np.sqrt(r)*h4.transform(f_4,r, ret_err=False, inverse=True)*K4*b**2\n"
   ]
  },
  {
   "cell_type": "raw",
   "id": "efdebf52-f58c-411c-9598-ee67f6030696",
   "metadata": {},
   "source": [
    "output = np.array([r, xi_dd0_lin_cut, xi_dd2_lin_cut])\n",
    "output1 = output.T\n",
    "np.savetxt(path+'/my-p-code/results/xi_dd_redshiftspace_theory_cut.txt', output1)"
   ]
  },
  {
   "cell_type": "code",
   "execution_count": 32,
   "id": "04150601-859a-4c4d-8ecd-754c1623579b",
   "metadata": {},
   "outputs": [
    {
     "data": {
      "text/plain": [
       "<matplotlib.legend.Legend at 0x7fdbaf4b66a0>"
      ]
     },
     "execution_count": 32,
     "metadata": {},
     "output_type": "execute_result"
    },
    {
     "data": {
      "image/png": "[encoded data removed]",
      "text/plain": [
       "<Figure size 432x288 with 1 Axes>"
      ]
     },
     "metadata": {
      "needs_background": "light"
     },
     "output_type": "display_data"
    }
   ],
   "source": [
    "plt.semilogx(r, xi_dd0_lin*r**2, 'r-', label =\" $\\\\xi^s_{dd,0}$ theory\")\n",
    "#plt.plot(r,    -xi_dd2_lin*r**2, 'b-', label =\"-$\\\\xi^s_{dd,2}$ theory\")\n",
    "#plt.plot(r,     xi_dd4_lin*r**2, 'g-', label =\" $\\\\xi^s_{dd,0}$ theory\")\n",
    "plt.xlim(1,)\n",
    "plt.ylim(-150,350)\n",
    "plt.xlabel('s$ [Mpc.h^{-1}]$')\n",
    "plt.ylabel('$\\\\xi_{dd,l}. s^2$')\n",
    "plt.legend()"
   ]
  },
  {
   "cell_type": "code",
   "execution_count": 18,
   "id": "63131d1c",
   "metadata": {},
   "outputs": [
    {
     "data": {
      "text/plain": [
       "<matplotlib.legend.Legend at 0x7fdbae11f9a0>"
      ]
     },
     "execution_count": 18,
     "metadata": {},
     "output_type": "execute_result"
    },
    {
     "data": {
      "image/png": "[encoded data removed]",
      "text/plain": [
       "<Figure size 432x288 with 1 Axes>"
      ]
     },
     "metadata": {
      "needs_background": "light"
     },
     "output_type": "display_data"
    }
   ],
   "source": [
    "#plot the theory and simulation multipoles in the same plot\n",
    "ax = plt.axes()\n",
    "ax.set_xscale(\"log\")\n",
    "#ax.set_yscale(\"log\")\n",
    "#for i in range(0,ndata):\n",
    "#    ax.plot(r_s,A_0[i]*r_s**2,':')\n",
    "#ax.errorbar(r, xi_dd0_s*r**2, fmt = 'r.' , yerr = error_xi_dd0_s*r**2, label='$\\\\xi^s_{dd,0}$ simulation')\n",
    "#ax.errorbar(r_s,  xi_dd0_s*r_s**2, fmt = 'c-' , yerr = (1+xi_dd0_s)/np.sqrt(DD_r)*r_s**2, label=' $\\\\xi^s_{dd,0}$ Poisson err')\n",
    "ax.plot(r, xi_dd0_lin*r**2, 'r-', label=\"$\\\\xi^s_{dd,0}$\")\n",
    "ax.set_ylabel(\"$\\\\xi_{dd,l}.s^2$\")\n",
    "ax.set_xlabel(\"s[Mpc$.h^{-1}$]\")\n",
    "ax.set_title('the density autocorrelation function monopole in redshift space')\n",
    "ax.legend()\n",
    "#ax.set_xlim(100,)\n",
    "#ax.set_ylim(-100,200)\n",
    "#plt.savefig('xi_dd0.png')"
   ]
  },
  {
   "cell_type": "code",
   "execution_count": null,
   "id": "dd32be46",
   "metadata": {},
   "outputs": [],
   "source": [
    "#plot the theory and simulation multipoles in the same plot\n",
    "ax = plt.axes()\n",
    "ax.set_xscale(\"log\")\n",
    "#ax.set_yscale(\"log\")\n",
    "#for i in range(0,ndata):\n",
    "#    ax.plot(r_s, -A_2[i]*r_s**2,':')\n",
    "ax.errorbar(r_s, -xi_dd2_s*r_s**2, fmt = 'b.', yerr = error_xi_dd2_s*r_s**2, label='-$\\\\xi^s_{dd,2}$ simulation')\n",
    "ax.plot(r, -xi_dd2_lin*r**2, 'b--' , label=\"-$\\\\xi^s_{dd,2}$ theory\")\n",
    "ax.set_ylabel(\"$\\\\xi_{dd,l}.s^2$\")\n",
    "ax.set_xlabel(\"s[Mpc$.h^{-1}$]\")\n",
    "ax.set_title('The density autocorrelation function quadrupole in redshift space')\n",
    "ax.legend()\n",
    "#ax.set_xlim(100,)\n",
    "#ax.set_ylim(-120,300)\n",
    "#plt.savefig('xi_dd2.png')"
   ]
  },
  {
   "cell_type": "code",
   "execution_count": null,
   "id": "dd777e9f",
   "metadata": {},
   "outputs": [],
   "source": [
    "#plot the theory and simulation multipoles in the same plot\n",
    "ax = plt.axes()\n",
    "ax.set_xscale(\"log\")\n",
    "#for i in range(0,ndata):\n",
    "#    ax.plot(r_s,A_4[i]*r_s**2,':')\n",
    "ax.errorbar(r_s, xi_dd4_s*r_s**2, fmt = 'g.' , yerr = error_xi_dd4_s*r_s**2, label='$\\\\xi^s_{dd,4}$ simulation')\n",
    "ax.plot(r, xi_dd4_lin*r**2, 'g-', label = \"$\\\\xi^s_{dd,4}$theory\")\n",
    "ax.set_ylabel(\"$\\\\xi_{dd,l}.s^2$\")\n",
    "ax.set_xlabel(\"s[Mpc$.h^{-1}$]\")\n",
    "ax.set_title('The density autocorrelation function hexadecapole in redshift space')\n",
    "ax.legend()\n",
    "#ax.set_xlim(100,)\n",
    "#ax.set_ylim(-150,300)\n",
    "#plt.savefig('xi_dd4.png')"
   ]
  },
  {
   "cell_type": "raw",
   "id": "ca1159e9-d447-426f-ab40-0fb31e470ff4",
   "metadata": {},
   "source": [
    "\n",
    "output = np.array([r_s, xi_dd0_lin, xi_dd2_lin, xi_dd4_lin])\n",
    "output = output.T\n",
    "with open(path+'/results/xi_dd_s.txt', 'w') as openfile:\n",
    "    np.savetxt(openfile, output)"
   ]
  },
  {
   "cell_type": "code",
   "execution_count": null,
   "id": "be81a8e1-3b7a-4fcc-b5e6-74b1a58cecdb",
   "metadata": {},
   "outputs": [],
   "source": []
  }
 ],
 "metadata": {
  "kernelspec": {
   "display_name": "Python 3",
   "language": "python",
   "name": "python3"
  },
  "language_info": {
   "codemirror_mode": {
    "name": "ipython",
    "version": 3
   },
   "file_extension": ".py",
   "mimetype": "text/x-python",
   "name": "python",
   "nbconvert_exporter": "python",
   "pygments_lexer": "ipython3",
   "version": "3.8.8"
  }
 },
 "nbformat": 4,
 "nbformat_minor": 5
}
