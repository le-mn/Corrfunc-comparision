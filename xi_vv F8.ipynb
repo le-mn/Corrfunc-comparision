{
 "cells": [
  {
   "cell_type": "markdown",
   "id": "ae819846-5fca-48ad-a734-ca87dded050c",
   "metadata": {},
   "source": [
    "Code for calculating velocity auto-correlation function $\\xi_{vv,l}$\n",
    "multipole in real space, using the module DDsmu"
   ]
  },
  {
   "cell_type": "code",
   "execution_count": 99,
   "id": "ed24bc9a-a508-4135-98e8-65a9274b4cec",
   "metadata": {},
   "outputs": [],
   "source": [
    "from __future__ import print_function\n",
    "import numpy as np\n",
    "import matplotlib.pyplot as plt\n",
    "from Corrfunc.theory.DDsmu import DDsmu\n",
    "from hankel import HankelTransform\n",
    "from scipy.interpolate import InterpolatedUnivariateSpline as spline \n",
    "path ='/Users/ngoc/Desktop/Master-study/project'"
   ]
  },
  {
   "cell_type": "code",
   "execution_count": 100,
   "id": "05129d40",
   "metadata": {},
   "outputs": [],
   "source": [
    "#cosmological parameters\n",
    "z        = 0.306                   #redshift\n",
    "f        = 0.687255861             #growth rate\n",
    "Omg_lamb = 0.685                   #dark energy density parameter\n",
    "Omg_m    = 1. - Omg_lamb           #matter density parameter\n",
    "a        = 1./(1. + z)             #scale factor\n",
    "E_a      = np.sqrt(Omg_m*(1.+z)**3. + Omg_lamb) \n"
   ]
  },
  {
   "cell_type": "code",
   "execution_count": 101,
   "id": "f07bc370",
   "metadata": {},
   "outputs": [],
   "source": [
    "#simulation parameters\n",
    "boxsize  = 2000                    #length of the box [Mpc/h]\n",
    "nthreads = 4                       #number of Open MP threads to use \n",
    "autocorr = 1                       #auto correlation\n",
    "nbins    = 50                      #number of bins\n",
    "rmin     = 1.                      #minimum separation [Mpc/h]\n",
    "rmax     = boxsize/3               #maximum separation [Mpc/h]\n",
    "bins     = np.logspace(np.log10(rmin), np.log10(rmax), nbins+1)     \n",
    "mu_max   = 1                       #maximum value of cosine of the angle separated from the LOS\n",
    "nmu_bins = 10                      #number of bins of the angle separation \n",
    "delta_mu = mu_max/nmu_bins\n"
   ]
  },
  {
   "cell_type": "code",
   "execution_count": 129,
   "id": "2e7821b4",
   "metadata": {},
   "outputs": [],
   "source": [
    "#Legendre polynomials\n",
    "P0 = 1\n",
    "P_2 = lambda mu: (3*mu**2-1)/2"
   ]
  },
  {
   "cell_type": "code",
   "execution_count": 103,
   "id": "2ac3f697-1357-42b0-b6d8-cf195ad5b6d3",
   "metadata": {},
   "outputs": [],
   "source": [
    "k   = np.loadtxt(path+'/results/power_spectrum.txt', usecols = (0))\n",
    "P   = np.loadtxt(path+'/results/power_spectrum.txt', usecols = (1))\n",
    "P_k = spline(k, P)"
   ]
  },
  {
   "cell_type": "code",
   "execution_count": 104,
   "id": "a0821d01-b0e5-4e0b-b45a-6beaa308fa7e",
   "metadata": {},
   "outputs": [],
   "source": [
    "# load positions of objects\n",
    "X = np.loadtxt(path+'/catalogs/13/gals/2gpc/R113_S014_clu_d.cat', usecols = (1))\n",
    "Y = np.loadtxt(path+'/catalogs/13/gals/2gpc/R113_S014_clu_d.cat', usecols = (2))\n",
    "Z = np.loadtxt(path+'/catalogs/13/gals/2gpc/R113_S014_clu_d.cat', usecols = (3))\n",
    "\n",
    "# load velocities of objects\n",
    "V_z     = np.loadtxt(path+'/catalogs/13/gals/2gpc/R113_S014_clu_d.cat', usecols = (6))\n",
    "weights = V_z/(a*E_a*100)\n",
    "    \n",
    "#calculate random-random pairs \n",
    "N    = len(X)          # number of halos\n",
    "RR   = 4./3.*np.pi*(bins[1::]**3 - bins[0:-1:]**3)*N*(N-1)/boxsize**3\n",
    "  "
   ]
  },
  {
   "cell_type": "code",
   "execution_count": 116,
   "id": "2af068bb-af03-4e98-a095-86e89c8b2fb8",
   "metadata": {},
   "outputs": [],
   "source": [
    "  \n",
    "# using DDsmu to calculate pair in each mu bin\n",
    "results_DDsmu = DDsmu(autocorr, \n",
    "                          nthreads,\n",
    "                          bins,\n",
    "                          mu_max,\n",
    "                          nmu_bins,\n",
    "                          X, Y, Z,\n",
    "                          weights1    = weights,\n",
    "                          boxsize     = boxsize,\n",
    "                          weight_type = 'pair_product',\n",
    "                          output_savg = True,\n",
    "                          periodic    = True)\n",
    "  \n",
    "npair   = results_DDsmu['npairs']\n",
    "weight_avg  = results_DDsmu['weightavg']\n",
    "mu      = results_DDsmu['mu_max']\n",
    "r_mu    = results_DDsmu['savg']\n",
    "DD_r_mu = npair*weight_avg"
   ]
  },
  {
   "cell_type": "code",
   "execution_count": 106,
   "id": "24951b2a-b2d0-4172-beed-480d5391ba5d",
   "metadata": {},
   "outputs": [],
   "source": [
    "#monopole\n",
    "DD_r= np.zeros(nbins)      \n",
    "xi0 = np.zeros(nbins)\n",
    "r0  = np.zeros(nbins)\n",
    "l   = 0 \n",
    "for ii in range(0,nbins):\n",
    "    for j in range ((ii)*nmu_bins,(ii+1)*nmu_bins):\n",
    "        xi0[ii] += DD_r_mu[j]/(RR[ii]/nmu_bins)*P0*delta_mu    \n",
    "        r0[ii]  += r_mu[j]  \n",
    "        \n",
    "xi0 *= (2*l+1)\n",
    "r0  /= nmu_bins"
   ]
  },
  {
   "cell_type": "code",
   "execution_count": 107,
   "id": "e76d1fbb-6e17-40c2-9c68-bb6f4168e59b",
   "metadata": {},
   "outputs": [],
   "source": [
    " \n",
    "#quadrupole\n",
    "            \n",
    "xi2 = np.zeros(nbins)\n",
    "l   = 2\n",
    "    \n",
    "for ii in range(0,nbins):\n",
    "    for j in range ((ii)*nmu_bins,(ii+1)*nmu_bins):\n",
    "        xi2[ii] += DD_r_mu[j]/(RR[ii]/nmu_bins)*delta_mu*P2(mu[j])\n",
    "   \n",
    "xi2  *= (2*l+1)"
   ]
  },
  {
   "cell_type": "code",
   "execution_count": 108,
   "id": "ef4f10a1-4366-4d70-b775-fb4517e210e4",
   "metadata": {},
   "outputs": [],
   "source": [
    "# xi_vv monopole Linear theory\n",
    "f1    = lambda kk: P_k(kk)/(kk*np.pi*2)**(3/2)\n",
    "\n",
    "h1    = HankelTransform(nu=1/2, N = 3000, h = 1e-5)\n",
    "xi_mono = 1/np.sqrt(r)*h1.transform(f1,r, ret_err=False, inverse=True)  \n",
    "\n",
    "xi_th0 = f**2*xi_mono/3"
   ]
  },
  {
   "cell_type": "code",
   "execution_count": 109,
   "id": "5dba648b-5671-49ed-bf7e-f4e20806223f",
   "metadata": {},
   "outputs": [],
   "source": [
    "# xi_vv quadrupole Linear theory\n",
    "\n",
    "h2    = HankelTransform(nu=5/2, N = 3000, h = 1e-5)\n",
    "\n",
    "f1    = lambda kk: P_k(kk)/(kk*np.pi*2)**(3/2)\n",
    "xi_p2 = 1/np.sqrt(r)*h2.transform(f1,r, ret_err=False, inverse=True)\n",
    "xi_th2 = -2/3*f**2*xi_p2\n"
   ]
  },
  {
   "cell_type": "code",
   "execution_count": 110,
   "id": "1821b4e6-990d-4441-9de9-bec6e04b81ec",
   "metadata": {},
   "outputs": [],
   "source": [
    "# load result from F-corrfunc\n",
    "# note that I already multiply weights to the pairs count DDsmu_f\n",
    "DDsmu_f = np.loadtxt(path+'/my-f-code/results/xi-vv.txt', usecols = (0))\n",
    "rsmu_f  = np.loadtxt(path+'/my-f-code/results/xi-vv.txt', usecols = (1))\n",
    "mu_f    = np.loadtxt(path+'/my-f-code/results/xi-vv.txt', usecols = (2))\n",
    "#weight_f = np.loadtxt(path+'/my-f-code/results/xi-vv.txt', usecols = (3))"
   ]
  },
  {
   "cell_type": "code",
   "execution_count": 112,
   "id": "24abef9a-5c09-4aac-8cc6-73551fb08ca0",
   "metadata": {},
   "outputs": [],
   "source": [
    "xi0_f = np.zeros(nbins)\n",
    "r0_f = np.zeros(nbins)\n",
    "l   = 0 \n",
    "for ii in range(0,nbins):\n",
    "    RR_mu = RR[ii]/nmu_bins\n",
    "    for j in range ((ii)*nmu_bins,(ii+1)*nmu_bins):\n",
    "        xi0_f[ii] +=  DDsmu_f[j]/RR_mu*P0*delta_mu#*weight_f[j]    \n",
    "        r0_f[ii]  += rsmu_f[j]  \n",
    "       \n",
    "xi0_f *= (2*l+1)\n",
    "r0_f  /= nmu_bins\n",
    "            \n",
    "xi2_f = np.zeros(nbins)\n",
    "l   = 2\n",
    "    \n",
    "for ii in range(0,nbins):\n",
    "    RR_mu = RR[ii]/nmu_bins\n",
    "    for j in range ((ii)*nmu_bins,(ii+1)*nmu_bins):\n",
    "        xi2_f[ii] += DDsmu_f[j]/RR_mu*delta_mu*P2(mu_f[j])#*weight_f[j]\n",
    "   \n",
    "xi2_f *= (2*l+1)\n",
    "    \n"
   ]
  },
  {
   "cell_type": "code",
   "execution_count": 125,
   "id": "59fe0b07-0bef-47b0-af82-f8e20d6fa357",
   "metadata": {},
   "outputs": [
    {
     "data": {
      "image/png": "[encoded data removed]",
      "text/plain": [
       "<Figure size 432x288 with 1 Axes>"
      ]
     },
     "metadata": {
      "needs_background": "light"
     },
     "output_type": "display_data"
    }
   ],
   "source": [
    "# monopole\n",
    "plt.loglog(r,xi0,'g-', label ='Corrfunc')\n",
    "plt.plot(r,xi_th0, '--',label='Linear')\n",
    "plt.plot(r,xi0_f,'c*',label ='F')\n",
    "plt.legend()\n",
    "plt.xlabel('r')\n",
    "plt.ylabel('$\\\\xi_{vv,0}$')\n",
    "#plt.savefig('vvmono.png')"
   ]
  },
  {
   "cell_type": "code",
   "execution_count": 126,
   "id": "c4f2d30d-0364-49b5-a4ba-aeb12922080d",
   "metadata": {},
   "outputs": [
    {
     "data": {
      "image/png": "[encoded data removed]",
      "text/plain": [
       "<Figure size 432x288 with 1 Axes>"
      ]
     },
     "metadata": {
      "needs_background": "light"
     },
     "output_type": "display_data"
    }
   ],
   "source": [
    "# quadrupole\n",
    "plt.loglog(r0_f,-xi2,'g-', label='Corrfunc')\n",
    "plt.plot(r,-xi_th2,'--', label ='Linear')\n",
    "plt.plot(r,-xi2_f,'c*',label='F')\n",
    "plt.xlabel('r')\n",
    "plt.ylabel('$\\\\xi_{vv,2}$')\n",
    "#plt.xlim(10,)\n",
    "plt.legend()\n",
    "#plt.savefig('vvquad.png')"
   ]
  },
  {
   "cell_type": "markdown",
   "id": "aec0059e-5c9e-4ee2-915a-d13d8b415bbd",
   "metadata": {},
   "source": [
    "Results for all 8 realizations and average of them,\n",
    "calculating time   2162.4785179999999  seconds ~ 36mins"
   ]
  },
  {
   "cell_type": "code",
   "execution_count": 127,
   "id": "4c103e53-2406-4d53-8485-caf8de76edc1",
   "metadata": {},
   "outputs": [],
   "source": [
    "ndata    = 8                       #number of realizations\n",
    "realizations = \"12345678\"         #for reading the data\n",
    "A_0 = np.zeros((ndata,nbins))\n",
    "r   = np.zeros((ndata,nbins))\n",
    "A_2 = np.zeros((ndata,nbins))"
   ]
  },
  {
   "cell_type": "code",
   "execution_count": 142,
   "id": "e2302929-3419-4d49-809d-16f383305c0a",
   "metadata": {},
   "outputs": [],
   "source": [
    "for i in range (0,ndata):\n",
    "\n",
    "    #load results for 8 realization\n",
    "    DDsmu_f = np.loadtxt(path+'/my-f-code/results/xi-vv-realization'+realizations[i]+'.txt', usecols = (0))\n",
    "    rsmu_f  = np.loadtxt(path+'/my-f-code/results/xi-vv-realization'+realizations[i]+'.txt', usecols = (1))\n",
    "    mu_f    = np.loadtxt(path+'/my-f-code/results/xi-vv-realization'+realizations[i]+'.txt', usecols = (2))\n",
    "   \n",
    "    X = np.loadtxt(path+'/catalogs/1'+realizations[i]+'/gals/2gpc/R11'+realizations[i]+'_S014_clu_d.cat', usecols = (1))\n",
    "   \n",
    "    N  = len(X)                                          #number of halos\n",
    "    V  = 4/3*np.pi*(bins[1::]**3 - bins[0:-1:]**3)\n",
    "    RR = V*N*(N-1)/boxsize**3\n",
    "    \n",
    "    #monopole      \n",
    "    xi0_f = np.zeros(nbins)\n",
    "    r0_f  = np.zeros(nbins)\n",
    "\n",
    "    l = 0 \n",
    "    for ii in range(0,nbins):\n",
    "        RR_mu = RR[ii]/nmu_bins\n",
    "        for j in range ((ii)*nmu_bins,(ii+1)*nmu_bins):\n",
    "        \n",
    "            xi0_f[ii] += (DDsmu_f[j]/RR_mu)*P0*delta_mu   \n",
    "            r0_f[ii]  += rsmu_f[j]\n",
    "        \n",
    "    r0_f /= nmu_bins\n",
    "    \n",
    "    A_0[i] = xi0_f\n",
    "    r[i]   = r0_f    \n",
    "    \n",
    "    #quadrupole\n",
    "    xi2_f = np.zeros(nbins)\n",
    "\n",
    "    l = 2 \n",
    "    for ii in range(0,nbins):\n",
    "        RR_mu = RR[ii]/nmu_bins\n",
    "        for j in range ((ii)*nmu_bins,(ii+1)*nmu_bins):\n",
    "            xi2_f[ii] += (DDsmu_f[j]/RR_mu)*delta_mu*P_2(mu_f[j])\n",
    "\n",
    "    xi2_f *= (2*l+1)\n",
    "    A_2[i] = xi2_f\n",
    "    \n",
    "    "
   ]
  },
  {
   "cell_type": "code",
   "execution_count": 143,
   "id": "4d04eb30-8f36-48b5-a6f2-14e8671c0c04",
   "metadata": {},
   "outputs": [],
   "source": [
    "# calculate the average of 8 realizations and error bars\n",
    "\n",
    "#monopole\n",
    "xi_vv0 = np.zeros(nbins)\n",
    "r_vv      = np.zeros(nbins)\n",
    "\n",
    "for i in range(0,nbins):\n",
    "    r_vv[i]   = np.mean(r[0:ndata,i])\n",
    "    xi_vv0[i] = np.mean(A_0[0:ndata,i])\n",
    "\n",
    "\n",
    "error_xi_vv0 = np.zeros(nbins) \n",
    "for i in range(0,nbins):\n",
    "    a = 0\n",
    "    for j in range(0,ndata):\n",
    "        a = a + (A_0[j,i] - xi_vv0[i])**2.\n",
    "    error_xi_vv0[i] = np.sqrt(a/(ndata-1)) #standard deviation\n",
    "serror_xi_vv0 = error_xi_vv0/np.sqrt(ndata)\n",
    "\n",
    "#quadrupole\n",
    "xi_vv2 = np.zeros(nbins)\n",
    "for i in range(0,nbins):\n",
    "    xi_vv2[i] = np.mean(A_2[0:ndata,i])\n",
    "\n",
    "error_xi_vv2 = np.zeros(nbins) \n",
    "for i in range(0,nbins):\n",
    "    a = 0\n",
    "    for j in range(0,ndata):\n",
    "        a = a + (A_2[j,i] - xi_vv2[i])**2\n",
    "    error_xi_vv2[i] = np.sqrt(a/(ndata-1))\n",
    "serror_xi_vv2 = error_xi_vv2/np.sqrt(ndata)\n"
   ]
  },
  {
   "cell_type": "code",
   "execution_count": 152,
   "id": "696e720e-08cc-469f-a241-b40cbd3a2359",
   "metadata": {},
   "outputs": [
    {
     "data": {
      "text/plain": [
       "Text(0.5, 0, 's[Mpc$.h^{-1}$]')"
      ]
     },
     "execution_count": 152,
     "metadata": {},
     "output_type": "execute_result"
    },
    {
     "data": {
      "image/png": "[encoded data removed]",
      "text/plain": [
       "<Figure size 432x288 with 1 Axes>"
      ]
     },
     "metadata": {
      "needs_background": "light"
     },
     "output_type": "display_data"
    }
   ],
   "source": [
    "ax = plt.axes()\n",
    "ax.set_xscale(\"log\")\n",
    "#ax.set_yscale(\"log\")\n",
    "ax.errorbar(r_vv, xi_vv0*r_vv, fmt ='c.',yerr = serror_xi_vv0*r_vv ,label=\"F-avg\")\n",
    "ax.plot(r_vv, xi_th0*r_vv, '--',label=\"Linear\")\n",
    "ax.set_ylabel(\"$\\\\xi_{vv,0}$\")\n",
    "ax.set_xlabel(\"s[Mpc$.h^{-1}$]\")\n",
    "#ax.set_xlim(1,100)\n",
    "#ax.set_ylim(-100,350)\n",
    "#ax.legend()\n",
    "#plt.savefig('Fmono.png')"
   ]
  },
  {
   "cell_type": "code",
   "execution_count": 149,
   "id": "dafe04ba-75d2-4b01-b74f-c2f92381e26f",
   "metadata": {},
   "outputs": [
    {
     "data": {
      "text/plain": [
       "(-100.0, 350.0)"
      ]
     },
     "execution_count": 149,
     "metadata": {},
     "output_type": "execute_result"
    },
    {
     "data": {
      "image/png": "[encoded data removed]",
      "text/plain": [
       "<Figure size 432x288 with 1 Axes>"
      ]
     },
     "metadata": {
      "needs_background": "light"
     },
     "output_type": "display_data"
    }
   ],
   "source": [
    "ax = plt.axes()\n",
    "ax.set_xscale(\"log\")\n",
    "#ax.set_yscale(\"log\")\n",
    "ax.errorbar(r_vv, -xi_vv2*r_vv, fmt ='c.',yerr = serror_xi_vv2*r_vv ,label=\"F-avg\")\n",
    "ax.plot(r_vv, -xi_th2*r_vv, '--',label=\"Linear\")\n",
    "ax.set_ylabel(\"$\\\\xi_{vv,2}$\")\n",
    "ax.set_xlabel(\"s[Mpc$.h^{-1}$]\")\n",
    "#ax.set_xlim(1,100)\n",
    "ax.set_ylim(-100,350)\n",
    "#ax.legend()\n",
    "#plt.savefig('Fmono.png')"
   ]
  },
  {
   "cell_type": "raw",
   "id": "75eb30c6-4ab4-445b-af5c-539a8a55dd9e",
   "metadata": {},
   "source": [
    "output = np.array([r_vv, xi_vv0, serror_xi_vv0])\n",
    "output1 = output.T\n",
    "np.savetxt(path+'/my-f-code/results/xi-vv0-F.txt', output1)\n",
    "\n",
    "output = np.array([r_vv, xi_vv2, serror_xi_vv2])\n",
    "output1 = output.T\n",
    "np.savetxt(path+'/my-f-code/results/xi-vv2-F.txt', output1)\n"
   ]
  },
  {
   "cell_type": "code",
   "execution_count": null,
   "id": "6071ea3d-939b-4e49-a5e1-9e84627e5791",
   "metadata": {},
   "outputs": [],
   "source": []
  }
 ],
 "metadata": {
  "kernelspec": {
   "display_name": "Python 3",
   "language": "python",
   "name": "python3"
  },
  "language_info": {
   "codemirror_mode": {
    "name": "ipython",
    "version": 3
   },
   "file_extension": ".py",
   "mimetype": "text/x-python",
   "name": "python",
   "nbconvert_exporter": "python",
   "pygments_lexer": "ipython3",
   "version": "3.8.8"
  }
 },
 "nbformat": 4,
 "nbformat_minor": 5
}
