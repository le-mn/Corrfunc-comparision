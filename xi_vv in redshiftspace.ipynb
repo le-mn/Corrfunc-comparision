{
 "cells": [
  {
   "cell_type": "code",
   "execution_count": 1,
   "id": "6c795a04",
   "metadata": {},
   "outputs": [],
   "source": [
    "'''\n",
    "code for calculating velocity-velocity correlation function\n",
    "multipole in real space\n",
    "'''\n",
    "from __future__ import print_function\n",
    "import numpy as np\n",
    "import matplotlib.pyplot as plt\n",
    "from Corrfunc.theory.DDsmu import DDsmu\n",
    "from hankel import HankelTransform\n",
    "from scipy.interpolate import InterpolatedUnivariateSpline as spline \n",
    "path ='/Users/ngoc/Desktop/Master-study/project'"
   ]
  },
  {
   "cell_type": "code",
   "execution_count": 2,
   "id": "05129d40",
   "metadata": {},
   "outputs": [],
   "source": [
    "#cosmological parameters\n",
    "z        = 0.306                   #redshift\n",
    "f        = 0.687255861             #growth rate\n",
    "Omg_lamb = 0.685                   #dark energy density parameter\n",
    "Omg_m    = 1. - Omg_lamb           #matter density parameter\n",
    "a        = 1./(1. + z)             #scale factor\n",
    "E_a      = np.sqrt(Omg_m*(1.+z)**3. + Omg_lamb) \n"
   ]
  },
  {
   "cell_type": "code",
   "execution_count": 3,
   "id": "f07bc370",
   "metadata": {},
   "outputs": [],
   "source": [
    "#simulation parameters\n",
    "boxsize  = 2000                    #length of the box [Mpc/h]\n",
    "nthreads = 4                       #number of Open MP threads to use \n",
    "autocorr = 1                       #auto correlation\n",
    "nbins    = 50                      #number of bins\n",
    "rmin     = 1.                      #minimum separation [Mpc/h]\n",
    "rmax     = boxsize/3               #maximum separation [Mpc/h]\n",
    "bins     = np.logspace(np.log10(rmin), np.log10(rmax), nbins+1)     \n",
    "mu_max   = 1                       #maximum value of cosine of the angle separated from the LOS\n",
    "nmu_bins = 10                      #number of bins of the angle separation \n",
    "delta_mu = mu_max/nmu_bins\n",
    "ndata    = 8                       #number of data sets\n",
    "set_data = \"112345678\"             #for reading data\n",
    "\n"
   ]
  },
  {
   "cell_type": "code",
   "execution_count": 4,
   "id": "2e7821b4",
   "metadata": {},
   "outputs": [],
   "source": [
    "A_0 = np.zeros((ndata,nbins))\n",
    "r_0 = np.zeros((ndata,nbins))\n",
    "A_2 = np.zeros((ndata,nbins))\n",
    "A_4 = np.zeros((ndata,nbins))\n",
    "\n",
    "\n",
    "#Legendre polynomials\n",
    "P0 = 1\n",
    "P2 = lambda mu: (3*mu**2-1)/2\n",
    "P4 = lambda mu: (35*mu**4 - 30*mu**2 + 3)/8 \n"
   ]
  },
  {
   "cell_type": "code",
   "execution_count": 5,
   "id": "f0454624",
   "metadata": {},
   "outputs": [],
   "source": [
    "for i in range (0,ndata):\n",
    "    # load positions of objects\n",
    "    X = np.loadtxt(path+'/catalogs/'+set_data[0]+set_data[i+1]+'/gals/2gpc/R1'+set_data[0]+set_data[i+1]+'_S014_clu_d.cat', usecols = (1))\n",
    "    Y = np.loadtxt(path+'/catalogs/'+set_data[0]+set_data[i+1]+'/gals/2gpc/R1'+set_data[0]+set_data[i+1]+'_S014_clu_d.cat', usecols = (2))\n",
    "    Z = np.loadtxt(path+'/catalogs/'+set_data[0]+set_data[i+1]+'/gals/2gpc/R1'+set_data[0]+set_data[i+1]+'_S014_clu_d.cat', usecols = (3))\n",
    "\n",
    "    # load velocities of objects\n",
    "    V_z     = np.loadtxt(path+'/catalogs/'+set_data[0]+set_data[i+1]+'/gals/2gpc/R1'+set_data[0]+set_data[i+1]+'_S014_clu_d.cat', usecols = (6))\n",
    "    weights = V_z/(a*E_a*100)\n",
    "    \n",
    "    #redshifted along LOS\n",
    "    s       = Z + V_z/(a*E_a*100) #Z is the LOS \n",
    "    for j in range(len(s)):\n",
    "        if s[j] < 0:\n",
    "            s[j] = s[j] + boxsize\n",
    "        elif s[j] > boxsize:\n",
    "            s[j] = s[j] - boxsize\n",
    "            \n",
    "    #calculate random-random pairs \n",
    "    N    = len(X)          # number of halos\n",
    "    RR   = 4./3.*np.pi*(bins[1::]**3 - bins[0:-1:]**3)*N*(N-1)/boxsize**3\n",
    "    \n",
    "    # using DDsmu to calculate pair in each mu bin\n",
    "    results_DDsmu = DDsmu(autocorr, \n",
    "                          nthreads,\n",
    "                          bins,\n",
    "                          mu_max,\n",
    "                          nmu_bins,\n",
    "                          X, Y, s,\n",
    "                          weights1    = weights,\n",
    "                          boxsize     = boxsize,\n",
    "                          weight_type = 'pair_product',\n",
    "                          output_savg = True,\n",
    "                          periodic    = True)\n",
    "  \n",
    "    npair         = results_DDsmu['npairs']\n",
    "    weight        = results_DDsmu['weightavg']\n",
    "    mu            = results_DDsmu['mu_max']\n",
    "    r_mu          = results_DDsmu['savg']\n",
    "    DD_r_mu       = npair*weight\n",
    "      \n",
    "    #monopole\n",
    "          \n",
    "    xi0 = np.zeros(nbins)\n",
    "    r0  = np.zeros(nbins)\n",
    "    l   = 0 \n",
    "    for ii in range(0,nbins):\n",
    "        for j in range ((ii)*nmu_bins,(ii+1)*nmu_bins):\n",
    "            xi0[ii] = xi0[ii] + DD_r_mu[j]/(RR[ii]/nmu_bins)*P0*delta_mu    \n",
    "            r0[ii]  = r0[ii]  + r_mu[j]  \n",
    "            \n",
    "    xi0 = (2*l+1)*xi0\n",
    "    r0  = r0/nmu_bins\n",
    "    \n",
    "    A_0[i] = xi0\n",
    "    r_0[i] = r0\n",
    "    \n",
    " \n",
    "    #quadrupole\n",
    "            \n",
    "    xi2 = np.zeros(nbins)\n",
    "    l   = 2\n",
    "    \n",
    "    for ii in range(0,nbins):\n",
    "        for j in range ((ii)*nmu_bins,(ii+1)*nmu_bins):\n",
    "            xi2[ii] = xi2[ii] + DD_r_mu[j]/(RR[ii]/nmu_bins)*delta_mu*P2(mu[j])\n",
    "   \n",
    "    xi2    = (2*l+1)*xi2\n",
    "    A_2[i] = xi2\n",
    "\n",
    "  \n",
    "    #hexadecapole\n",
    "        \n",
    "    xi4 = np.zeros(nbins)\n",
    "    l   = 4    \n",
    "    for ii in range(0,nbins):\n",
    "        for j in range ((ii)*nmu_bins,(ii+1)*nmu_bins):\n",
    "            xi4[ii] = xi4[ii] + DD_r_mu[j]/(RR[ii]/nmu_bins)*delta_mu*P4(mu[j])\n",
    "        \n",
    "    xi4    = (2*l+1)*xi4 \n",
    "    A_4[i] = xi4\n",
    "    \n"
   ]
  },
  {
   "cell_type": "code",
   "execution_count": 6,
   "id": "96b5ae7e",
   "metadata": {},
   "outputs": [],
   "source": [
    "#calculate the mean values and error bars\n",
    "\n",
    "#monopole\n",
    "xi_vv0 = np.zeros(nbins)\n",
    "r_simul  = np.zeros(nbins)\n",
    "\n",
    "for i in range(0,nbins):\n",
    "    r_simul[i]  = np.mean(r_0[0:ndata,i])\n",
    "    xi_vv0[i]   = np.mean(A_0[0:ndata,i])\n",
    "\n",
    "error_xi_vv0 = np.zeros(nbins) \n",
    "for i in range(0,nbins):\n",
    "    a = 0\n",
    "    for j in range(0,ndata):\n",
    "        a = a + (A_0[j,i] - xi_vv0[i])**2.\n",
    "    error_xi_vv0[i] = np.sqrt(a/(ndata*(ndata-1.)))\n",
    "\n",
    "#quadrupole\n",
    "xi_vv2 = np.zeros(nbins)\n",
    "for i in range(0,nbins):\n",
    "    xi_vv2[i] = np.mean(A_2[0:ndata,i])\n",
    "\n",
    "error_xi_vv2 = np.zeros(nbins) \n",
    "for i in range(0,nbins):\n",
    "    a = 0\n",
    "    for j in range(0,ndata):\n",
    "        a = a + (A_2[j,i] - xi_vv2[i])**2.\n",
    "    error_xi_vv2[i] = np.sqrt(a/(ndata*(ndata-1.)))\n"
   ]
  },
  {
   "cell_type": "code",
   "execution_count": 7,
   "id": "1322fbbd",
   "metadata": {},
   "outputs": [
    {
     "data": {
      "text/plain": [
       "(1, 864.530427491362)"
      ]
     },
     "execution_count": 7,
     "metadata": {},
     "output_type": "execute_result"
    },
    {
     "data": {
      "image/png": "[encoded data removed]",
      "text/plain": [
       "<Figure size 432x288 with 1 Axes>"
      ]
     },
     "metadata": {
      "needs_background": "light"
     },
     "output_type": "display_data"
    }
   ],
   "source": [
    "ax = plt.axes()\n",
    "ax.set_xscale(\"log\")\n",
    "ax.set_yscale(\"log\")\n",
    "ax.errorbar(r_simul,  xi_vv0, fmt = 'r-' , yerr = error_xi_vv0, label=' xi_vv0 simulation')\n",
    "ax.errorbar(r_simul, -xi_vv2, fmt = 'b-' , yerr = error_xi_vv2, label='-xi_vv2 simulation')\n",
    "ax.set_ylabel(\"$xi_{vv,l}$\")\n",
    "ax.set_xlabel(\"r[Mpc$.h^{-1}$]\")\n",
    "ax.legend()\n",
    "ax.set_xlim(1,)\n",
    "#ax.set_ylim(-100,500)\n",
    "\n",
    "\n",
    "\n"
   ]
  },
  {
   "cell_type": "code",
   "execution_count": 62,
   "id": "b1fa5ddd",
   "metadata": {},
   "outputs": [],
   "source": [
    "# loading matter power spectrum\n",
    "\n",
    "k   = np.loadtxt(path+'/my_results/matter_Pk.txt', usecols = (0))\n",
    "P   = np.loadtxt(path+'/my_results/matter_Pk.txt', usecols = (1))\n",
    "r   = r_simul\n",
    "P_k = spline(k, P)\n"
   ]
  },
  {
   "cell_type": "code",
   "execution_count": 63,
   "id": "23199676",
   "metadata": {},
   "outputs": [],
   "source": [
    "# xi_vv monopole\n",
    "\n",
    "h0    = HankelTransform(nu=1/2, N = 2000, h = 1e-3)\n",
    "\n",
    "f1    = lambda kk: P_k(kk)/(kk*np.pi*2)**(3/2)\n",
    "\n",
    "xi_p1 = 1/np.sqrt(r)*h0.transform(f1,r, ret_err=False, inverse=True)   \n",
    "    \n",
    "xi_vv0_theory = f**2*xi_p1/3\n",
    "r_theory      = r"
   ]
  },
  {
   "cell_type": "code",
   "execution_count": 64,
   "id": "60830b13",
   "metadata": {},
   "outputs": [],
   "source": [
    "# xi_vv quadrupole\n",
    "\n",
    "h2    = HankelTransform(nu=5/2, N = 2000, h = 1e-3)\n",
    "\n",
    "f1    = lambda kk: P_k(kk)/(kk*np.pi*2)**(3/2)\n",
    "\n",
    "xi_p2 = 1/np.sqrt(r)*h2.transform(f1,r, ret_err=False, inverse=True)\n",
    "\n",
    "xi_vv2_theory = -2/3*(f)**2*xi_p2\n"
   ]
  },
  {
   "cell_type": "code",
   "execution_count": 66,
   "id": "e4d7a399",
   "metadata": {
    "tags": []
   },
   "outputs": [
    {
     "name": "stderr",
     "output_type": "stream",
     "text": [
      "<ipython-input-66-1e639f51c756>:13: UserWarning: Attempted to set non-positive bottom ylim on a log-scaled axis.\n",
      "Invalid limit will be ignored.\n",
      "  ax.set_ylim(-1,200)\n"
     ]
    },
    {
     "data": {
      "text/plain": [
       "(0.0009505261013555929, 200)"
      ]
     },
     "execution_count": 66,
     "metadata": {},
     "output_type": "execute_result"
    },
    {
     "data": {
      "image/png": "[encoded data removed]",
      "text/plain": [
       "<Figure size 432x288 with 1 Axes>"
      ]
     },
     "metadata": {
      "needs_background": "light"
     },
     "output_type": "display_data"
    }
   ],
   "source": [
    "ax = plt.axes()\n",
    "ax.set_xscale(\"log\")\n",
    "ax.set_yscale(\"log\")\n",
    "ax.errorbar(r_simul,  xi_vv0, fmt = 'r-', yerr = error_xi_vv0, label =' xi_vv0 simulation')\n",
    "ax.errorbar(r_simul, -xi_vv2, fmt = 'b-', yerr = error_xi_vv2, label ='-xi_vv2 simulation')\n",
    "ax.plot(r_theory,  xi_vv0_theory, 'r--', label =' xi_vv0 theory')\n",
    "ax.plot(r_theory, -xi_vv2_theory, 'b--', label ='-xi_vv2 theory')\n",
    "ax.set_ylabel(\"$xi_{vv,l}$\")\n",
    "ax.set_xlabel(\"r[Mpc$.h^{-1}$]\")\n",
    "ax.set_title('The multipole correlation function velocity-velocity in real space')\n",
    "ax.legend()\n",
    "ax.set_xlim(1,)\n",
    "ax.set_ylim(-1,200)\n",
    "#plt.savefig('xi_vv_realspace.png')\n"
   ]
  },
  {
   "cell_type": "code",
   "execution_count": null,
   "id": "05f4746e",
   "metadata": {},
   "outputs": [],
   "source": [
    "\n"
   ]
  }
 ],
 "metadata": {
  "kernelspec": {
   "display_name": "Python 3",
   "language": "python",
   "name": "python3"
  },
  "language_info": {
   "codemirror_mode": {
    "name": "ipython",
    "version": 3
   },
   "file_extension": ".py",
   "mimetype": "text/x-python",
   "name": "python",
   "nbconvert_exporter": "python",
   "pygments_lexer": "ipython3",
   "version": "3.8.8"
  }
 },
 "nbformat": 4,
 "nbformat_minor": 5
}
