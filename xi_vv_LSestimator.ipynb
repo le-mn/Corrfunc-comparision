{
 "cells": [
  {
   "cell_type": "markdown",
   "id": "ae819846-5fca-48ad-a734-ca87dded050c",
   "metadata": {},
   "source": [
    "Using LS estimator to calculate correlation function.\n",
    "Code using the module count_pair_vv4, main program ver.7 in my fortran code. The box is cut in z direction, consider nonPBC case. Compare to the previous results using fullbox PBC.\n",
    "\n",
    "This is the velocity auto-correlation functions in real space."
   ]
  },
  {
   "cell_type": "code",
   "execution_count": 2,
   "id": "ed24bc9a-a508-4135-98e8-65a9274b4cec",
   "metadata": {},
   "outputs": [],
   "source": [
    "from __future__ import print_function\n",
    "import numpy as np\n",
    "import matplotlib.pyplot as plt\n",
    "path ='/Users/ngoc/Desktop/Master-study/project'"
   ]
  },
  {
   "cell_type": "code",
   "execution_count": 3,
   "id": "fb7cc711-6a6a-4330-94d0-0813d4aac756",
   "metadata": {},
   "outputs": [],
   "source": [
    "\n",
    "#cosmological parameters\n",
    "z        = 0.306                   #redshift\n",
    "f        = 0.687255861             #growth rate\n",
    "Omg_lamb = 0.685                   #dark energy density parameter\n",
    "Omg_m    = 1. - Omg_lamb           #matter density parameter\n",
    "a        = 1./(1. + z)             #scale factor\n",
    "E_a      = np.sqrt(Omg_m*(1.+z)**3. + Omg_lamb) \n",
    "b        = 3.11                                 #bias for halo b = \\delta_halo/\\delta_matter\n",
    "beta     = f/b                                  #linear RSD parameter\n",
    "#relation between the real and redshift space power spectrum multipoles (Kaiser's coefficients)\n",
    "K0       = 1 + 2/3*beta + 1/5*beta**2\n",
    "K2       = 4/3*beta + 4/7*beta**2\n",
    "K4       = 8/35*beta**2\n"
   ]
  },
  {
   "cell_type": "code",
   "execution_count": 4,
   "id": "5aabe70f-106a-4360-9455-83b665841002",
   "metadata": {},
   "outputs": [],
   "source": [
    "# load results from xi_vv in real space, PBC, fullbox to compare\n",
    "xi_vv0_full       = np.loadtxt(path+'/my-f-code/results/xi-vv0-F.txt', usecols =(1))\n",
    "xi_vv2_full       = np.loadtxt(path+'/my-f-code/results/xi-vv2-F.txt', usecols =(1))\n",
    "error_xi_vv0_full = np.loadtxt(path+'/my-f-code/results/xi-vv0-F.txt', usecols =(2))\n",
    "error_xi_vv2_full = np.loadtxt(path+'/my-f-code/results/xi-vv2-F.txt', usecols =(2))"
   ]
  },
  {
   "cell_type": "code",
   "execution_count": 5,
   "id": "f07bc370",
   "metadata": {},
   "outputs": [],
   "source": [
    "#simulation paramters\n",
    "boxsize  = 2000                    #length of 1D of the box [Mpc/h]\n",
    "nbins    = 50                      #number of bins\n",
    "rmin     = 1.\n",
    "rmax     = boxsize/3\n",
    "bins     = np.logspace(np.log10(rmin), np.log10(rmax), nbins+1)     \n",
    "mu_max   = 1                       #maximum value of cosine of the angle separated from the LOS\n",
    "nmu_bins = 10                      #number of bins of the angle separation \n",
    "delta_mu = mu_max/nmu_bins\n",
    "ndata    = 8                       #number of data\n",
    "realizations = \"12345678\"          #for reading the data\n",
    "\n",
    "#Legendre polynomials\n",
    "P0 = 1\n",
    "P2 = lambda mu: (3*mu**2-1)/2\n",
    "P4 = lambda mu: (35*mu**4 - 30*mu**2 + 3)/8 \n",
    "\n",
    "l0 = 0\n",
    "l2 = 2"
   ]
  },
  {
   "cell_type": "code",
   "execution_count": 6,
   "id": "79b8046a-b456-4c9f-95b7-6cc92c4b292e",
   "metadata": {},
   "outputs": [
    {
     "name": "stderr",
     "output_type": "stream",
     "text": [
      "<ipython-input-6-d98bd59d743f>:28: RuntimeWarning: invalid value encountered in double_scalars\n",
      "  xi0_nonPBC[ii] += ((DDsmu_nonPBC[j]-2*DR[j])/RR_mus+2)*P0*delta_mu\n",
      "<ipython-input-6-d98bd59d743f>:29: RuntimeWarning: invalid value encountered in double_scalars\n",
      "  xi2_nonPBC[ii] += ((DDsmu_nonPBC[j]-2*DR[j])/RR_mus+2)*delta_mu*P2(mu_nonPBC[j])\n",
      "<ipython-input-6-d98bd59d743f>:28: RuntimeWarning: divide by zero encountered in double_scalars\n",
      "  xi0_nonPBC[ii] += ((DDsmu_nonPBC[j]-2*DR[j])/RR_mus+2)*P0*delta_mu\n",
      "<ipython-input-6-d98bd59d743f>:29: RuntimeWarning: divide by zero encountered in double_scalars\n",
      "  xi2_nonPBC[ii] += ((DDsmu_nonPBC[j]-2*DR[j])/RR_mus+2)*delta_mu*P2(mu_nonPBC[j])\n"
     ]
    }
   ],
   "source": [
    "#LS estimator\n",
    "A_0_nonPBC = np.zeros((ndata,nbins))\n",
    "r_nonPBC   = np.zeros((ndata,nbins))\n",
    "A_2_nonPBC = np.zeros((ndata,nbins))\n",
    "for i in range (0,ndata):\n",
    "\n",
    "    #load results for 8 realizations\n",
    "    DDsmu_nonPBC = np.loadtxt(path+'/my-f-code/results/vv-cutbox03Lnew-nonPBC-realization'\n",
    "                         +realizations[i]+'.txt', usecols = (0))\n",
    "    rsmu_nonPBC  = np.loadtxt(path+'/my-f-code/results/vv-cutbox03Lnew-nonPBC-realization'\n",
    "                         +realizations[i]+'.txt', usecols = (1))\n",
    "    mu_nonPBC    = np.loadtxt(path+'/my-f-code/results/vv-cutbox03Lnew-nonPBC-realization'\n",
    "                         +realizations[i]+'.txt', usecols = (2))\n",
    "\n",
    "    # RR pairs count\n",
    "    RRs_nonPBC = np.loadtxt(path+'/my-f-code/results/RR-cutbox03Lnew-nonPBC-realization'\n",
    "                         +realizations[i]+'.txt', usecols = (0))\n",
    "    DR = np.loadtxt(path+'/my-f-code/results/DR-cutbox03Lnew-nonPBC-realization'\n",
    "                         +realizations[i]+'.txt', usecols = (0))\n",
    "        \n",
    "    xi0_nonPBC = np.zeros(nbins)\n",
    "    xi2_nonPBC = np.zeros(nbins)\n",
    "    r0_nonPBC  = np.zeros(nbins)\n",
    "\n",
    "    for ii in range(0,nbins):\n",
    "        RR_mus = RRs_nonPBC[ii]/nmu_bins\n",
    "        for j in range ((ii)*nmu_bins,(ii+1)*nmu_bins):\n",
    "            xi0_nonPBC[ii] += ((DDsmu_nonPBC[j]-2*DR[j])/RR_mus+2)*P0*delta_mu \n",
    "            xi2_nonPBC[ii] += ((DDsmu_nonPBC[j]-2*DR[j])/RR_mus+2)*delta_mu*P2(mu_nonPBC[j])\n",
    "            r0_nonPBC[ii]  += rsmu_nonPBC[j]\n",
    "\n",
    "    #monopole    \n",
    "    A_0_nonPBC[i] = xi0_nonPBC\n",
    "    r_nonPBC[i]   = r0_nonPBC/nmu_bins    \n",
    "    \n",
    "    #quadrupole\n",
    "    A_2_nonPBC[i] = xi2_nonPBC*(2*l2+1)\n",
    "# calculate the average of 8 realizations and error bars, F code\n",
    "xi_vv0_03_LS = np.zeros(nbins)\n",
    "xi_vv2_03_LS = np.zeros(nbins)\n",
    "r       = np.zeros(nbins)\n",
    "\n",
    "for i in range(0,nbins):\n",
    "    r[i]       = np.mean(r_nonPBC[0:ndata,i])\n",
    "    xi_vv0_03_LS[i] = np.mean(A_0_nonPBC[0:ndata,i])\n",
    "    xi_vv2_03_LS[i] = np.mean(A_2_nonPBC[0:ndata,i])\n",
    "\n",
    "error_xi_vv0_03_LS = np.zeros(nbins)\n",
    "error_xi_vv2_03_LS = np.zeros(nbins)\n",
    "for i in range(0,nbins):\n",
    "    a0 = 0\n",
    "    a2 = 0\n",
    "    for j in range(0,ndata):\n",
    "        a0 += (A_0_nonPBC[j,i] - xi_vv0_03_LS[i])**2\n",
    "        a2 += (A_2_nonPBC[j,i] - xi_vv2_03_LS[i])**2\n",
    "    error_xi_vv0_03_LS[i] = np.sqrt(a0/((ndata-1)*ndata)) #standard error of the mean\n",
    "    error_xi_vv2_03_LS[i] = np.sqrt(a2/((ndata-1)*ndata))\n",
    "  "
   ]
  },
  {
   "cell_type": "code",
   "execution_count": 7,
   "id": "93606e3c-4de2-47ad-a17e-59bfc9f52b40",
   "metadata": {},
   "outputs": [
    {
     "name": "stderr",
     "output_type": "stream",
     "text": [
      "<ipython-input-7-6980832d0433>:24: RuntimeWarning: invalid value encountered in double_scalars\n",
      "  xi0_nonPBC[ii] += ((DDsmu_nonPBC[j])/RR_mus)*P0*delta_mu\n",
      "<ipython-input-7-6980832d0433>:25: RuntimeWarning: invalid value encountered in double_scalars\n",
      "  xi2_nonPBC[ii] += ((DDsmu_nonPBC[j])/RR_mus)*delta_mu*P2(mu_nonPBC[j])\n",
      "<ipython-input-7-6980832d0433>:24: RuntimeWarning: divide by zero encountered in double_scalars\n",
      "  xi0_nonPBC[ii] += ((DDsmu_nonPBC[j])/RR_mus)*P0*delta_mu\n",
      "<ipython-input-7-6980832d0433>:25: RuntimeWarning: divide by zero encountered in double_scalars\n",
      "  xi2_nonPBC[ii] += ((DDsmu_nonPBC[j])/RR_mus)*delta_mu*P2(mu_nonPBC[j])\n"
     ]
    }
   ],
   "source": [
    "#test with reproducing PH\n",
    "A_0_nonPBC = np.zeros((ndata,nbins))\n",
    "A_2_nonPBC = np.zeros((ndata,nbins))\n",
    "for i in range (0,ndata):\n",
    "\n",
    "    #load results for 8 realizations\n",
    "    DDsmu_nonPBC = np.loadtxt(path+'/my-f-code/results/vv-cutbox03Lnew-nonPBC-realization'\n",
    "                         +realizations[i]+'.txt', usecols = (0))\n",
    "    mu_nonPBC    = np.loadtxt(path+'/my-f-code/results/vv-cutbox03Lnew-nonPBC-realization'\n",
    "                         +realizations[i]+'.txt', usecols = (2))\n",
    "\n",
    "    # RR pairs count\n",
    "    RRs_nonPBC = np.loadtxt(path+'/my-f-code/results/RR-cutbox03Lnew-nonPBC-realization'\n",
    "                         +realizations[i]+'.txt', usecols = (0))\n",
    "    DR = np.loadtxt(path+'/my-f-code/results/DR-cutbox03Lnew-nonPBC-realization'\n",
    "                         +realizations[i]+'.txt', usecols = (0))\n",
    "       \n",
    "    xi0_nonPBC = np.zeros(nbins)\n",
    "    xi2_nonPBC = np.zeros(nbins)\n",
    " \n",
    "    for ii in range(0,nbins):\n",
    "        RR_mus = RRs_nonPBC[ii]/nmu_bins\n",
    "        for j in range ((ii)*nmu_bins,(ii+1)*nmu_bins):\n",
    "            xi0_nonPBC[ii] += ((DDsmu_nonPBC[j])/RR_mus)*P0*delta_mu \n",
    "            xi2_nonPBC[ii] += ((DDsmu_nonPBC[j])/RR_mus)*delta_mu*P2(mu_nonPBC[j])\n",
    "\n",
    "    #monopole    \n",
    "    A_0_nonPBC[i] = xi0_nonPBC\n",
    "     \n",
    "    #quadrupole\n",
    "    A_2_nonPBC[i] = xi2_nonPBC*(2*l2+1)\n",
    "# calculate the average of 8 realizations and error bars, F code\n",
    "xi_vv0_03_PH = np.zeros(nbins)\n",
    "xi_vv2_03_PH = np.zeros(nbins)\n",
    "\n",
    "for i in range(0,nbins):\n",
    "    xi_vv0_03_PH[i] = np.mean(A_0_nonPBC[0:ndata,i])\n",
    "    xi_vv2_03_PH[i] = np.mean(A_2_nonPBC[0:ndata,i])\n",
    "\n",
    "error_xi_vv0_03_PH = np.zeros(nbins)\n",
    "error_xi_vv2_03_PH = np.zeros(nbins)\n",
    "for i in range(0,nbins):\n",
    "    a0 = 0\n",
    "    a2 = 0\n",
    "    for j in range(0,ndata):\n",
    "        a0 += (A_0_nonPBC[j,i] - xi_vv0_03_PH[i])**2\n",
    "        a2 += (A_2_nonPBC[j,i] - xi_vv2_03_PH[i])**2\n",
    "    error_xi_vv0_03_PH[i] = np.sqrt(a0/((ndata-1)*ndata)) #standard error of the mean\n",
    "    error_xi_vv2_03_PH[i] = np.sqrt(a2/((ndata-1)*ndata))    "
   ]
  },
  {
   "cell_type": "code",
   "execution_count": 8,
   "id": "e9dde1de-9314-49df-aa6e-808d444ebcc6",
   "metadata": {},
   "outputs": [
    {
     "name": "stderr",
     "output_type": "stream",
     "text": [
      "<ipython-input-8-04e891a39cbb>:24: RuntimeWarning: divide by zero encountered in double_scalars\n",
      "  xi0_nonPBC[ii] += ((DDsmu_nonPBC[j]-2*DR[j])/RR_mus+2)*P0*delta_mu\n",
      "<ipython-input-8-04e891a39cbb>:25: RuntimeWarning: divide by zero encountered in double_scalars\n",
      "  xi2_nonPBC[ii] += ((DDsmu_nonPBC[j]-2*DR[j])/RR_mus+2)*delta_mu*P2(mu_nonPBC[j])\n",
      "<ipython-input-8-04e891a39cbb>:24: RuntimeWarning: invalid value encountered in double_scalars\n",
      "  xi0_nonPBC[ii] += ((DDsmu_nonPBC[j]-2*DR[j])/RR_mus+2)*P0*delta_mu\n",
      "<ipython-input-8-04e891a39cbb>:25: RuntimeWarning: invalid value encountered in double_scalars\n",
      "  xi2_nonPBC[ii] += ((DDsmu_nonPBC[j]-2*DR[j])/RR_mus+2)*delta_mu*P2(mu_nonPBC[j])\n"
     ]
    }
   ],
   "source": [
    "#LS estimator\n",
    "A_0_nonPBC = np.zeros((ndata,nbins))\n",
    "A_2_nonPBC = np.zeros((ndata,nbins))\n",
    "for i in range (0,ndata):\n",
    "\n",
    "    #load results for 8 realizations\n",
    "    DDsmu_nonPBC = np.loadtxt(path+'/my-f-code/results/vv-cutbox05Lnew-nonPBC-realization'\n",
    "                         +realizations[i]+'.txt', usecols = (0))\n",
    "    mu_nonPBC    = np.loadtxt(path+'/my-f-code/results/vv-cutbox05Lnew-nonPBC-realization'\n",
    "                         +realizations[i]+'.txt', usecols = (2))\n",
    "\n",
    "    # RR pairs count\n",
    "    RRs_nonPBC = np.loadtxt(path+'/my-f-code/results/RR-cutbox05Lnew-nonPBC-realization'\n",
    "                         +realizations[i]+'.txt', usecols = (0))\n",
    "    DR = np.loadtxt(path+'/my-f-code/results/DR-cutbox05Lnew-nonPBC-realization'\n",
    "                         +realizations[i]+'.txt', usecols = (0))\n",
    "        \n",
    "    xi0_nonPBC = np.zeros(nbins)\n",
    "    xi2_nonPBC = np.zeros(nbins)\n",
    " \n",
    "    for ii in range(0,nbins):\n",
    "        RR_mus = RRs_nonPBC[ii]/nmu_bins\n",
    "        for j in range ((ii)*nmu_bins,(ii+1)*nmu_bins):\n",
    "            xi0_nonPBC[ii] += ((DDsmu_nonPBC[j]-2*DR[j])/RR_mus+2)*P0*delta_mu \n",
    "            xi2_nonPBC[ii] += ((DDsmu_nonPBC[j]-2*DR[j])/RR_mus+2)*delta_mu*P2(mu_nonPBC[j])\n",
    "     \n",
    "    #monopole    \n",
    "    A_0_nonPBC[i] = xi0_nonPBC\n",
    "    \n",
    "    #quadrupole\n",
    "    A_2_nonPBC[i] = xi2_nonPBC*(2*l2+1)\n",
    "\n",
    "# calculate the average of 8 realizations and error bars, F code\n",
    "xi_vv0_05_LS = np.zeros(nbins)\n",
    "xi_vv2_05_LS = np.zeros(nbins)\n",
    "\n",
    "for i in range(0,nbins):\n",
    "    xi_vv0_05_LS[i] = np.mean(A_0_nonPBC[0:ndata,i])\n",
    "    xi_vv2_05_LS[i] = np.mean(A_2_nonPBC[0:ndata,i])\n",
    "\n",
    "error_xi_vv0_05_LS = np.zeros(nbins)\n",
    "error_xi_vv2_05_LS = np.zeros(nbins)\n",
    "for i in range(0,nbins):\n",
    "    a0 = 0\n",
    "    a2 = 0\n",
    "    for j in range(0,ndata):\n",
    "        a0 += (A_0_nonPBC[j,i] - xi_vv0_05_LS[i])**2\n",
    "        a2 += (A_2_nonPBC[j,i] - xi_vv2_05_LS[i])**2\n",
    "    error_xi_vv0_05_LS[i] = np.sqrt(a0/((ndata-1)*ndata)) #standard error of the mean\n",
    "    error_xi_vv2_05_LS[i] = np.sqrt(a2/((ndata-1)*ndata))    "
   ]
  },
  {
   "cell_type": "code",
   "execution_count": 11,
   "id": "3804bb54-06bd-41ff-99db-006ded1d11c7",
   "metadata": {},
   "outputs": [
    {
     "name": "stderr",
     "output_type": "stream",
     "text": [
      "<ipython-input-11-3ef5e6cb3511>:24: RuntimeWarning: divide by zero encountered in double_scalars\n",
      "  xi0_nonPBC[ii] += ((DDsmu_nonPBC[j])/RR_mus)*P0*delta_mu\n",
      "<ipython-input-11-3ef5e6cb3511>:25: RuntimeWarning: divide by zero encountered in double_scalars\n",
      "  xi2_nonPBC[ii] += ((DDsmu_nonPBC[j])/RR_mus)*delta_mu*P2(mu_nonPBC[j])\n",
      "<ipython-input-11-3ef5e6cb3511>:24: RuntimeWarning: invalid value encountered in double_scalars\n",
      "  xi0_nonPBC[ii] += ((DDsmu_nonPBC[j])/RR_mus)*P0*delta_mu\n",
      "<ipython-input-11-3ef5e6cb3511>:25: RuntimeWarning: invalid value encountered in double_scalars\n",
      "  xi2_nonPBC[ii] += ((DDsmu_nonPBC[j])/RR_mus)*delta_mu*P2(mu_nonPBC[j])\n"
     ]
    }
   ],
   "source": [
    "#test with reproducing PH\n",
    "A_0_nonPBC = np.zeros((ndata,nbins))\n",
    "A_2_nonPBC = np.zeros((ndata,nbins))\n",
    "for i in range (0,ndata):\n",
    "\n",
    "    #load results for 8 realizations\n",
    "    DDsmu_nonPBC = np.loadtxt(path+'/my-f-code/results/vv-cutbox05Lnew-nonPBC-realization'\n",
    "                         +realizations[i]+'.txt', usecols = (0))\n",
    "    mu_nonPBC    = np.loadtxt(path+'/my-f-code/results/vv-cutbox05Lnew-nonPBC-realization'\n",
    "                         +realizations[i]+'.txt', usecols = (2))\n",
    "\n",
    "    # RR pairs count\n",
    "    RRs_nonPBC = np.loadtxt(path+'/my-f-code/results/RR-cutbox05Lnew-nonPBC-realization'\n",
    "                         +realizations[i]+'.txt', usecols = (0))\n",
    "    DR = np.loadtxt(path+'/my-f-code/results/DR-cutbox05Lnew-nonPBC-realization'\n",
    "                         +realizations[i]+'.txt', usecols = (0))\n",
    "       \n",
    "    xi0_nonPBC = np.zeros(nbins)\n",
    "    xi2_nonPBC = np.zeros(nbins)\n",
    " \n",
    "    for ii in range(0,nbins):\n",
    "        RR_mus = RRs_nonPBC[ii]/nmu_bins\n",
    "        for j in range ((ii)*nmu_bins,(ii+1)*nmu_bins):\n",
    "            xi0_nonPBC[ii] += ((DDsmu_nonPBC[j])/RR_mus)*P0*delta_mu \n",
    "            xi2_nonPBC[ii] += ((DDsmu_nonPBC[j])/RR_mus)*delta_mu*P2(mu_nonPBC[j])\n",
    "\n",
    "    #monopole    \n",
    "    A_0_nonPBC[i] = xi0_nonPBC\n",
    "     \n",
    "    #quadrupole\n",
    "    A_2_nonPBC[i] = xi2_nonPBC*(2*l2+1)\n",
    "# calculate the average of 8 realizations and error bars, F code\n",
    "xi_vv0_05_PH = np.zeros(nbins)\n",
    "xi_vv2_05_PH = np.zeros(nbins)\n",
    "\n",
    "for i in range(0,nbins):\n",
    "    xi_vv0_05_PH[i] = np.mean(A_0_nonPBC[0:ndata,i])\n",
    "    xi_vv2_05_PH[i] = np.mean(A_2_nonPBC[0:ndata,i])\n",
    "\n",
    "error_xi_vv0_05_PH = np.zeros(nbins)\n",
    "error_xi_vv2_05_PH = np.zeros(nbins)\n",
    "for i in range(0,nbins):\n",
    "    a0 = 0\n",
    "    a2 = 0\n",
    "    for j in range(0,ndata):\n",
    "        a0 += (A_0_nonPBC[j,i] - xi_vv0_05_PH[i])**2\n",
    "        a2 += (A_2_nonPBC[j,i] - xi_vv2_05_PH[i])**2\n",
    "    error_xi_vv0_05_PH[i] = np.sqrt(a0/((ndata-1)*ndata)) #standard error of the mean\n",
    "    error_xi_vv2_05_PH[i] = np.sqrt(a2/((ndata-1)*ndata))    "
   ]
  },
  {
   "cell_type": "code",
   "execution_count": 12,
   "id": "c78903bc-e365-4547-8bbb-e38900e163fb",
   "metadata": {},
   "outputs": [
    {
     "name": "stderr",
     "output_type": "stream",
     "text": [
      "<ipython-input-12-831d5f8fbd26>:24: RuntimeWarning: divide by zero encountered in double_scalars\n",
      "  xi0_nonPBC[ii] += ((DDsmu_nonPBC[j]-2*DR[j])/RR_mus+2)*P0*delta_mu\n",
      "<ipython-input-12-831d5f8fbd26>:25: RuntimeWarning: divide by zero encountered in double_scalars\n",
      "  xi2_nonPBC[ii] += ((DDsmu_nonPBC[j]-2*DR[j])/RR_mus+2)*delta_mu*P2(mu_nonPBC[j])\n",
      "<ipython-input-12-831d5f8fbd26>:24: RuntimeWarning: invalid value encountered in double_scalars\n",
      "  xi0_nonPBC[ii] += ((DDsmu_nonPBC[j]-2*DR[j])/RR_mus+2)*P0*delta_mu\n",
      "<ipython-input-12-831d5f8fbd26>:25: RuntimeWarning: invalid value encountered in double_scalars\n",
      "  xi2_nonPBC[ii] += ((DDsmu_nonPBC[j]-2*DR[j])/RR_mus+2)*delta_mu*P2(mu_nonPBC[j])\n"
     ]
    }
   ],
   "source": [
    "#LS estimator\n",
    "A_0_nonPBC = np.zeros((ndata,nbins))\n",
    "A_2_nonPBC = np.zeros((ndata,nbins))\n",
    "for i in range (0,ndata):\n",
    "\n",
    "    #load results for 8 realizations\n",
    "    DDsmu_nonPBC = np.loadtxt(path+'/my-f-code/results/vv-cutbox07Lnew-nonPBC-realization'\n",
    "                         +realizations[i]+'.txt', usecols = (0))\n",
    "    mu_nonPBC    = np.loadtxt(path+'/my-f-code/results/vv-cutbox07Lnew-nonPBC-realization'\n",
    "                         +realizations[i]+'.txt', usecols = (2))\n",
    "\n",
    "    # RR pairs count\n",
    "    RRs_nonPBC = np.loadtxt(path+'/my-f-code/results/RR-cutbox07Lnew-nonPBC-realization'\n",
    "                         +realizations[i]+'.txt', usecols = (0))\n",
    "    DR = np.loadtxt(path+'/my-f-code/results/DR-cutbox07Lnew-nonPBC-realization'\n",
    "                         +realizations[i]+'.txt', usecols = (0))\n",
    "       \n",
    "    xi0_nonPBC = np.zeros(nbins)\n",
    "    xi2_nonPBC = np.zeros(nbins)\n",
    " \n",
    "    for ii in range(0,nbins):\n",
    "        RR_mus = RRs_nonPBC[ii]/nmu_bins\n",
    "        for j in range ((ii)*nmu_bins,(ii+1)*nmu_bins):\n",
    "            xi0_nonPBC[ii] += ((DDsmu_nonPBC[j]-2*DR[j])/RR_mus+2)*P0*delta_mu \n",
    "            xi2_nonPBC[ii] += ((DDsmu_nonPBC[j]-2*DR[j])/RR_mus+2)*delta_mu*P2(mu_nonPBC[j])\n",
    "\n",
    "    #monopole    \n",
    "    A_0_nonPBC[i] = xi0_nonPBC\n",
    "     \n",
    "    #quadrupole\n",
    "    A_2_nonPBC[i] = xi2_nonPBC*(2*l2+1)\n",
    "# calculate the average of 8 realizations and error bars, F code\n",
    "xi_vv0_07_LS = np.zeros(nbins)\n",
    "xi_vv2_07_LS = np.zeros(nbins)\n",
    "\n",
    "for i in range(0,nbins):\n",
    "    xi_vv0_07_LS[i] = np.mean(A_0_nonPBC[0:ndata,i])\n",
    "    xi_vv2_07_LS[i] = np.mean(A_2_nonPBC[0:ndata,i])\n",
    "\n",
    "error_xi_vv0_07_LS = np.zeros(nbins)\n",
    "error_xi_vv2_07_LS = np.zeros(nbins)\n",
    "for i in range(0,nbins):\n",
    "    a0 = 0\n",
    "    a2 = 0\n",
    "    for j in range(0,ndata):\n",
    "        a0 += (A_0_nonPBC[j,i] - xi_vv0_07_LS[i])**2\n",
    "        a2 += (A_2_nonPBC[j,i] - xi_vv2_07_LS[i])**2\n",
    "    error_xi_vv0_07_LS[i] = np.sqrt(a0/((ndata-1)*ndata)) #standard error of the mean\n",
    "    error_xi_vv2_07_LS[i] = np.sqrt(a2/((ndata-1)*ndata))    "
   ]
  },
  {
   "cell_type": "code",
   "execution_count": 13,
   "id": "3128b49f-7119-4209-a6e7-741f6fc61600",
   "metadata": {},
   "outputs": [
    {
     "name": "stderr",
     "output_type": "stream",
     "text": [
      "<ipython-input-13-e4cf2991c7fe>:24: RuntimeWarning: divide by zero encountered in double_scalars\n",
      "  xi0_nonPBC[ii] += ((DDsmu_nonPBC[j])/RR_mus)*P0*delta_mu\n",
      "<ipython-input-13-e4cf2991c7fe>:25: RuntimeWarning: divide by zero encountered in double_scalars\n",
      "  xi2_nonPBC[ii] += ((DDsmu_nonPBC[j])/RR_mus)*delta_mu*P2(mu_nonPBC[j])\n",
      "<ipython-input-13-e4cf2991c7fe>:24: RuntimeWarning: invalid value encountered in double_scalars\n",
      "  xi0_nonPBC[ii] += ((DDsmu_nonPBC[j])/RR_mus)*P0*delta_mu\n",
      "<ipython-input-13-e4cf2991c7fe>:25: RuntimeWarning: invalid value encountered in double_scalars\n",
      "  xi2_nonPBC[ii] += ((DDsmu_nonPBC[j])/RR_mus)*delta_mu*P2(mu_nonPBC[j])\n"
     ]
    }
   ],
   "source": [
    "#test with reproducing PH\n",
    "A_0_nonPBC = np.zeros((ndata,nbins))\n",
    "A_2_nonPBC = np.zeros((ndata,nbins))\n",
    "for i in range (0,ndata):\n",
    "\n",
    "    #load results for 8 realizations\n",
    "    DDsmu_nonPBC = np.loadtxt(path+'/my-f-code/results/vv-cutbox07Lnew-nonPBC-realization'\n",
    "                         +realizations[i]+'.txt', usecols = (0))\n",
    "    mu_nonPBC    = np.loadtxt(path+'/my-f-code/results/vv-cutbox07Lnew-nonPBC-realization'\n",
    "                         +realizations[i]+'.txt', usecols = (2))\n",
    "\n",
    "    # RR pairs count\n",
    "    RRs_nonPBC = np.loadtxt(path+'/my-f-code/results/RR-cutbox07Lnew-nonPBC-realization'\n",
    "                         +realizations[i]+'.txt', usecols = (0))\n",
    "    DR = np.loadtxt(path+'/my-f-code/results/DR-cutbox07Lnew-nonPBC-realization'\n",
    "                         +realizations[i]+'.txt', usecols = (0))\n",
    "       \n",
    "    xi0_nonPBC = np.zeros(nbins)\n",
    "    xi2_nonPBC = np.zeros(nbins)\n",
    " \n",
    "    for ii in range(0,nbins):\n",
    "        RR_mus = RRs_nonPBC[ii]/nmu_bins\n",
    "        for j in range ((ii)*nmu_bins,(ii+1)*nmu_bins):\n",
    "            xi0_nonPBC[ii] += ((DDsmu_nonPBC[j])/RR_mus)*P0*delta_mu \n",
    "            xi2_nonPBC[ii] += ((DDsmu_nonPBC[j])/RR_mus)*delta_mu*P2(mu_nonPBC[j])\n",
    "\n",
    "    #monopole    \n",
    "    A_0_nonPBC[i] = xi0_nonPBC\n",
    "     \n",
    "    #quadrupole\n",
    "    A_2_nonPBC[i] = xi2_nonPBC*(2*l2+1)\n",
    "# calculate the average of 8 realizations and error bars, F code\n",
    "xi_vv0_07_PH = np.zeros(nbins)\n",
    "xi_vv2_07_PH = np.zeros(nbins)\n",
    "\n",
    "for i in range(0,nbins):\n",
    "    xi_vv0_07_PH[i] = np.mean(A_0_nonPBC[0:ndata,i])\n",
    "    xi_vv2_07_PH[i] = np.mean(A_2_nonPBC[0:ndata,i])\n",
    "\n",
    "error_xi_vv0_07_PH = np.zeros(nbins)\n",
    "error_xi_vv2_07_PH = np.zeros(nbins)\n",
    "for i in range(0,nbins):\n",
    "    a0 = 0\n",
    "    a2 = 0\n",
    "    for j in range(0,ndata):\n",
    "        a0 += (A_0_nonPBC[j,i] - xi_vv0_07_PH[i])**2\n",
    "        a2 += (A_2_nonPBC[j,i] - xi_vv2_07_PH[i])**2\n",
    "    error_xi_vv0_07_PH[i] = np.sqrt(a0/((ndata-1)*ndata)) #standard error of the mean\n",
    "    error_xi_vv2_07_PH[i] = np.sqrt(a2/((ndata-1)*ndata))    "
   ]
  },
  {
   "cell_type": "code",
   "execution_count": 20,
   "id": "cebfda87-f404-4170-9941-4ac075cd2ded",
   "metadata": {},
   "outputs": [
    {
     "data": {
      "text/plain": [
       "<matplotlib.legend.Legend at 0x7fbabb9b6220>"
      ]
     },
     "execution_count": 20,
     "metadata": {},
     "output_type": "execute_result"
    },
    {
     "data": {
      "image/png": "[encoded data removed]",
      "text/plain": [
       "<Figure size 432x288 with 1 Axes>"
      ]
     },
     "metadata": {
      "needs_background": "light"
     },
     "output_type": "display_data"
    }
   ],
   "source": [
    "ax = plt.axes()\n",
    "ax.set_xscale(\"log\")\n",
    "#ax.set_yscale(\"log\")\n",
    "ax.errorbar(r, -xi_vv2_03_LS*r, fmt ='y--',yerr = error_xi_vv2_03_LS*r,label=\"LS 0.3L\")\n",
    "ax.errorbar(r, -xi_vv2_05_LS*r, fmt ='r--',yerr = error_xi_vv2_05_LS*r,label=\"LS 0.5L\")\n",
    "ax.errorbar(r, -xi_vv2_07_LS*r, fmt ='g--',yerr = error_xi_vv2_07_LS*r,label=\"LS 0.7L\")\n",
    "ax.errorbar(r, -xi_vv2_03_PH*r, fmt ='y.',yerr = error_xi_vv2_03_PH*r,label=\"PH 0.3L\")\n",
    "ax.errorbar(r, -xi_vv2_05_PH*r, fmt ='r.',yerr = error_xi_vv2_05_PH*r,label=\"PH 0.5L\")\n",
    "ax.errorbar(r, -xi_vv2_07_PH*r, fmt ='g.',yerr = error_xi_vv2_07_PH*r,label=\"PH 0.7L\")\n",
    "##ax.errorbar(r, -xi_vv2_LS*r, fmt ='-',yerr = error_xi_vv2_LS*r,label=\"LS nonPBC\")\n",
    "#ax.errorbar(r, -xi_vv2_pbc_LS*r, fmt ='-',yerr = error_xi_vv2_pbc_LS*r,label=\"LS PBC\")\n",
    "ax.set_ylabel(\"$-\\\\xi_{vv,2}.s$\")\n",
    "ax.set_xlabel(\"s[h$^{-1}$Mpc]\")\n",
    "ax.set_xlim(300,)\n",
    "ax.set_ylim(-500,200)\n",
    "ax.legend(loc=(1.1,0))\n",
    "#plt.savefig('vv2-cutbox-correct.pdf')\n",
    "#plt.savefig('vv2-05.png')"
   ]
  },
  {
   "cell_type": "code",
   "execution_count": 8,
   "id": "a27fb0c7-7a1e-451c-b2c5-2efd594deb79",
   "metadata": {},
   "outputs": [],
   "source": [
    "#LS estimator\n",
    "A_0_nonPBC = np.zeros((ndata,nbins))\n",
    "A_2_nonPBC = np.zeros((ndata,nbins))\n",
    "for i in range (0,ndata):\n",
    "\n",
    "    #load results for 8 realizations\n",
    "    DDsmu_nonPBC = np.loadtxt(path+'/my-f-code/results/vv-fullboxnew-nonPBC-realization'\n",
    "                         +realizations[i]+'.txt', usecols = (0))\n",
    "    mu_nonPBC    = np.loadtxt(path+'/my-f-code/results/vv-fullboxnew-nonPBC-realization'\n",
    "                         +realizations[i]+'.txt', usecols = (2))\n",
    "\n",
    "    # RR pairs count\n",
    "    RRs_nonPBC = np.loadtxt(path+'/my-f-code/results/RR-fullboxnew-nonPBC-realization'\n",
    "                         +realizations[i]+'.txt', usecols = (0))\n",
    "    DR = np.loadtxt(path+'/my-f-code/results/DR-fullboxnew-nonPBC-realization'\n",
    "                         +realizations[i]+'.txt', usecols = (0))\n",
    "       \n",
    "    xi0_nonPBC = np.zeros(nbins)\n",
    "    xi2_nonPBC = np.zeros(nbins)\n",
    "  \n",
    "    for ii in range(0,nbins):\n",
    "        RR_mus = RRs_nonPBC[ii]/nmu_bins\n",
    "        for j in range ((ii)*nmu_bins,(ii+1)*nmu_bins):\n",
    "            xi0_nonPBC[ii] += ((DDsmu_nonPBC[j]-2*DR[j])/RR_mus+2)*P0*delta_mu \n",
    "            xi2_nonPBC[ii] += ((DDsmu_nonPBC[j]-2*DR[j])/RR_mus+2)*delta_mu*P2(mu_nonPBC[j])\n",
    "           \n",
    "    #monopole    \n",
    "    A_0_nonPBC[i] = xi0_nonPBC\n",
    "    \n",
    "    #quadrupole\n",
    "    A_2_nonPBC[i] = xi2_nonPBC*(2*l2+1)\n",
    "\n",
    "                               \n",
    "# calculate the average of 8 realizations and error bars, F code\n",
    "xi_vv0_LS = np.zeros(nbins)\n",
    "xi_vv2_LS = np.zeros(nbins)\n",
    "\n",
    "for i in range(0,nbins):\n",
    "    xi_vv0_LS[i] = np.mean(A_0_nonPBC[0:ndata,i])\n",
    "    xi_vv2_LS[i] = np.mean(A_2_nonPBC[0:ndata,i])\n",
    "\n",
    "error_xi_vv0_LS = np.zeros(nbins)\n",
    "error_xi_vv2_LS = np.zeros(nbins)\n",
    "for i in range(0,nbins):\n",
    "    a0 = 0\n",
    "    a2 = 0\n",
    "    for j in range(0,ndata):\n",
    "        a0 += (A_0_nonPBC[j,i] - xi_vv0_LS[i])**2\n",
    "        a2 += (A_2_nonPBC[j,i] - xi_vv2_LS[i])**2\n",
    "    error_xi_vv0_LS[i] = np.sqrt(a0/((ndata-1)*ndata)) #standard error of the mean\n",
    "    error_xi_vv2_LS[i] = np.sqrt(a2/((ndata-1)*ndata))\n"
   ]
  },
  {
   "cell_type": "code",
   "execution_count": 10,
   "id": "010f136d-537a-468c-8ea6-3372bbdd79cc",
   "metadata": {},
   "outputs": [],
   "source": [
    "#LS estimator, full+PBC\n",
    "A_0_nonPBC = np.zeros((ndata,nbins))\n",
    "A_2_nonPBC = np.zeros((ndata,nbins))\n",
    "for i in range (0,ndata):\n",
    "\n",
    "    #load results for 8 realizations\n",
    "    DDsmu_nonPBC = np.loadtxt(path+'/my-f-code/results/vv-fullboxnew-PBC-realization'\n",
    "                         +realizations[i]+'.txt', usecols = (0))\n",
    "    mu_nonPBC    = np.loadtxt(path+'/my-f-code/results/vv-fullboxnew-PBC-realization'\n",
    "                         +realizations[i]+'.txt', usecols = (2))\n",
    "\n",
    "    # RR pairs count\n",
    "    RRs_nonPBC = np.loadtxt(path+'/my-f-code/results/RR-fullboxnew-PBC-realization'\n",
    "                         +realizations[i]+'.txt', usecols = (0))\n",
    "    DR = np.loadtxt(path+'/my-f-code/results/DR-fullbox-PBC-realization'\n",
    "                         +realizations[i]+'.txt', usecols = (0))\n",
    "       \n",
    "    xi0_nonPBC = np.zeros(nbins)\n",
    "    xi2_nonPBC = np.zeros(nbins)\n",
    "  \n",
    "    for ii in range(0,nbins):\n",
    "        RR_mus = RRs_nonPBC[ii]/nmu_bins\n",
    "        for j in range ((ii)*nmu_bins,(ii+1)*nmu_bins):\n",
    "            xi0_nonPBC[ii] += ((DDsmu_nonPBC[j]-2*DR[j])/RR_mus+2)*P0*delta_mu \n",
    "            xi2_nonPBC[ii] += ((DDsmu_nonPBC[j]-2*DR[j])/RR_mus+2)*delta_mu*P2(mu_nonPBC[j])\n",
    "           \n",
    "    #monopole    \n",
    "    A_0_nonPBC[i] = xi0_nonPBC\n",
    "    \n",
    "    #quadrupole\n",
    "    A_2_nonPBC[i] = xi2_nonPBC*(2*l2+1)\n",
    "\n",
    "                               \n",
    "# calculate the average of 8 realizations and error bars, F code\n",
    "xi_vv0_pbc_LS = np.zeros(nbins)\n",
    "xi_vv2_pbc_LS = np.zeros(nbins)\n",
    "\n",
    "for i in range(0,nbins):\n",
    "    xi_vv0_pbc_LS[i] = np.mean(A_0_nonPBC[0:ndata,i])\n",
    "    xi_vv2_pbc_LS[i] = np.mean(A_2_nonPBC[0:ndata,i])\n",
    "\n",
    "error_xi_vv0_pbc_LS = np.zeros(nbins)\n",
    "error_xi_vv2_pbc_LS = np.zeros(nbins)\n",
    "for i in range(0,nbins):\n",
    "    a0 = 0\n",
    "    a2 = 0\n",
    "    for j in range(0,ndata):\n",
    "        a0 += (A_0_nonPBC[j,i] - xi_vv0_pbc_LS[i])**2\n",
    "        a2 += (A_2_nonPBC[j,i] - xi_vv2_pbc_LS[i])**2\n",
    "    error_xi_vv0_pbc_LS[i] = np.sqrt(a0/((ndata-1)*ndata)) #standard error of the mean\n",
    "    error_xi_vv2_pbc_LS[i] = np.sqrt(a2/((ndata-1)*ndata))\n"
   ]
  },
  {
   "cell_type": "code",
   "execution_count": 11,
   "id": "0c70163e-87a0-40e3-bed2-416efa30e219",
   "metadata": {},
   "outputs": [
    {
     "data": {
      "text/plain": [
       "<matplotlib.legend.Legend at 0x7fa3a80ee3d0>"
      ]
     },
     "execution_count": 11,
     "metadata": {},
     "output_type": "execute_result"
    },
    {
     "data": {
      "image/png": "[encoded data removed]",
      "text/plain": [
       "<Figure size 432x288 with 1 Axes>"
      ]
     },
     "metadata": {
      "needs_background": "light"
     },
     "output_type": "display_data"
    }
   ],
   "source": [
    "#LS estimator\n",
    "ax = plt.axes()\n",
    "ax.set_xscale(\"log\")\n",
    "#ax.set_yscale(\"log\")\n",
    "ax.errorbar(r, xi_vv0_03_LS*r, fmt ='y--',yerr = error_xi_vv0_03_LS*r,label=\"LS 0.3L\")\n",
    "ax.errorbar(r, xi_vv0_05_LS*r, fmt ='r--',yerr = error_xi_vv0_05_LS*r,label=\"LS 0.5L\")\n",
    "ax.errorbar(r, xi_vv0_07_LS*r, fmt ='g--',yerr = error_xi_vv0_07_LS*r,label=\"LS 0.7L\")\n",
    "ax.errorbar(r, xi_vv0_LS*r,fmt ='-',yerr = error_xi_vv0_LS*r,label=\"LS nonPBC\")\n",
    "ax.errorbar(r, xi_vv0_pbc_LS*r,fmt ='-',yerr = error_xi_vv0_pbc_LS*r,label=\"LS PBC\")\n",
    "ax.set_ylabel(\"$\\\\xi_{vv,0}.s$\")\n",
    "ax.set_xlabel(\"s[h$^{-1}$Mpc]\")\n",
    "#ax.set_xlim(1,100)\n",
    "#ax.set_ylim(-2000,2000)\n",
    "ax.legend()\n",
    "#plt.savefig('vv0-cutbox-correct.pdf')\n",
    "#plt.savefig('vv0-05.png')"
   ]
  },
  {
   "cell_type": "code",
   "execution_count": 18,
   "id": "26b99fed-f6ad-447e-9dbd-c208fb51d5dd",
   "metadata": {},
   "outputs": [
    {
     "data": {
      "text/plain": [
       "<matplotlib.legend.Legend at 0x7fa3a91e7430>"
      ]
     },
     "execution_count": 18,
     "metadata": {},
     "output_type": "execute_result"
    },
    {
     "data": {
      "image/png": "[encoded data removed]",
      "text/plain": [
       "<Figure size 432x288 with 1 Axes>"
      ]
     },
     "metadata": {
      "needs_background": "light"
     },
     "output_type": "display_data"
    }
   ],
   "source": [
    "ax = plt.axes()\n",
    "ax.set_xscale(\"log\")\n",
    "#ax.set_yscale(\"log\")\n",
    "ax.errorbar(r, -xi_vv2_03_LS*r, fmt ='y--',yerr = error_xi_vv2_03_LS*r,label=\"LS 0.3L\")\n",
    "ax.errorbar(r, -xi_vv2_05_LS*r, fmt ='r--',yerr = error_xi_vv2_05_LS*r,label=\"LS 0.5L\")\n",
    "ax.errorbar(r, -xi_vv2_07_LS*r, fmt ='g--',yerr = error_xi_vv2_07_LS*r,label=\"LS 0.7L\")\n",
    "ax.errorbar(r, -xi_vv2_LS*r, fmt ='-',yerr = error_xi_vv2_LS*r,label=\"LS nonPBC\")\n",
    "ax.errorbar(r, -xi_vv2_pbc_LS*r, fmt ='-',yerr = error_xi_vv2_pbc_LS*r,label=\"LS PBC\")\n",
    "ax.set_ylabel(\"$-\\\\xi_{vv,2}.s$\")\n",
    "ax.set_xlabel(\"s[h$^{-1}$Mpc]\")\n",
    "#ax.set_xlim(100)\n",
    "ax.set_ylim(-1000,1500)\n",
    "ax.legend()\n",
    "#plt.savefig('vv2-cutbox-correct.pdf')\n",
    "#plt.savefig('vv2-05.png')"
   ]
  },
  {
   "cell_type": "raw",
   "id": "ebf85b71-de4c-43cc-a76a-af79f9e2a025",
   "metadata": {},
   "source": [
    "# save the results\n",
    "output = np.array([rdds, xi_dd0s_nonPBC, error_xi_dd0s_nonPBC])\n",
    "output1 = output.T\n",
    "#np.savetxt(path+'/my-f-code/results/xi-dd0s-07L.txt', output1)\n",
    "#np.savetxt(path+'/my-f-code/results/xi-dd0s-05L.txt', output1)\n",
    "np.savetxt(path+'/my-f-code/results/xi-dd0s-03L.txt', output1)\n",
    "\n",
    "output = np.array([rdds, xi_dd2s_nonPBC, error_xi_dd2s_nonPBC])\n",
    "output2 = output.T\n",
    "#np.savetxt(path+'/my-f-code/results/xi-dd2s-07L.txt', output2)\n",
    "#np.savetxt(path+'/my-f-code/results/xi-dd2s-05L.txt', output2)\n",
    "np.savetxt(path+'/my-f-code/results/xi-dd2s-03L.txt', output2)"
   ]
  },
  {
   "cell_type": "markdown",
   "id": "120874b9-5680-4d46-8135-3900f37053cc",
   "metadata": {},
   "source": [
    "plot with the cut off theoretical curves"
   ]
  },
  {
   "cell_type": "code",
   "execution_count": 13,
   "id": "ba2fe10e-45e9-4a00-8d5f-8c5c896dc333",
   "metadata": {},
   "outputs": [],
   "source": [
    "# velocity auto-correlation in realspace, theory, Fortran code\n",
    "xi_vv0_th = np.loadtxt(path+'/my-f-code/results/xi-vv0-th-test.txt', usecols=(1))\n",
    "xi_vv0_th *= f**2/3\n",
    "xi_vv2_th = np.loadtxt(path+'/my-f-code/results/xi-vv2-th-test.txt', usecols=(1))\n",
    "xi_vv2_th *= -2/3*f**2\n",
    "\n",
    "# velocity auto-correlation cut-off, in realspace, theory, Fortran code\n",
    "xi_vv0_th_cut = np.loadtxt(path+'/my-f-code/results/xi-vv0-th-cut.txt', usecols=(1))\n",
    "xi_vv0_th_cut *= f**2/3\n",
    "xi_vv2_th_cut = np.loadtxt(path+'/my-f-code/results/xi-vv2-th-cut.txt', usecols=(1))\n",
    "xi_vv2_th_cut *= -2/3*f**2"
   ]
  },
  {
   "cell_type": "code",
   "execution_count": 14,
   "id": "e73c9035-f400-4549-a096-df532936b944",
   "metadata": {},
   "outputs": [
    {
     "data": {
      "text/plain": [
       "<matplotlib.legend.Legend at 0x7fa3a8a322e0>"
      ]
     },
     "execution_count": 14,
     "metadata": {},
     "output_type": "execute_result"
    },
    {
     "data": {
      "image/png": "[encoded data removed]",
      "text/plain": [
       "<Figure size 432x288 with 1 Axes>"
      ]
     },
     "metadata": {
      "needs_background": "light"
     },
     "output_type": "display_data"
    }
   ],
   "source": [
    "ax = plt.axes()\n",
    "ax.set_xscale(\"log\")\n",
    "#ax.set_yscale(\"log\")\n",
    "ax.errorbar(r, xi_vv0_03_LS*r, fmt ='y--',yerr = error_xi_vv0_03_LS*r,label=\"LS 0.3L\")\n",
    "ax.errorbar(r, xi_vv0_05_LS*r, fmt ='r--',yerr = error_xi_vv0_05_LS*r,label=\"LS 0.5L\")\n",
    "ax.errorbar(r, xi_vv0_07_LS*r, fmt ='g--',yerr = error_xi_vv0_07_LS*r,label=\"LS 0.7L\")\n",
    "ax.errorbar(r, xi_vv0_LS*r,fmt ='-',yerr = error_xi_vv0_LS*r,label=\"LS nonPBC\")\n",
    "ax.errorbar(r, xi_vv0_pbc_LS*r,fmt ='-',yerr = error_xi_vv0_pbc_LS*r,label=\"LS PBC\")\n",
    "ax.plot(r, xi_vv0_th_cut*r,'.' ,label=\"cut\")\n",
    "ax.plot(r, xi_vv0_th*r,'r-' ,label=\"Lin\")\n",
    "ax.set_ylabel(\"$\\\\xi_{vv,0}.r$\")\n",
    "ax.set_xlabel(\"r[h$^{-1}$Mpc]\")\n",
    "#ax.set_xlim(1,100)\n",
    "#ax.set_ylim(-2000,2000)\n",
    "ax.legend()\n",
    "#plt.savefig('vvs0-cutbox.pdf')\n",
    "#plt.savefig('vv0-Lincut.png')"
   ]
  },
  {
   "cell_type": "code",
   "execution_count": 15,
   "id": "2ea34cdc-fa5a-4677-82ba-64386354b96f",
   "metadata": {},
   "outputs": [
    {
     "data": {
      "text/plain": [
       "<matplotlib.legend.Legend at 0x7fa3a8b14b80>"
      ]
     },
     "execution_count": 15,
     "metadata": {},
     "output_type": "execute_result"
    },
    {
     "data": {
      "image/png": "[encoded data removed]",
      "text/plain": [
       "<Figure size 432x288 with 1 Axes>"
      ]
     },
     "metadata": {
      "needs_background": "light"
     },
     "output_type": "display_data"
    }
   ],
   "source": [
    "ax = plt.axes()\n",
    "ax.set_xscale(\"log\")\n",
    "#ax.set_yscale(\"log\")\n",
    "ax.errorbar(r, -xi_vv2_03_LS*r, fmt ='y--',yerr = error_xi_vv2_03_LS*r,label=\"LS 0.3L\")\n",
    "ax.errorbar(r, -xi_vv2_05_LS*r, fmt ='r--',yerr = error_xi_vv2_05_LS*r,label=\"LS 0.5L\")\n",
    "ax.errorbar(r, -xi_vv2_07_LS*r, fmt ='g--',yerr = error_xi_vv2_07_LS*r,label=\"LS 0.7L\")\n",
    "ax.errorbar(r, -xi_vv2_LS*r, fmt ='-',yerr = error_xi_vv2_LS*r,label=\"LS nonPBC\")\n",
    "ax.errorbar(r, -xi_vv2_pbc_LS*r, fmt ='-',yerr = error_xi_vv2_pbc_LS*r,label=\"LS PBC\")\n",
    "ax.plot(r, -xi_vv2_th_cut*r,'.' ,label=\"cut\")\n",
    "ax.plot(r, -xi_vv2_th*r,'r-' ,label=\"Lin\")\n",
    "ax.set_ylabel(\"$-\\\\xi_{vv,2}.s$\")\n",
    "ax.set_xlabel(\"s[h$^{-1}$Mpc]\")\n",
    "#ax.set_xlim(1,100)\n",
    "ax.set_ylim(0,300)\n",
    "ax.legend()\n",
    "#plt.savefig('vv2-cutbox.pdf')\n",
    "#plt.savefig('vv2-Lincut.png')"
   ]
  },
  {
   "cell_type": "code",
   "execution_count": null,
   "id": "575fa396-2fa9-4e64-8ba7-77cb16cfdc29",
   "metadata": {},
   "outputs": [],
   "source": []
  }
 ],
 "metadata": {
  "kernelspec": {
   "display_name": "Python 3",
   "language": "python",
   "name": "python3"
  },
  "language_info": {
   "codemirror_mode": {
    "name": "ipython",
    "version": 3
   },
   "file_extension": ".py",
   "mimetype": "text/x-python",
   "name": "python",
   "nbconvert_exporter": "python",
   "pygments_lexer": "ipython3",
   "version": "3.8.8"
  }
 },
 "nbformat": 4,
 "nbformat_minor": 5
}
