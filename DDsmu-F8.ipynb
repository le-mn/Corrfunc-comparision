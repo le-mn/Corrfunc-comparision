{
 "cells": [
  {
   "cell_type": "code",
   "execution_count": 1,
   "id": "6743a82b-4ccd-4539-8014-7d2173292b00",
   "metadata": {},
   "outputs": [],
   "source": [
    "# compare the F-corrfunc code, with the results average from 8 realizations,\n",
    "# to Linear theory\n",
    "\n",
    "from __future__ import print_function\n",
    "import numpy as np\n",
    "import matplotlib.pyplot as plt\n",
    "from Corrfunc.theory.DDsmu import DDsmu\n",
    "from hankel import HankelTransform\n",
    "from scipy.interpolate import InterpolatedUnivariateSpline as spline \n",
    "path = '/Users/ngoc/Desktop/Master-study/project'"
   ]
  },
  {
   "cell_type": "code",
   "execution_count": 2,
   "id": "5d2e231a-e7a0-4900-be82-ee31f48d8508",
   "metadata": {},
   "outputs": [],
   "source": [
    "#cosmological parameters\n",
    "f        = 0.687255861\n",
    "b        = 3.11                                 # bias for halo b = \\delta_halo/\\delta_matter\n",
    "beta     = f/b\n",
    "z        = 0.306                                #redshift\n",
    "H_0      = 67                                   #Hubble const\n",
    "Omg_lamb = 0.685                                #cosmological density parameter\n",
    "Omg_m    = 1 - Omg_lamb                         #mater density parameter\n",
    "a        = 1/(1 + z)                            #scale factor\n",
    "E_a      = np.sqrt(Omg_m*(1+z)**3 + Omg_lamb)   #parameter of Hubble H = E(a)*H_0\n"
   ]
  },
  {
   "cell_type": "code",
   "execution_count": 3,
   "id": "e88b08dc",
   "metadata": {},
   "outputs": [],
   "source": [
    "#simulation parameters\n",
    "boxsize  = 2000            #length of 1D of the box [Mpc/h]\n",
    "nthreads = 4               #number of Open MP threads to use \n",
    "autocorr = 1               #auto correlation\n",
    "nbins    = 50             #number of bins\n",
    "rmin     = 1.\n",
    "rmax     = boxsize/3\n",
    "kmin     = 2*np.pi/rmax\n",
    "bins     = np.logspace(np.log10(rmin), np.log10(rmax), nbins+1)  \n",
    "#bins     = np.linspace(rmin, rmax, nbins+1)  \n",
    "mu_max   = 1               #maximum value of cosine of the angle separated from the LOS\n",
    "nmu_bins = 10              #number of bins of the angle separation \n",
    "delta_mu = mu_max/nmu_bins\n"
   ]
  },
  {
   "cell_type": "code",
   "execution_count": 4,
   "id": "eb091a44",
   "metadata": {},
   "outputs": [],
   "source": [
    "#Legendre polynomials\n",
    "P0 = 1\n",
    "P_2 = lambda mu: (3*mu**2  - 1)/2\n",
    "P_4 = lambda mu: (35*mu**4 - 30*mu**2 + 3)/8  "
   ]
  },
  {
   "cell_type": "markdown",
   "id": "9c55458e-3a56-4e66-aa61-a2b9d2303931",
   "metadata": {},
   "source": [
    "Results for all 8 realizations and average of them,\n",
    "calculating time  1988.3836790000000 seconds ~ 33 mins"
   ]
  },
  {
   "cell_type": "code",
   "execution_count": 6,
   "id": "04bfce5c-7854-4d46-8b5e-38eecb17ef0a",
   "metadata": {},
   "outputs": [],
   "source": [
    "ndata    = 8                       #number of realizations\n",
    "realizations = \"12345678\"         #for reading the data\n",
    "A_0 = np.zeros((ndata,nbins))\n",
    "r   = np.zeros((ndata,nbins))\n",
    "A_2 = np.zeros((ndata,nbins))\n",
    "A_4 = np.zeros((ndata,nbins))"
   ]
  },
  {
   "cell_type": "code",
   "execution_count": 10,
   "id": "10cb771e-83e8-483b-8321-083279cc04b5",
   "metadata": {},
   "outputs": [],
   "source": [
    "for i in range (0,ndata):\n",
    "\n",
    "    #load results for 8 realization\n",
    "    DDsmu_f = np.loadtxt(path+'/my-f-code/results/xi-ddsmu-realization'+realizations[i]+'.txt', usecols = (0))\n",
    "    rsmu_f  = np.loadtxt(path+'/my-f-code/results/xi-ddsmu-realization'+realizations[i]+'.txt', usecols = (1))\n",
    "    mu_f    = np.loadtxt(path+'/my-f-code/results/xi-ddsmu-realization'+realizations[i]+'.txt', usecols = (2))\n",
    "    \n",
    "    X = np.loadtxt(path+'/catalogs/1'+realizations[i]+'/gals/2gpc/R11'+realizations[i]+'_S014_clu_d.cat', usecols = (1))\n",
    "   \n",
    "    N  = len(X)                   #number of halos\n",
    "    V  = 4/3*np.pi*(bins[1::]**3 - bins[0:-1:]**3)\n",
    "    RR = V*N*(N-1)/boxsize**3\n",
    "\n",
    "    #monopole      \n",
    "    xi0_f = np.zeros(nbins)\n",
    "    r0_f  = np.zeros(nbins)\n",
    "\n",
    "    l = 0 \n",
    "    for ii in range(0,nbins):\n",
    "        RR_mu = RR[ii]/nmu_bins\n",
    "        for j in range ((ii)*nmu_bins,(ii+1)*nmu_bins):\n",
    "        \n",
    "            xi0_f[ii] += (DDsmu_f[j]/RR_mu-1)*P0*delta_mu   \n",
    "            r0_f[ii]  += rsmu_f[j]\n",
    "        \n",
    "    r0_f /= nmu_bins\n",
    "    \n",
    "    A_0[i] = xi0_f\n",
    "    r[i]   = r0_f    \n",
    "    \n",
    "    #quadrupole\n",
    "    xi2_f = np.zeros(nbins)\n",
    "\n",
    "    l = 2 \n",
    "    for ii in range(0,nbins):\n",
    "        RR_mu = RR[ii]/nmu_bins\n",
    "        for j in range ((ii)*nmu_bins,(ii+1)*nmu_bins):\n",
    "            xi2_f[ii] += (DDsmu_f[j]/RR_mu-1)*delta_mu*P_2(mu_f[j])\n",
    "\n",
    "    xi2_f *= (2*l+1)\n",
    "    A_2[i] = xi2_f\n",
    "    \n",
    "    #hexadecapole\n",
    "    xi4_f = np.zeros(nbins)\n",
    "\n",
    "    l = 4 \n",
    "    for ii in range(0,nbins):\n",
    "        RR_mu = RR[ii]/nmu_bins\n",
    "        for j in range ((ii)*nmu_bins,(ii+1)*nmu_bins):\n",
    "            xi4_f[ii] += (DDsmu_f[j]/RR_mu-1)*delta_mu*P_4(mu_f[j])\n",
    "       \n",
    "    xi4_f *= (2*l+1)\n",
    "    A_4[i] = xi4_f\n",
    "    \n",
    "    "
   ]
  },
  {
   "cell_type": "code",
   "execution_count": 11,
   "id": "a81db6af-596e-4799-bd71-d2c5d718ef3b",
   "metadata": {},
   "outputs": [],
   "source": [
    "# calculate the average of 8 realizations and error bars\n",
    "\n",
    "#monopole\n",
    "xi_dd0_s = np.zeros(nbins)\n",
    "r_s      = np.zeros(nbins)\n",
    "\n",
    "for i in range(0,nbins):\n",
    "    r_s[i]      = np.mean(r[0:ndata,i])\n",
    "    xi_dd0_s[i] = np.mean(A_0[0:ndata,i])\n",
    "\n",
    "\n",
    "error_xi_dd0_s = np.zeros(nbins) \n",
    "for i in range(0,nbins):\n",
    "    a = 0\n",
    "    for j in range(0,ndata):\n",
    "        a = a + (A_0[j,i] - xi_dd0_s[i])**2.\n",
    "    error_xi_dd0_s[i] = np.sqrt(a/(ndata-1)) #standard deviation\n",
    "serror_xi_dd0_s = error_xi_dd0_s/np.sqrt(ndata)\n",
    "\n",
    "#quadrupole\n",
    "xi_dd2_s = np.zeros(nbins)\n",
    "for i in range(0,nbins):\n",
    "    xi_dd2_s[i] = np.mean(A_2[0:ndata,i])\n",
    "\n",
    "error_xi_dd2_s = np.zeros(nbins) \n",
    "for i in range(0,nbins):\n",
    "    a = 0\n",
    "    for j in range(0,ndata):\n",
    "        a = a + (A_2[j,i] - xi_dd2_s[i])**2\n",
    "    error_xi_dd2_s[i] = np.sqrt(a/(ndata-1))\n",
    "serror_xi_dd2_s = error_xi_dd2_s/np.sqrt(ndata)\n",
    "\n",
    "\n",
    "#hexadecapole\n",
    "xi_dd4_s = np.zeros(nbins)\n",
    "for i in range(0,nbins):\n",
    "    xi_dd4_s[i] = np.mean(A_4[0:ndata,i])\n",
    "\n",
    "error_xi_dd4_s = np.zeros(nbins) \n",
    "for i in range(0,nbins):\n",
    "    a = 0\n",
    "    for j in range(0,ndata):\n",
    "        a = a + (A_4[j,i] - xi_dd4_s[i])**2\n",
    "    error_xi_dd4_s[i] = np.sqrt(a/(ndata))\n",
    "serror_xi_dd4_s = error_xi_dd4_s/np.sqrt(ndata-1)\n",
    "\n",
    "\n"
   ]
  },
  {
   "cell_type": "code",
   "execution_count": 12,
   "id": "886bbe80-f968-43b4-b9e0-ec4636a47aa3",
   "metadata": {},
   "outputs": [],
   "source": [
    "\n",
    "A0  = 1 + 2/3*beta + 1/5*beta**2\n",
    "A2  = 4/3*beta + 4/7*beta**2\n",
    "A4  = 8/35*beta**2\n",
    "\n",
    "k   = np.loadtxt(path+'/results/power_spectrum.txt', usecols = (0))\n",
    "P   = np.loadtxt(path+'/results/power_spectrum.txt', usecols = (1))\n",
    "r   = r_s\n",
    "P_k = spline(k, P)\n",
    "\n",
    "#monopole\n",
    "h0  = HankelTransform(nu = 1/2, N = 3000, h = 1e-5)\n",
    "f_0 = lambda k: P_k(k)*np.sqrt(k)/(np.pi*2)**(3/2)\n",
    "xi_dd0_r = 1/np.sqrt(r)*h0.transform(f_0,r, ret_err=False, inverse=True)*A0*b**2\n",
    "\n",
    "#quadrupole\n",
    "h2  = HankelTransform(nu = 5/2, N = 3000, h = 1e-5)\n",
    "f_2 = lambda k: P_k(k)*np.sqrt(k)/(np.pi*2)**(3/2)\n",
    "xi_dd2_r = -1/np.sqrt(r)*h2.transform(f_2,r, ret_err=False, inverse=True)*A2*b**2    \n",
    " \n",
    "#hexadecapole\n",
    "h4  = HankelTransform(nu = 9/2, N = 3000, h = 1e-5)\n",
    "f_4 = lambda k: P_k(k)*np.sqrt(k)/(np.pi*2)**(3/2)\n",
    "xi_dd4_r = 1/np.sqrt(r)*h4.transform(f_4,r, ret_err=False, inverse=True)*A4*b**2\n",
    "        "
   ]
  },
  {
   "cell_type": "code",
   "execution_count": 17,
   "id": "3213f83d-e1e1-470d-8fe8-5b5cb4d1a9e8",
   "metadata": {},
   "outputs": [
    {
     "data": {
      "text/plain": [
       "(-100.0, 350.0)"
      ]
     },
     "execution_count": 17,
     "metadata": {},
     "output_type": "execute_result"
    },
    {
     "data": {
      "image/png": "[encoded data removed]",
      "text/plain": [
       "<Figure size 432x288 with 1 Axes>"
      ]
     },
     "metadata": {
      "needs_background": "light"
     },
     "output_type": "display_data"
    }
   ],
   "source": [
    "ax = plt.axes()\n",
    "ax.set_xscale(\"log\")\n",
    "#ax.set_yscale(\"log\")\n",
    "ax.errorbar(r, xi_dd0_s*r**2, fmt ='c.',yerr = serror_xi_dd0_s*r**2 ,label=\"F-avg\")\n",
    "ax.plot(r, xi_dd0_r*r**2, '--',label=\"Linear\")\n",
    "ax.set_ylabel(\"$\\\\xi_{dd,0}.r^2$\")\n",
    "ax.set_xlabel(\"s[Mpc$.h^{-1}$]\")\n",
    "#ax.set_xlim(1,100)\n",
    "ax.set_ylim(-100,350)\n",
    "#ax.legend()\n",
    "#plt.savefig('Fmono.png')"
   ]
  },
  {
   "cell_type": "code",
   "execution_count": 20,
   "id": "241a540c-1ec9-4b38-b9cd-cd09a570a978",
   "metadata": {
    "tags": []
   },
   "outputs": [
    {
     "data": {
      "text/plain": [
       "<matplotlib.legend.Legend at 0x7fdf4e8179d0>"
      ]
     },
     "execution_count": 20,
     "metadata": {},
     "output_type": "execute_result"
    },
    {
     "data": {
      "image/png": "[encoded data removed]",
      "text/plain": [
       "<Figure size 432x288 with 1 Axes>"
      ]
     },
     "metadata": {
      "needs_background": "light"
     },
     "output_type": "display_data"
    }
   ],
   "source": [
    "ax = plt.axes()\n",
    "ax.set_xscale(\"log\")\n",
    "#ax.set_yscale(\"log\")\n",
    "ax.errorbar(r,  -xi_dd2_s*r**2, fmt ='c.', yerr = serror_xi_dd2_s*r**2 , label=\"F\")\n",
    "ax.plot(r,  -xi_dd2_r*r**2, '--', label=\"Linear\")\n",
    "\n",
    "ax.set_ylabel(\"$\\\\xi_{dd,2}.s^2$\")\n",
    "ax.set_xlabel(\"s[Mpc$.h^{-1}$]\")\n",
    "ax.legend()\n",
    "#ax.set_xlim(10,)\n",
    "#ax.set_ylim(-300,500)\n",
    "#plt.savefig('Fquad.png')\n",
    "#plt.savefig\n"
   ]
  },
  {
   "cell_type": "code",
   "execution_count": 21,
   "id": "862f83bf-8542-47b7-b610-29da69714bb4",
   "metadata": {
    "tags": []
   },
   "outputs": [
    {
     "data": {
      "text/plain": [
       "<matplotlib.legend.Legend at 0x7fdf4d80a1f0>"
      ]
     },
     "execution_count": 21,
     "metadata": {},
     "output_type": "execute_result"
    },
    {
     "data": {
      "image/png": "[encoded data removed]",
      "text/plain": [
       "<Figure size 432x288 with 1 Axes>"
      ]
     },
     "metadata": {
      "needs_background": "light"
     },
     "output_type": "display_data"
    }
   ],
   "source": [
    "ax = plt.axes()\n",
    "ax.set_xscale(\"log\")\n",
    "#ax.set_yscale(\"log\")\n",
    "ax.errorbar(r,  xi_dd4_s*r**2, fmt ='c.',yerr = serror_xi_dd4_s*r**2 , label=\"F\")\n",
    "ax.plot(r,  xi_dd4_r*r**2, '-', label=\"Linear\")\n",
    "\n",
    "ax.set_ylabel(\"$\\\\xi_{dd,4}.s^2$\")\n",
    "ax.set_xlabel(\"s[Mpc$.h^{-1}$]\")\n",
    "ax.legend()\n",
    "#ax.set_xlim(10,)\n",
    "#ax.set_ylim(-300,500)\n",
    "#plt.savefig('Fhexa.png')\n"
   ]
  },
  {
   "cell_type": "markdown",
   "id": "85513d47-4736-4fc0-90bf-c73488d8428d",
   "metadata": {},
   "source": [
    "save results"
   ]
  },
  {
   "cell_type": "raw",
   "id": "84dd59e7-85f7-49ef-afb7-341cf09dfa06",
   "metadata": {},
   "source": [
    "output = np.array([r_s, xi_dd0_s, serror_xi_dd0_s])\n",
    "output1 = output.T\n",
    "np.savetxt(path+'/my-f-code/results/xi-ddsmu0-F.txt', output1)\n",
    "\n",
    "output = np.array([r_s, xi_dd2_s, serror_xi_dd2_s])\n",
    "output1 = output.T\n",
    "np.savetxt(path+'/my-f-code/results/xi-ddsmu2-F.txt', output1)\n",
    "\n",
    "output = np.array([r_s, xi_dd4_s, serror_xi_dd4_s])\n",
    "output1 = output.T\n",
    "np.savetxt(path+'/my-f-code/results/xi-ddsmu4-F.txt', output1)"
   ]
  },
  {
   "cell_type": "code",
   "execution_count": null,
   "id": "ac9a46a8-7c63-4259-8d42-8c9db299249c",
   "metadata": {},
   "outputs": [],
   "source": []
  }
 ],
 "metadata": {
  "kernelspec": {
   "display_name": "Python 3",
   "language": "python",
   "name": "python3"
  },
  "language_info": {
   "codemirror_mode": {
    "name": "ipython",
    "version": 3
   },
   "file_extension": ".py",
   "mimetype": "text/x-python",
   "name": "python",
   "nbconvert_exporter": "python",
   "pygments_lexer": "ipython3",
   "version": "3.8.8"
  }
 },
 "nbformat": 4,
 "nbformat_minor": 5
}
