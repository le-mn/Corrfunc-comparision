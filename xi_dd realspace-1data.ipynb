{
 "cells": [
  {
   "cell_type": "markdown",
   "id": "4d1f0034-6f91-408e-ba1b-b59c817aada2",
   "metadata": {},
   "source": [
    "\n",
    "This code is used for calculating the realspace density autocorrelation function between Dark Matter halos\n",
    "using the Corrfunc open package, DD module \n",
    "and compare with my code F-corrfunc\n",
    "\n",
    "Input data: using file contains 164014 mock halos (attached with this code)\n",
    "There are 2 cases to compare:\n",
    "1. Non PBC, logspace bins\n",
    "2. Non PBC, linearspace bins\n",
    "\n",
    "The matter power spectrum used for Linear theory calculation was calculated using a public code called CLASS and saved in the file 'power_spectrum.txt', attached with this code."
   ]
  },
  {
   "cell_type": "code",
   "execution_count": 1,
   "id": "150254a0-57d9-4829-847f-94fd1d64bae3",
   "metadata": {},
   "outputs": [],
   "source": [
    "from __future__ import print_function\n",
    "import numpy as np\n",
    "import matplotlib.pyplot as plt\n",
    "from Corrfunc.theory.DD import DD\n",
    "from hankel import HankelTransform\n",
    "from datetime import datetime\n",
    "from scipy.interpolate import InterpolatedUnivariateSpline as spline \n",
    "path='/Users/ngoc/Desktop/Master-study/project'"
   ]
  },
  {
   "cell_type": "code",
   "execution_count": 2,
   "id": "719c8922-904e-40fd-a79c-446cbb4ccb18",
   "metadata": {},
   "outputs": [],
   "source": [
    "#cosmological parameters\n",
    "z        = 0.306\n",
    "Omg_lamb = 0.685\n",
    "Omg_m    = 1 - Omg_lamb\n",
    "a        = 1/(1 + z)\n",
    "E_a      = np.sqrt(Omg_m*(1+z)**3 + Omg_lamb)"
   ]
  },
  {
   "cell_type": "code",
   "execution_count": 3,
   "id": "dbb884dd-d101-48fa-8eeb-f75137ff27bc",
   "metadata": {},
   "outputs": [],
   "source": [
    "#simulation parameter\n",
    "boxsize  = 2000          #[Mpc/h]\n",
    "nthreads = 4            #The number of OpenMP threads to use\n",
    "autocorr = 1 \n",
    "nbins    = 50             #number of bins\n",
    "r_min    = 1               #[Mpc/h]\n",
    "r_max    = boxsize/3       #[Mpc/h]\n",
    "bins     = np.logspace(np.log10(r_min), np.log10(r_max), nbins + 1)\n"
   ]
  },
  {
   "cell_type": "markdown",
   "id": "6238fc21-7140-44bf-a39b-b9dd278c19cf",
   "metadata": {},
   "source": [
    "The 1st simulation case: logspace bins and non PBC\n",
    "\n",
    "Need to create random halos and count pair, however Corrfunc does not provide random pair count and Python did very slow so I adopt the random pair count from F-corrfunc to use for Corrfunc too.\n",
    "\n",
    "The time measured here just the time for calculate DD pair count and $\\xi$"
   ]
  },
  {
   "cell_type": "markdown",
   "id": "299b4b32-e8fe-491a-8797-386a8f0b51c1",
   "metadata": {},
   "source": [
    "Load my F-corrfunc results for non PBC, logspace case\n",
    "\n",
    "Total duration time: 211.98550800000001       seconds.\n",
    "\n",
    "Time for calculate only DD pair count: 101.21834900000000      seconds"
   ]
  },
  {
   "cell_type": "code",
   "execution_count": 4,
   "id": "546347ec-57ed-419b-9d0c-a3e56a499c2c",
   "metadata": {},
   "outputs": [
    {
     "name": "stdout",
     "output_type": "stream",
     "text": [
      "[  1.07749188   1.23617826   1.40078557   1.59145477   1.80766742\n",
      "   2.05948888   2.33410052   2.66289914   3.02591538   3.44904747\n",
      "   3.92893268   4.47698356   5.09406538   5.80841132   6.60487353\n",
      "   7.52547029   8.57558262   9.75684201  11.12459301  12.66805606\n",
      "  14.43283001  16.4330044   18.72091039  21.32985031  24.28632774\n",
      "  27.66512052  31.51193492  35.89902725  40.89102334  46.5694442\n",
      "  53.03765925  60.40398763  68.80314912  78.36404111  89.24903195\n",
      " 101.63191002 115.74206864 131.82083133 150.13160051 170.97509793\n",
      " 194.72082426 221.75469418 252.54467517 287.6028577  327.52567221\n",
      " 372.99307341 424.76513131 483.70541826 550.83265424 627.25225537]\n",
      "[-5.00000000e-01  2.80000000e+00  8.66666667e+00  2.60000000e+01\n",
      "  3.04615385e+01  2.84761905e+01  1.84285714e+01  2.69736842e+01\n",
      "  1.74864865e+01  1.50900000e+01  1.21410256e+01  9.40400000e+00\n",
      "  7.74380165e+00  6.18198529e+00  4.91044776e+00  4.23734729e+00\n",
      "  3.17939815e+00  2.51203416e+00  2.14395604e+00  1.57473949e+00\n",
      "  1.20296909e+00  9.30221049e-01  6.93760861e-01  5.69158374e-01\n",
      "  4.06498120e-01  3.01214202e-01  2.05570229e-01  1.49553590e-01\n",
      "  9.92839204e-02  7.52981632e-02  5.33629241e-02  3.22369688e-02\n",
      "  2.11265270e-02  1.06929010e-02  9.33167368e-03  7.80143934e-03\n",
      "  2.41103251e-03 -4.76299525e-03 -2.95291118e-03 -1.65093674e-03\n",
      " -3.21209078e-04  9.62451201e-04  1.14654459e-03  2.23253780e-03\n",
      "  2.86036119e-03  3.05951509e-03  4.05746864e-03  4.23710828e-03\n",
      "  3.48042605e-03  3.30134221e-03]\n",
      "[1.20000000e+01 1.00000000e+01 1.80000000e+01 1.80000000e+01\n",
      " 2.60000000e+01 4.20000000e+01 8.40000000e+01 7.60000000e+01\n",
      " 1.48000000e+02 2.00000000e+02 3.12000000e+02 5.00000000e+02\n",
      " 7.26000000e+02 1.08800000e+03 1.60800000e+03 2.29200000e+03\n",
      " 3.45600000e+03 5.15200000e+03 7.28000000e+03 1.11320000e+04\n",
      " 1.64360000e+04 2.42480000e+04 3.56780000e+04 5.18520000e+04\n",
      " 7.65760000e+04 1.12996000e+05 1.68108000e+05 2.46186000e+05\n",
      " 3.63926000e+05 5.32762000e+05 7.83128000e+05 1.15296200e+06\n",
      " 1.68830400e+06 2.47005000e+06 3.62164400e+06 5.29466400e+06\n",
      " 7.72698000e+06 1.12924740e+07 1.64298880e+07 2.38676620e+07\n",
      " 3.45942900e+07 4.99931840e+07 7.20163880e+07 1.03325462e+08\n",
      " 1.47607932e+08 2.09772458e+08 2.96231988e+08 4.15400760e+08\n",
      " 5.77471256e+08 7.94391442e+08]\n"
     ]
    }
   ],
   "source": [
    "#load my F-corrfunc results for non PBC \n",
    "xi_f = np.loadtxt(path+'/my-f-code/results/xi-nonPBC-logspace.txt', usecols = (3))\n",
    "r_f = np.loadtxt(path+'/my-f-code/results/xi-nonPBC-logspace.txt', usecols = (2))\n",
    "RR_f =  np.loadtxt(path+'/my-f-code/results/xi-nonPBC-logspace.txt', usecols = (1))\n",
    "DD_f =  np.loadtxt(path+'/my-f-code/results/xi-nonPBC-logspace.txt', usecols = (0))\n",
    "print(r_f)\n",
    "print(xi_f)\n",
    "print(RR_f)"
   ]
  },
  {
   "cell_type": "code",
   "execution_count": 5,
   "id": "dc572713-4d09-41ec-be5b-6bdfe53b92ca",
   "metadata": {},
   "outputs": [],
   "source": [
    "start_time2 = datetime.now()"
   ]
  },
  {
   "cell_type": "code",
   "execution_count": 6,
   "id": "af7bdf77-5035-41b6-a0c2-618bfcd91e8c",
   "metadata": {},
   "outputs": [],
   "source": [
    "\n",
    "#load positions of halos\n",
    "X = np.loadtxt(path+'/catalogs/11/gals/2gpc/R111_S014_clu_d.cat', usecols = (1))\n",
    "Y = np.loadtxt(path+'/catalogs/11/gals/2gpc/R111_S014_clu_d.cat', usecols = (2))\n",
    "Z = np.loadtxt(path+'/catalogs/11/gals/2gpc/R111_S014_clu_d.cat', usecols = (3))\n",
    "    \n",
    "weights = np.full_like(X,1)\n",
    "#calculate data-data pairs\n",
    "results_DD = DD(autocorr,\n",
    "                nthreads,\n",
    "                bins,\n",
    "                X, Y, Z,\n",
    "                weights1    = weights,\n",
    "                boxsize     = boxsize,\n",
    "                weight_type = 'pair_product',\n",
    "                output_ravg = True,\n",
    "                periodic    = False) "
   ]
  },
  {
   "cell_type": "code",
   "execution_count": 7,
   "id": "53ee13ee-6dbe-4442-aaba-836eb0d27fcc",
   "metadata": {},
   "outputs": [],
   "source": [
    "npair  = results_DD['npairs']\n",
    "weight = results_DD['weightavg']\n",
    "xi  = npair*weight/RR_f  - 1\n",
    "r   = results_DD['ravg']"
   ]
  },
  {
   "cell_type": "code",
   "execution_count": 8,
   "id": "86bb8b28-6af3-45a0-b8bd-5f297802c1e4",
   "metadata": {},
   "outputs": [
    {
     "name": "stdout",
     "output_type": "stream",
     "text": [
      "Duration: 0:00:07.963482\n"
     ]
    }
   ],
   "source": [
    "end_time2 = datetime.now()\n",
    "print('Duration: {}'.format(end_time2 - start_time2))"
   ]
  },
  {
   "cell_type": "code",
   "execution_count": 9,
   "id": "fa678176-6ac1-4a8a-8154-18750029c7b0",
   "metadata": {},
   "outputs": [],
   "source": [
    "# Linear theory\n",
    "b = 3.11\n",
    "k   = np.loadtxt(path+'/results/power_spectrum.txt', usecols = (0))\n",
    "P   = np.loadtxt(path+'/results/power_spectrum.txt', usecols = (1))\n",
    "P_k = spline(k, P)\n",
    "h0  = HankelTransform(nu=1/2, N = 2000, h = 1e-3)\n",
    "\n",
    "# xi density in real space\n",
    "f_0 = lambda k: P_k(k)*k**(1/2)/(np.pi*2)**(3/2)\n",
    "xi_dd_r_theory = 1/np.sqrt(r)*h0.transform(f_0,r, ret_err=False, inverse=True)*b**2"
   ]
  },
  {
   "cell_type": "code",
   "execution_count": 24,
   "id": "fdc12079-fe62-4e7b-811e-eb300f922f9b",
   "metadata": {},
   "outputs": [
    {
     "data": {
      "text/plain": [
       "Text(0.5, 1.0, '$\\\\xi_{dd}$ with logspace bins, non PBC')"
      ]
     },
     "execution_count": 24,
     "metadata": {},
     "output_type": "execute_result"
    },
    {
     "data": {
      "image/png": "[encoded data removed]",
      "text/plain": [
       "<Figure size 432x288 with 1 Axes>"
      ]
     },
     "metadata": {
      "needs_background": "light"
     },
     "output_type": "display_data"
    }
   ],
   "source": [
    "ax = plt.axes()\n",
    "ax.set_xscale(\"log\")\n",
    "ax.set_yscale(\"log\")\n",
    "ax.errorbar(r, xi, fmt='r-', yerr = (1+xi)/np.sqrt(npair), label='Corrfunc')\n",
    "ax.errorbar(r_f, xi_f, fmt='c-', yerr = (1+xi_f)/np.sqrt(DD_f), label='F-corrfunc')\n",
    "ax.plot(r, xi_dd_r_theory,'b--',label='Linear theory')\n",
    "ax.set_ylabel(\"$\\\\xi_{dd}$ \")\n",
    "ax.set_xlabel(\"r$[Mpc.h^{-1}]$\")\n",
    "ax.legend()\n",
    "ax.set_xlim(1,1.5e2)\n",
    "ax.set_title('$\\\\xi_{dd}$ with logspace bins, non PBC')\n",
    "#plt.savefig('xi_dd_logspace_nonPBC.png')"
   ]
  },
  {
   "cell_type": "code",
   "execution_count": 11,
   "id": "c2072f99-8b7b-472d-b8e9-58eecab6d42e",
   "metadata": {},
   "outputs": [
    {
     "data": {
      "text/plain": [
       "Text(0.5, 1.0, '$\\\\xi_{dd}$ logspace bins, non PBC')"
      ]
     },
     "execution_count": 11,
     "metadata": {},
     "output_type": "execute_result"
    },
    {
     "data": {
      "image/png": "[encoded data removed]",
      "text/plain": [
       "<Figure size 432x288 with 1 Axes>"
      ]
     },
     "metadata": {
      "needs_background": "light"
     },
     "output_type": "display_data"
    }
   ],
   "source": [
    "ax = plt.axes()\n",
    "#ax.set_xscale(\"log\")\n",
    "#ax.set_yscale(\"log\")\n",
    "#ax.errorbar(r, xi*r**2, fmt='r-', yerr = (1+xi)/np.sqrt(npair), label='Corrfunc')\n",
    "#ax.errorbar(r_f, xi_f, fmt='c-', yerr = (1+xi_f)/np.sqrt(DD_f), label='F-corrfunc')\n",
    "ax.plot(r, xi_dd_r_theory*r**2,'b-',label='Linear theory')\n",
    "ax.set_ylabel(\"$\\\\xi_{dd}.r^2$ \")\n",
    "ax.set_xlabel(\"r$[Mpc.h^{-1}]$\")\n",
    "ax.legend()\n",
    "ax.set_xlim(20,200)\n",
    "ax.set_ylim(-100,3e2)\n",
    "ax.set_title('$\\\\xi_{dd}$ logspace bins, non PBC')\n",
    "#plt.savefig('xi_dd_logspace_nonPBC.png')"
   ]
  },
  {
   "cell_type": "code",
   "execution_count": 12,
   "id": "e45edf73-0d32-4208-8b31-83e40445194b",
   "metadata": {},
   "outputs": [
    {
     "data": {
      "image/png": "[encoded data removed]",
      "text/plain": [
       "<Figure size 432x288 with 1 Axes>"
      ]
     },
     "metadata": {
      "needs_background": "light"
     },
     "output_type": "display_data"
    }
   ],
   "source": [
    "ax = plt.axes()\n",
    "yy = np.full_like(r,1)\n",
    "#ax.set_xscale(\"log\")\n",
    "#ax.set_yscale(\"log\")\n",
    "ax.plot(r,yy,'-')\n",
    "#ax.plot(r, xi/xi_dd_r_theory, 'b*', label='Corrfunc(11)/Linear')\n",
    "ax.plot(r, xi/xi_f, 'y.', label='Corrfunc(11)/F-corrfunc(11)')\n",
    "#ax.plot(r_f, xi_f/xi_dd_r_theory, 'r--', label='F-corrfunc(11)/Linear')\n",
    "ax.set_ylabel(\"$\\\\xi_{dd}$ \")\n",
    "ax.set_xlabel(\"r$[Mpc.h^{-1}]$\")\n",
    "ax.legend()\n",
    "ax.set_xlim(1,2e2)\n",
    "ax.set_ylim(0.9,1.1)\n",
    "ax.set_title('$\\\\xi_{dd}$ with logspace bins, non PBC')\n",
    "plt.savefig('xi_dd_logspace_nonPBC-compare11.png')"
   ]
  },
  {
   "cell_type": "code",
   "execution_count": 13,
   "id": "e95aad54-c21a-4d54-8c9e-21de220eeef7",
   "metadata": {},
   "outputs": [],
   "source": [
    "#load my F-corrfunc results for non PBC, data file 12\n",
    "xi_f = np.loadtxt(path+'/my-f-code/results/xi-nonPBC-logspace12.txt', usecols = (3))\n",
    "r_f = np.loadtxt(path+'/my-f-code/results/xi-nonPBC-logspace12.txt', usecols = (2))\n",
    "RR_f = np.loadtxt(path+'/my-f-code/results/xi-nonPBC-logspace12.txt', usecols = (1))"
   ]
  },
  {
   "cell_type": "code",
   "execution_count": 14,
   "id": "db5fba57-8f82-4775-adc1-34f1c72dda2d",
   "metadata": {},
   "outputs": [],
   "source": [
    "\n",
    "#load positions of halos\n",
    "X = np.loadtxt(path+'/catalogs/12/gals/2gpc/R112_S014_clu_d.cat', usecols = (1))\n",
    "Y = np.loadtxt(path+'/catalogs/12/gals/2gpc/R112_S014_clu_d.cat', usecols = (2))\n",
    "Z = np.loadtxt(path+'/catalogs/12/gals/2gpc/R112_S014_clu_d.cat', usecols = (3))\n",
    "    \n",
    "weights = np.full_like(X,1)\n",
    "#calculate data-data pairs\n",
    "results_DD = DD(autocorr,\n",
    "                nthreads,\n",
    "                bins,\n",
    "                X, Y, Z,\n",
    "                weights1 = weights,\n",
    "                boxsize=boxsize,\n",
    "                weight_type = 'pair_product',\n",
    "                output_ravg=True,\n",
    "                periodic=False) "
   ]
  },
  {
   "cell_type": "code",
   "execution_count": 15,
   "id": "db62dd2f-d5a8-4125-a7d2-9e6e1621d398",
   "metadata": {},
   "outputs": [],
   "source": [
    "npair  = results_DD['npairs']\n",
    "weight = results_DD['weightavg']\n",
    "xi  = npair*weight/RR_f  - 1\n",
    "r   = results_DD['ravg']"
   ]
  },
  {
   "cell_type": "code",
   "execution_count": 16,
   "id": "de203e40-7427-4fa8-90e0-cdebe943186b",
   "metadata": {},
   "outputs": [
    {
     "data": {
      "image/png": "[encoded data removed]",
      "text/plain": [
       "<Figure size 432x288 with 1 Axes>"
      ]
     },
     "metadata": {
      "needs_background": "light"
     },
     "output_type": "display_data"
    }
   ],
   "source": [
    "ax = plt.axes()\n",
    "#yy = np.full_like(r,1)\n",
    "ax.set_xscale(\"log\")\n",
    "ax.set_yscale(\"log\")\n",
    "#ax.plot(r,yy,'-')\n",
    "ax.errorbar(r, xi, fmt='r.', yerr = (1+xi)/np.sqrt(npair), label='Corrfunc')\n",
    "ax.errorbar(r_f, xi_f, fmt='c.', yerr = (1+xi_f)/np.sqrt(DD_f), label='F-corrfunc')\n",
    "ax.plot(r, xi_dd_r_theory,'b--',label='Linear theory')\n",
    "ax.set_ylabel(\"$\\\\xi_{dd}$ \")\n",
    "ax.set_xlabel(\"r$[Mpc.h^{-1}]$\")\n",
    "ax.legend()\n",
    "ax.set_xlim(1,1.8e2)\n",
    "ax.set_ylim(1e-4,18)\n",
    "ax.set_title('$\\\\xi_{dd}$ with logspace bins, non PBC')\n",
    "plt.savefig('xi_dd_logspace12.png')"
   ]
  },
  {
   "cell_type": "code",
   "execution_count": 17,
   "id": "21ac5df8-3ffe-408a-9948-d859b83da5bc",
   "metadata": {},
   "outputs": [],
   "source": [
    "#load my F-corrfunc results for non PBC, data file 14\n",
    "xi_f = np.loadtxt(path+'/my-f-code/results/xi-nonPBC-logspace14.txt', usecols = (3))\n",
    "r_f = np.loadtxt(path+'/my-f-code/results/xi-nonPBC-logspace14.txt', usecols = (2))\n",
    "RR_f = np.loadtxt(path+'/my-f-code/results/xi-nonPBC-logspace14.txt', usecols = (1))"
   ]
  },
  {
   "cell_type": "code",
   "execution_count": 18,
   "id": "e00b4d31-820d-4fc6-98f7-9cbb4f81413f",
   "metadata": {},
   "outputs": [],
   "source": [
    "\n",
    "#load positions of halos\n",
    "X = np.loadtxt(path+'/catalogs/14/gals/2gpc/R114_S014_clu_d.cat', usecols = (1))\n",
    "Y = np.loadtxt(path+'/catalogs/14/gals/2gpc/R114_S014_clu_d.cat', usecols = (2))\n",
    "Z = np.loadtxt(path+'/catalogs/14/gals/2gpc/R114_S014_clu_d.cat', usecols = (3))\n",
    "    \n",
    "weights = np.full_like(X,1)\n",
    "#calculate data-data pairs\n",
    "results_DD = DD(autocorr,\n",
    "                nthreads,\n",
    "                bins,\n",
    "                X, Y, Z,\n",
    "                weights1    = weights,\n",
    "                boxsize     = boxsize,\n",
    "                weight_type = 'pair_product',\n",
    "                output_ravg = True,\n",
    "                periodic    = False) "
   ]
  },
  {
   "cell_type": "code",
   "execution_count": 19,
   "id": "143e65f9-4f25-47df-b338-1f1bd5448a30",
   "metadata": {},
   "outputs": [],
   "source": [
    "npair  = results_DD['npairs']\n",
    "weight = results_DD['weightavg']\n",
    "xi_nonPBC  = npair*weight/RR_f  - 1\n",
    "r_nonPBC   = results_DD['ravg']"
   ]
  },
  {
   "cell_type": "code",
   "execution_count": 20,
   "id": "622b75bc-5267-419a-9bb8-ccd810e37958",
   "metadata": {},
   "outputs": [
    {
     "data": {
      "text/plain": [
       "Text(0.5, 1.0, '$\\\\xi_{dd}$ with logspace bins, non PBC')"
      ]
     },
     "execution_count": 20,
     "metadata": {},
     "output_type": "execute_result"
    },
    {
     "data": {
      "image/png": "[encoded data removed]",
      "text/plain": [
       "<Figure size 432x288 with 1 Axes>"
      ]
     },
     "metadata": {
      "needs_background": "light"
     },
     "output_type": "display_data"
    }
   ],
   "source": [
    "ax = plt.axes()\n",
    "yy = np.full_like(r,1)\n",
    "ax.plot(r,yy,'-')\n",
    "ax.errorbar(r, xi/xi_dd_r_theory, fmt='r.', yerr = (1+xi)/np.sqrt(npair)/xi_dd_r_theory, label='Corrfunc')\n",
    "ax.errorbar(r_f, xi_f/xi_dd_r_theory, fmt='c.', yerr = (1+xi_f)/np.sqrt(DD_f)/xi_dd_r_theory, label='F-corrfunc')\n",
    "ax.set_ylabel(\"$\\\\xi_{dd}$ \")\n",
    "ax.set_xlabel(\"r$[Mpc.h^{-1}]$\")\n",
    "ax.legend()\n",
    "ax.set_xlim(1,2e2)\n",
    "ax.set_ylim(-1,5)\n",
    "ax.set_title('$\\\\xi_{dd}$ with logspace bins, non PBC')\n",
    "#plt.savefig('xi_dd_logspace_nonPBC-compare14.png')"
   ]
  },
  {
   "cell_type": "markdown",
   "id": "a5bab3bd-49ce-4107-a68f-ea57b53ba4ff",
   "metadata": {},
   "source": [
    "The 2nd simulation case: linear-space bins and non PBC\n",
    "\n",
    "Adopt the random pair count from F-corrfunc to use for Corrfunc too.\n",
    "\n",
    "The time measured here just the time for calculate DD pair count and $\\xi$"
   ]
  },
  {
   "cell_type": "markdown",
   "id": "fbe8b2a4-496b-4c22-8aa0-a09b3011bd4e",
   "metadata": {},
   "source": [
    "Load my F-corrfunc results for non PBC, linearspace bins\n",
    "\n",
    "Total duration time:  168.12684200000001       seconds.\n",
    "\n",
    "Time for calculate only DD pair count: 79.143191000000002      seconds"
   ]
  },
  {
   "cell_type": "code",
   "execution_count": null,
   "id": "96b28e85-5f4c-44a9-a706-435138d03bee",
   "metadata": {},
   "outputs": [],
   "source": [
    "#load my F-corrfunc results for linear-space bins\n",
    "xi_f = np.loadtxt(path+'/my-f-code/results/xi-nonPBC-linearspace.txt', usecols = (3))\n",
    "r_f = np.loadtxt(path+'/my-f-code/results/xi-nonPBC-linearspace.txt', usecols = (2))\n",
    "RR_f = np.loadtxt(path+'/my-f-code/results/xi-nonPBC-linearspace.txt', usecols = (1))\n",
    "print(r_f)\n",
    "print(xi_f)"
   ]
  },
  {
   "cell_type": "code",
   "execution_count": null,
   "id": "e05f41a4-e0f3-4446-ab64-d5ae342ff75f",
   "metadata": {},
   "outputs": [],
   "source": [
    "#for linear space bins\n",
    "bins     = np.linspace(r_min, r_max, nbins + 1)\n",
    "\n",
    "start_time3 = datetime.now()\n",
    "\n",
    "#load positions of objects\n",
    "X = np.loadtxt(path+'/catalogs/11/gals/2gpc/R111_S014_clu_d.cat', usecols = (1))\n",
    "Y = np.loadtxt(path+'/catalogs/11/gals/2gpc/R111_S014_clu_d.cat', usecols = (2))\n",
    "Z = np.loadtxt(path+'/catalogs/11/gals/2gpc/R111_S014_clu_d.cat', usecols = (3))\n",
    "    \n",
    "weights = np.full_like(X,1)\n",
    "#calculate data-data pairs\n",
    "results_DD = DD(autocorr,\n",
    "                nthreads,\n",
    "                bins,\n",
    "                X, Y, Z,\n",
    "                weights1 = weights,\n",
    "                boxsize=boxsize,\n",
    "                weight_type = 'pair_product',\n",
    "                output_ravg=True,\n",
    "                periodic=False) \n",
    "\n",
    "#calculate random-random pairs in PBC case\n",
    "N_halo = len(X)\n",
    "\n",
    "npair  = results_DD['npairs']\n",
    "weight = results_DD['weightavg']\n",
    "xi  = npair*weight/RR_f - 1\n",
    "r   = results_DD['ravg']\n",
    "\n",
    "end_time3 = datetime.now()\n",
    "print('Duration: {}'.format(end_time3 - start_time3))"
   ]
  },
  {
   "cell_type": "code",
   "execution_count": null,
   "id": "1bd391ef-47f2-48d9-83ee-691ff6bb7cfd",
   "metadata": {},
   "outputs": [],
   "source": [
    "ax = plt.axes()\n",
    "ax.set_xscale(\"log\")\n",
    "ax.set_yscale(\"log\")\n",
    "ax.plot(r, xi, 'b-', label='Corrfunc')\n",
    "ax.plot(r, xi_dd_r_theory,'b--',label='Linear theory')\n",
    "ax.plot(r_f, xi_f,'r.',label='F-corrfunc')\n",
    "ax.set_ylabel(\"$\\\\xi_{dd}$ \")\n",
    "ax.set_xlabel(\"r$[Mpc.h^{-1}]$\")\n",
    "ax.legend()\n",
    "ax.set_xlim(1,2e2)\n",
    "ax.set_title('$\\\\xi_{dd}$  with linear-space bins, non PBC')\n",
    "plt.savefig('xi_dd_linspace_nonPBC.png')"
   ]
  },
  {
   "cell_type": "markdown",
   "id": "e2dacf95-6ded-4f0e-8f9d-01b53602798b",
   "metadata": {},
   "source": [
    "PBC CASE"
   ]
  },
  {
   "cell_type": "code",
   "execution_count": 4,
   "id": "d4c4ed01-893e-488c-a83a-152b984b85a1",
   "metadata": {},
   "outputs": [],
   "source": [
    "bins = np.logspace(np.log10(r_min), np.log10(r_max), nbins + 1)\n",
    "\n",
    "#load positions of halos\n",
    "X = np.loadtxt(path+'/catalogs/14/gals/2gpc/R114_S014_clu_d.cat', usecols = (1))\n",
    "Y = np.loadtxt(path+'/catalogs/14/gals/2gpc/R114_S014_clu_d.cat', usecols = (2))\n",
    "Z = np.loadtxt(path+'/catalogs/14/gals/2gpc/R114_S014_clu_d.cat', usecols = (3))\n",
    "    \n",
    "weights = np.full_like(X,1)\n",
    "#calculate data-data pairs\n",
    "results_DD = DD(autocorr,\n",
    "                nthreads,\n",
    "                bins,\n",
    "                X, Y, Z,\n",
    "                weights1    = weights,\n",
    "                boxsize     = boxsize,\n",
    "                weight_type = 'pair_product',\n",
    "                output_ravg = True,\n",
    "                periodic    = True) \n",
    "\n",
    "#calculate random-random pairs in PBC case\n",
    "N_halo = len(X)\n",
    "\n",
    "RR   = (4./3.*np.pi*(bins[1::]**3 - bins[0:-1:]**3))*N_halo*(N_halo-1)/boxsize**3\n",
    " \n",
    "npair  = results_DD['npairs']\n",
    "weight = results_DD['weightavg']\n",
    "xi  = npair*weight/RR - 1\n",
    "r   = results_DD['ravg']\n"
   ]
  },
  {
   "cell_type": "code",
   "execution_count": 35,
   "id": "331d25d5-cec0-48f6-a71b-b3bba2baedb4",
   "metadata": {},
   "outputs": [],
   "source": [
    "xi_f = np.loadtxt(path+'/my-f-code/results/xi-PBC-test.txt', usecols = (3))\n",
    "r_f = np.loadtxt(path+'/my-f-code/results/xi-PBC-test.txt', usecols = (2))\n",
    "xi_f_nonPBC = np.loadtxt(path+'/my-f-code/results/xi-nonPBC2.txt', usecols = (3))\n",
    "r_f_nonPBC  = np.loadtxt(path+'/my-f-code/results/xi-nonPBC2.txt', usecols = (2))"
   ]
  },
  {
   "cell_type": "code",
   "execution_count": 6,
   "id": "3098a062-1a03-4a23-930c-1d07a21b778e",
   "metadata": {},
   "outputs": [],
   "source": [
    "# Linear theory\n",
    "b = 3.11\n",
    "k   = np.loadtxt(path+'/results/power_spectrum.txt', usecols = (0))\n",
    "P   = np.loadtxt(path+'/results/power_spectrum.txt', usecols = (1))\n",
    "P_k = spline(k, P)\n",
    "h0  = HankelTransform(nu=1/2, N = 2000, h = 1e-3)\n",
    "\n",
    "# xi density in real space\n",
    "f_0 = lambda k: P_k(k)*k**(1/2)/(np.pi*2)**(3/2)\n",
    "xi_dd_r_theory = 1/np.sqrt(r_f)*h0.transform(f_0,r_f, ret_err=False, inverse=True)*b**2"
   ]
  },
  {
   "cell_type": "code",
   "execution_count": 36,
   "id": "076d73b0-7261-45bb-b7b5-44f74a9e438a",
   "metadata": {},
   "outputs": [
    {
     "data": {
      "text/plain": [
       "Text(0.5, 1.0, '$\\\\xi_{dd}$ in real space, PBC')"
      ]
     },
     "execution_count": 36,
     "metadata": {},
     "output_type": "execute_result"
    },
    {
     "data": {
      "image/png": "[encoded data removed]",
      "text/plain": [
       "<Figure size 432x288 with 1 Axes>"
      ]
     },
     "metadata": {
      "needs_background": "light"
     },
     "output_type": "display_data"
    }
   ],
   "source": [
    "ax = plt.axes()\n",
    "ax.set_xscale(\"log\")\n",
    "ax.set_yscale(\"log\")\n",
    "ax.plot(r, xi, 'b-', label='Corrfunc')\n",
    "ax.plot(r_nonPBC, xi_nonPBC, 'g.-', label='Corrfunc nonPBC')\n",
    "ax.plot(r_f, xi_dd_r_theory,'b--',label='Linear theory')\n",
    "ax.plot(r_f_nonPBC, xi_f_nonPBC,'r*',label='F-corrfunc nonPBC')\n",
    "ax.plot(r_f, xi_f,'c*',label='F-corrfunc')\n",
    "ax.set_ylabel(\"$\\\\xi_{dd}$ \")\n",
    "ax.set_xlabel(\"r$[Mpc.h^{-1}]$\")\n",
    "ax.legend()\n",
    "ax.set_ylim(1e-4,1e2)\n",
    "ax.set_xlim(1,)\n",
    "ax.set_title('$\\\\xi_{dd}$ in real space, PBC')\n"
   ]
  },
  {
   "cell_type": "code",
   "execution_count": null,
   "id": "1627011e-ebf9-4c43-974e-403f8e697e2b",
   "metadata": {},
   "outputs": [],
   "source": []
  }
 ],
 "metadata": {
  "kernelspec": {
   "display_name": "Python 3",
   "language": "python",
   "name": "python3"
  },
  "language_info": {
   "codemirror_mode": {
    "name": "ipython",
    "version": 3
   },
   "file_extension": ".py",
   "mimetype": "text/x-python",
   "name": "python",
   "nbconvert_exporter": "python",
   "pygments_lexer": "ipython3",
   "version": "3.8.8"
  }
 },
 "nbformat": 4,
 "nbformat_minor": 5
}
