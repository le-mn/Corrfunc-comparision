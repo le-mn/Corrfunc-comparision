{
 "cells": [
  {
   "cell_type": "markdown",
   "id": "3126fdff-421a-454e-aa8c-ef2ef3a74332",
   "metadata": {},
   "source": [
    "Comparison between Corrfunc, F-corrfunc and Linear theory results \n",
    "for the density auto-correlation function in realspace\n",
    "testing for the case of PBC"
   ]
  },
  {
   "cell_type": "code",
   "execution_count": 1,
   "id": "1ab3eccd-9b6b-4e64-835f-9de2c05e9709",
   "metadata": {},
   "outputs": [],
   "source": [
    "from __future__ import print_function\n",
    "import numpy as np\n",
    "import matplotlib.pyplot as plt\n",
    "from Corrfunc.theory.DD import DD\n",
    "from hankel import HankelTransform\n",
    "from datetime import datetime\n",
    "from scipy.interpolate import InterpolatedUnivariateSpline as spline \n",
    "path = '/Users/ngoc/Desktop/Master-study/project'"
   ]
  },
  {
   "cell_type": "code",
   "execution_count": 2,
   "id": "719c8922-904e-40fd-a79c-446cbb4ccb18",
   "metadata": {},
   "outputs": [],
   "source": [
    "#cosmological parameters\n",
    "z        = 0.306\n",
    "Omg_lamb = 0.685\n",
    "Omg_m    = 1 - Omg_lamb\n",
    "a        = 1/(1 + z)\n",
    "E_a      = np.sqrt(Omg_m*(1+z)**3 + Omg_lamb)"
   ]
  },
  {
   "cell_type": "code",
   "execution_count": 3,
   "id": "dbb884dd-d101-48fa-8eeb-f75137ff27bc",
   "metadata": {},
   "outputs": [],
   "source": [
    "#simulation parameter\n",
    "boxsize  = 2000            # [Mpc/h]\n",
    "nthreads = 4               # The number of OpenMP threads to use\n",
    "autocorr = 1               # 1 for auto-correlation, 0 for cross-correlation\n",
    "nbins    = 50              # number of bins\n",
    "r_min    = 1               # [Mpc/h]\n",
    "r_max    = boxsize/3       # [Mpc/h]\n",
    "bins     = np.logspace(np.log10(r_min), np.log10(r_max), nbins + 1)\n"
   ]
  },
  {
   "cell_type": "code",
   "execution_count": 4,
   "id": "d4c4ed01-893e-488c-a83a-152b984b85a1",
   "metadata": {},
   "outputs": [],
   "source": [
    "#load positions of objects\n",
    "X = np.loadtxt(path+'/catalogs/11/gals/2gpc/R111_S014_clu_d.cat', usecols = (1))\n",
    "Y = np.loadtxt(path+'/catalogs/11/gals/2gpc/R111_S014_clu_d.cat', usecols = (2))\n",
    "Z = np.loadtxt(path+'/catalogs/11/gals/2gpc/R111_S014_clu_d.cat', usecols = (3))\n",
    "\n",
    "weights = np.full_like(X,1)\n",
    "\n",
    "#calculate data-data pairs\n",
    "results_DD = DD(autocorr,\n",
    "                nthreads,\n",
    "                bins,\n",
    "                X, Y, Z,\n",
    "                weights1    = weights,\n",
    "                boxsize     = boxsize,\n",
    "                weight_type = 'pair_product',\n",
    "                output_ravg = True,\n",
    "                periodic    = True) \n",
    "\n",
    "#calculate random-random pairs in PBC case\n",
    "N_halo = len(X)\n",
    "\n",
    "#random-random pairs in the case of PBC\n",
    "RR  = (4./3.*np.pi*(bins[1::]**3 - bins[0:-1:]**3))*N_halo*(N_halo-1)/boxsize**3\n",
    " \n",
    "xi  = results_DD['npairs']*results_DD['weightavg']/RR - 1\n",
    "r   = results_DD['ravg']\n"
   ]
  },
  {
   "cell_type": "code",
   "execution_count": 15,
   "id": "3098a062-1a03-4a23-930c-1d07a21b778e",
   "metadata": {},
   "outputs": [],
   "source": [
    "# Linear theory\n",
    "b   = 3.11\n",
    "k   = np.loadtxt(path+'/results/power_spectrum.txt', usecols = (0))\n",
    "P   = np.loadtxt(path+'/results/power_spectrum.txt', usecols = (1))\n",
    "P_k = spline(k, P)\n",
    "h0  = HankelTransform(nu=1/2, N = 2000, h = 1e-3)\n",
    "\n",
    "# xi density in real space\n",
    "f_0 = lambda k: P_k(k)*k**(1/2)/(np.pi*2)**(3/2)\n",
    "\n",
    "xi_theory = 1/np.sqrt(r_f)*h0.transform(f_0,r_f, ret_err=False, inverse=True)*b**2"
   ]
  },
  {
   "cell_type": "code",
   "execution_count": 17,
   "id": "331d25d5-cec0-48f6-a71b-b3bba2baedb4",
   "metadata": {},
   "outputs": [],
   "source": [
    "# load result of F-corrfunc for PBC case\n",
    "\n",
    "xi_f = np.loadtxt(path+'/my-f-code/results/xi-PBC-test3.txt', usecols = (0))\n",
    "r_f  = np.loadtxt(path+'/my-f-code/results/xi-PBC-test3.txt', usecols = (1))\n",
    "\n",
    "xi_f = xi_f/RR-1"
   ]
  },
  {
   "cell_type": "code",
   "execution_count": 18,
   "id": "076d73b0-7261-45bb-b7b5-44f74a9e438a",
   "metadata": {},
   "outputs": [
    {
     "data": {
      "text/plain": [
       "Text(0.5, 1.0, '$\\\\xi_{dd}$ in real space')"
      ]
     },
     "execution_count": 18,
     "metadata": {},
     "output_type": "execute_result"
    },
    {
     "data": {
      "image/png": "[encoded data removed]",
      "text/plain": [
       "<Figure size 432x288 with 1 Axes>"
      ]
     },
     "metadata": {
      "needs_background": "light"
     },
     "output_type": "display_data"
    }
   ],
   "source": [
    "ax = plt.axes()\n",
    "ax.set_xscale(\"log\")\n",
    "ax.set_yscale(\"log\")\n",
    "ax.plot(r,   xi,        'b-',  label='Corrfunc PBC')\n",
    "ax.plot(r_f, xi_theory, 'r--', label='Linear theory')\n",
    "ax.plot(r_f, xi_f,      'g-',  label='F-corrfunc PBC')\n",
    "ax.set_ylabel(\"$\\\\xi_{dd}$ \")\n",
    "ax.set_xlabel(\"r$[Mpc.h^{-1}]$\")\n",
    "ax.legend()\n",
    "ax.set_ylim(1e-4,1e2)\n",
    "ax.set_xlim(1,)\n",
    "ax.set_title('$\\\\xi_{dd}$ in real space')\n"
   ]
  },
  {
   "cell_type": "markdown",
   "id": "d28dc9df-1835-4379-8ec6-a6a4fefcdced",
   "metadata": {},
   "source": [
    "My result of F-corrfunc doesn't fit with the results from Corrfunc and also the Linear theory, what's wrong with it??"
   ]
  },
  {
   "cell_type": "code",
   "execution_count": null,
   "id": "54c23b9e-2420-48b6-8195-8bc6288d8ec2",
   "metadata": {},
   "outputs": [],
   "source": []
  }
 ],
 "metadata": {
  "kernelspec": {
   "display_name": "Python 3",
   "language": "python",
   "name": "python3"
  },
  "language_info": {
   "codemirror_mode": {
    "name": "ipython",
    "version": 3
   },
   "file_extension": ".py",
   "mimetype": "text/x-python",
   "name": "python",
   "nbconvert_exporter": "python",
   "pygments_lexer": "ipython3",
   "version": "3.8.8"
  }
 },
 "nbformat": 4,
 "nbformat_minor": 5
}
