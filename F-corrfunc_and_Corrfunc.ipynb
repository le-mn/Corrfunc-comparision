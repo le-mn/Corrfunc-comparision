{
 "cells": [
  {
   "cell_type": "markdown",
   "id": "3126fdff-421a-454e-aa8c-ef2ef3a74332",
   "metadata": {},
   "source": [
    "Comparison between Corrfunc and F-corrfunc results \n",
    "for the density auto-correlation function (DD in Corrfunc) in realspace PBC"
   ]
  },
  {
   "cell_type": "code",
   "execution_count": 387,
   "id": "1ab3eccd-9b6b-4e64-835f-9de2c05e9709",
   "metadata": {},
   "outputs": [],
   "source": [
    "from __future__ import print_function\n",
    "import numpy as np\n",
    "import matplotlib.pyplot as plt\n",
    "from Corrfunc.theory.DD import DD\n",
    "from hankel import HankelTransform\n",
    "from datetime import datetime\n",
    "from scipy.interpolate import InterpolatedUnivariateSpline as spline \n",
    "path = '/Users/ngoc/Desktop/Master-study/project'"
   ]
  },
  {
   "cell_type": "code",
   "execution_count": 388,
   "id": "719c8922-904e-40fd-a79c-446cbb4ccb18",
   "metadata": {},
   "outputs": [],
   "source": [
    "#cosmological parameters\n",
    "z        = 0.306\n",
    "Omg_lamb = 0.685\n",
    "Omg_m    = 1 - Omg_lamb\n",
    "a        = 1/(1 + z)\n",
    "E_a      = np.sqrt(Omg_m*(1+z)**3 + Omg_lamb)"
   ]
  },
  {
   "cell_type": "code",
   "execution_count": 389,
   "id": "dbb884dd-d101-48fa-8eeb-f75137ff27bc",
   "metadata": {},
   "outputs": [],
   "source": [
    "#simulation parameter\n",
    "boxsize  = 2000          #[Mpc/h]\n",
    "nthreads = 4            #The number of OpenMP threads to use\n",
    "autocorr = 1 \n",
    "nbins    = 100             #number of bins\n",
    "r_min    = 1               #[Mpc/h]\n",
    "r_max    = boxsize/3       #[Mpc/h]\n",
    "bins     = np.logspace(np.log10(r_min), np.log10(r_max), nbins + 1)\n",
    "#bins     = np.linspace(r_min, r_max, nbins + 1)"
   ]
  },
  {
   "cell_type": "code",
   "execution_count": 390,
   "id": "1841c7c2-04b1-41cb-9155-345951c16bdd",
   "metadata": {},
   "outputs": [],
   "source": [
    "# Calculation using Corrfunc for nonPBC\n",
    "\n",
    "#load positions of halos\n",
    "\n",
    "X = np.loadtxt(path+'/catalogs/18/gals/2gpc/R118_S014_clu_d.cat', usecols = (1))\n",
    "Y = np.loadtxt(path+'/catalogs/18/gals/2gpc/R118_S014_clu_d.cat', usecols = (2))\n",
    "Z = np.loadtxt(path+'/catalogs/18/gals/2gpc/R118_S014_clu_d.cat', usecols = (3))\n",
    "    \n",
    "weights = np.full_like(X,1)"
   ]
  },
  {
   "cell_type": "code",
   "execution_count": 391,
   "id": "4b98d959-aa59-49c0-95e1-b326ae1d46f6",
   "metadata": {},
   "outputs": [
    {
     "name": "stdout",
     "output_type": "stream",
     "text": [
      "163172\n"
     ]
    }
   ],
   "source": [
    "print(len(X))"
   ]
  },
  {
   "cell_type": "code",
   "execution_count": 392,
   "id": "d81f6972-4b2e-451c-a93b-bc3e2699e929",
   "metadata": {},
   "outputs": [],
   "source": [
    "#calculate data-data pairs\n",
    "results_DD = DD(autocorr,\n",
    "                nthreads,\n",
    "                bins,\n",
    "                X, Y, Z,\n",
    "                weights1    = weights,\n",
    "                boxsize     = boxsize,\n",
    "                weight_type = 'pair_product',\n",
    "                output_ravg = True,\n",
    "                periodic    = True) \n",
    "\n",
    "#calculate random-random pairs in PBC case\n",
    "N_halo = len(X)\n",
    "\n",
    "#random-random pairs in the case of PBC\n",
    "RR   = (4./3.*np.pi*(bins[1::]**3 - bins[0:-1:]**3))*N_halo*(N_halo-1)/boxsize**3\n",
    " "
   ]
  },
  {
   "cell_type": "code",
   "execution_count": 393,
   "id": "31e94e7f-8cee-4409-a67e-e480d711e1a0",
   "metadata": {},
   "outputs": [],
   "source": [
    "DD  = results_DD['npairs']\n",
    "xi  = DD*results_DD['weightavg']/RR - 1\n",
    "r   = results_DD['ravg']"
   ]
  },
  {
   "cell_type": "code",
   "execution_count": 394,
   "id": "b01b99c4-e66a-48a5-8a84-cec535e4be46",
   "metadata": {},
   "outputs": [],
   "source": [
    "# Linear theory\n",
    "b   = 3.11\n",
    "k   = np.loadtxt(path+'/results/power_spectrum.txt', usecols = (0))\n",
    "P   = np.loadtxt(path+'/results/power_spectrum.txt', usecols = (1))\n",
    "P_k = spline(k, P)\n",
    "h0  = HankelTransform(nu=1/2, N = 3000, h = 1e-3)\n",
    "\n",
    "# xi density in real space\n",
    "f_0 = lambda k: P_k(k)*k**(1/2)/(np.pi*2)**(3/2)\n",
    "\n",
    "xi_theory = 1/np.sqrt(r)*h0.transform(f_0,r, ret_err=False, inverse=True)*b**2"
   ]
  },
  {
   "cell_type": "code",
   "execution_count": 395,
   "id": "de33c7e8-b06c-4ce4-a1ee-f3dd56697e11",
   "metadata": {},
   "outputs": [],
   "source": [
    "# load result of F-corrfunc for PBC case (dx > rmax then dx = L - dx)\n",
    "\n",
    "DD_f = np.loadtxt(path+'/my-f-code/results/xi-PBC-test5.txt', usecols = (0))\n",
    "r_f  = np.loadtxt(path+'/my-f-code/results/xi-PBC-test5.txt', usecols = (1))"
   ]
  },
  {
   "cell_type": "code",
   "execution_count": 396,
   "id": "6645a5e2-3ee3-4de6-ac7d-1ba38445e50d",
   "metadata": {},
   "outputs": [],
   "source": [
    "xi_f = DD_f/RR-1"
   ]
  },
  {
   "cell_type": "code",
   "execution_count": 397,
   "id": "076d73b0-7261-45bb-b7b5-44f74a9e438a",
   "metadata": {},
   "outputs": [
    {
     "data": {
      "text/plain": [
       "Text(0.5, 1.0, '$\\\\xi_{dd}$ in real space')"
      ]
     },
     "execution_count": 397,
     "metadata": {},
     "output_type": "execute_result"
    },
    {
     "data": {
      "image/png": "[encoded data removed]",
      "text/plain": [
       "<Figure size 432x288 with 1 Axes>"
      ]
     },
     "metadata": {
      "needs_background": "light"
     },
     "output_type": "display_data"
    }
   ],
   "source": [
    "ax = plt.axes()\n",
    "ax.set_xscale(\"log\")\n",
    "#ax.set_yscale(\"log\")\n",
    "ax.plot(r,   DD/DD_f,  'r--',  label='Corrfunc/ F')\n",
    "#ax.plot(r,   DD/DD_f2,  'b.',  label='Corrfunc/ F2')\n",
    "#ax.plot(r,   DD,  'b--',  label='Corrfunc')\n",
    "#ax.plot(r,   DD_f,  'r--',  label='F')\n",
    "ax.set_ylabel(\"$DD$ \")\n",
    "ax.set_xlabel(\"r$[Mpc.h^{-1}]$\")\n",
    "ax.legend()\n",
    "#ax.set_ylim(-10,)\n",
    "ax.set_xlim(1,)\n",
    "ax.set_title('$\\\\xi_{dd}$ in real space')\n"
   ]
  },
  {
   "cell_type": "code",
   "execution_count": 398,
   "id": "6c03ee0d-ff97-4d46-8e1c-c8bc612c5892",
   "metadata": {},
   "outputs": [
    {
     "name": "stdout",
     "output_type": "stream",
     "text": [
      "[[ 1.00000000e+00  2.33026031e+00  2.33026031e+00]\n",
      " [ 1.00000000e+00  5.02814375e+00  5.02814375e+00]\n",
      " [ 1.00000000e+00  6.21429065e+00  6.21429065e+00]\n",
      " [ 1.00000000e+00  8.27462586e+00  8.27462586e+00]\n",
      " [ 1.00000000e+00  1.42619186e+01  1.42619186e+01]\n",
      " [ 1.00000000e+00  1.98449068e+01  1.98449068e+01]\n",
      " [ 1.00000000e+00  2.64825005e+01  2.64825005e+01]\n",
      " [ 1.00000000e+00  2.63724214e+01  2.63724214e+01]\n",
      " [ 1.00000000e+00  2.68370466e+01  2.68370466e+01]\n",
      " [ 1.00000000e+00  2.91546373e+01  2.91546373e+01]\n",
      " [ 1.00000000e+00  2.57992099e+01  2.57992099e+01]\n",
      " [ 1.00000000e+00  2.54909303e+01  2.54909303e+01]\n",
      " [ 1.00000000e+00  2.70144737e+01  2.70144737e+01]\n",
      " [ 1.00000000e+00  2.21551868e+01  2.21551868e+01]\n",
      " [ 1.00000000e+00  2.12630095e+01  2.12630095e+01]\n",
      " [ 1.00000000e+00  1.87814903e+01  1.87814903e+01]\n",
      " [ 1.00000000e+00  1.88305954e+01  1.88305954e+01]\n",
      " [ 1.00000000e+00  1.57271062e+01  1.57271062e+01]\n",
      " [ 1.00000000e+00  1.43139838e+01  1.43139838e+01]\n",
      " [ 1.00000000e+00  1.32691032e+01  1.32691032e+01]\n",
      " [ 1.00000000e+00  1.15077343e+01  1.15077343e+01]\n",
      " [ 1.00000000e+00  1.11853598e+01  1.11853598e+01]\n",
      " [ 1.00000000e+00  1.02198348e+01  1.02198348e+01]\n",
      " [ 1.00000000e+00  8.93635328e+00  8.93635328e+00]\n",
      " [ 1.00000000e+00  8.65624387e+00  8.65624387e+00]\n",
      " [ 1.00000000e+00  7.21908497e+00  7.21908497e+00]\n",
      " [ 1.00000000e+00  6.58116569e+00  6.58116569e+00]\n",
      " [ 1.00000000e+00  6.26175503e+00  6.26175503e+00]\n",
      " [ 1.00000000e+00  5.41309813e+00  5.41309813e+00]\n",
      " [ 1.00000000e+00  5.01173851e+00  5.01173851e+00]\n",
      " [ 1.00000000e+00  4.70052696e+00  4.70052696e+00]\n",
      " [ 1.00000000e+00  3.99266366e+00  3.99266366e+00]\n",
      " [ 1.00000000e+00  3.62360401e+00  3.62360401e+00]\n",
      " [ 1.00000000e+00  3.19229691e+00  3.19229691e+00]\n",
      " [ 1.00000000e+00  2.76864764e+00  2.76864764e+00]\n",
      " [ 1.00000000e+00  2.50784398e+00  2.50784398e+00]\n",
      " [ 1.00000000e+00  2.15222821e+00  2.15222821e+00]\n",
      " [ 1.00000000e+00  1.95320728e+00  1.95320728e+00]\n",
      " [ 1.00000000e+00  1.73095049e+00  1.73095049e+00]\n",
      " [ 1.00000000e+00  1.51224927e+00  1.51224927e+00]\n",
      " [ 1.00000000e+00  1.28746999e+00  1.28746999e+00]\n",
      " [ 1.00000000e+00  1.15347603e+00  1.15347603e+00]\n",
      " [ 1.00000000e+00  1.00157985e+00  1.00157985e+00]\n",
      " [ 1.00000000e+00  9.09255601e-01  9.09255601e-01]\n",
      " [ 1.00000000e+00  7.97641253e-01  7.97641253e-01]\n",
      " [ 1.00000000e+00  6.89533216e-01  6.89533216e-01]\n",
      " [ 1.00000000e+00  5.86756290e-01  5.86756290e-01]\n",
      " [ 1.00000000e+00  5.19168398e-01  5.19168398e-01]\n",
      " [ 1.00000000e+00  4.42276336e-01  4.42276336e-01]\n",
      " [ 1.00000000e+00  3.81560065e-01  3.81560065e-01]\n",
      " [ 1.00000000e+00  3.39938964e-01  3.39938964e-01]\n",
      " [ 1.00000000e+00  2.84100744e-01  2.84100744e-01]\n",
      " [ 1.00000000e+00  2.40887078e-01  2.40887078e-01]\n",
      " [ 1.00000000e+00  1.99966455e-01  1.99966455e-01]\n",
      " [ 1.00000000e+00  1.75858451e-01  1.75858451e-01]\n",
      " [ 1.00000000e+00  1.51233129e-01  1.51233129e-01]\n",
      " [ 1.00000000e+00  1.19665059e-01  1.19665059e-01]\n",
      " [ 1.00000000e+00  9.93574002e-02  9.93574002e-02]\n",
      " [ 1.00000000e+00  8.49613265e-02  8.49613265e-02]\n",
      " [ 1.00000000e+00  7.06933899e-02  7.06933899e-02]\n",
      " [ 1.00000000e+00  5.73891875e-02  5.73891875e-02]\n",
      " [ 1.00000000e+00  4.69843790e-02  4.69843790e-02]\n",
      " [ 1.00000000e+00  3.99648457e-02  3.99648457e-02]\n",
      " [ 1.00000000e+00  3.36090685e-02  3.36090685e-02]\n",
      " [ 1.00000000e+00  2.56527584e-02  2.56527584e-02]\n",
      " [ 1.00000000e+00  1.58685620e-02  1.58685620e-02]\n",
      " [ 1.00000000e+00  1.32216552e-02  1.32216552e-02]\n",
      " [ 1.00000000e+00  1.05838049e-02  1.05838049e-02]\n",
      " [ 1.00000000e+00  8.32102739e-03  8.32102739e-03]\n",
      " [ 1.00000000e+00  1.11648223e-02  1.11648223e-02]\n",
      " [ 1.00000000e+00  1.23251074e-02  1.23251074e-02]\n",
      " [ 1.00000000e+00  8.90746367e-03  8.90746367e-03]\n",
      " [ 1.00000000e+00  3.03348496e-03  3.03348496e-03]\n",
      " [ 1.00000000e+00  8.44696892e-04  8.44696892e-04]\n",
      " [ 1.00000000e+00 -1.61207192e-03 -1.61207192e-03]\n",
      " [ 1.00000000e+00 -3.87047813e-03 -3.87047813e-03]\n",
      " [ 1.00000000e+00 -3.58839022e-03 -3.58839022e-03]\n",
      " [ 1.00000000e+00 -3.84470629e-03 -3.84470629e-03]\n",
      " [ 1.00000000e+00 -2.92061602e-03 -2.92061602e-03]\n",
      " [ 1.00000000e+00 -2.03455383e-03 -2.03455383e-03]\n",
      " [ 1.00000000e+00 -1.38714648e-03 -1.38714648e-03]\n",
      " [ 1.00000000e+00 -1.02445577e-03 -1.02445577e-03]\n",
      " [ 1.00000000e+00 -1.84751527e-04 -1.84751527e-04]\n",
      " [ 1.00000000e+00 -7.09564838e-04 -7.09564838e-04]\n",
      " [ 1.00000000e+00 -3.10406638e-04 -3.10406638e-04]\n",
      " [ 1.00000000e+00 -4.35273743e-04 -4.35273743e-04]\n",
      " [ 1.00000000e+00 -4.55158944e-04 -4.55158944e-04]\n",
      " [ 1.00000000e+00  1.54243961e-04  1.54243961e-04]\n",
      " [ 1.00000000e+00  2.89866798e-04  2.89866798e-04]\n",
      " [ 1.00000000e+00  2.03647985e-04  2.03647985e-04]\n",
      " [ 1.00000000e+00 -3.33291423e-04 -3.33291423e-04]\n",
      " [ 1.00000000e+00 -5.48469342e-04 -5.48469342e-04]\n",
      " [ 1.00000000e+00 -7.26350736e-04 -7.26350736e-04]\n",
      " [ 1.00000000e+00 -4.12392925e-04 -4.12392925e-04]\n",
      " [ 1.00000000e+00 -5.81681239e-04 -5.81681239e-04]\n",
      " [ 1.00000000e+00  9.87501635e-05  9.87501635e-05]\n",
      " [ 1.00000000e+00 -1.40459373e-04 -1.40459373e-04]\n",
      " [ 1.00000000e+00 -4.12050576e-04 -4.12050576e-04]\n",
      " [ 1.00000000e+00 -1.03314686e-04 -1.03314686e-04]\n",
      " [ 1.00000000e+00 -3.06236907e-04 -3.06236907e-04]]\n"
     ]
    }
   ],
   "source": [
    "print(np.c_[DD/DD_f, DD/RR-1, DD_f/RR-1])"
   ]
  },
  {
   "cell_type": "code",
   "execution_count": 399,
   "id": "b62e00eb-7674-4118-a152-3d0bca24e2ad",
   "metadata": {},
   "outputs": [
    {
     "data": {
      "text/plain": [
       "Text(0.5, 1.0, '$\\\\xi_{dd}$ in real space')"
      ]
     },
     "execution_count": 399,
     "metadata": {},
     "output_type": "execute_result"
    },
    {
     "data": {
      "image/png": "[encoded data removed]",
      "text/plain": [
       "<Figure size 432x288 with 1 Axes>"
      ]
     },
     "metadata": {
      "needs_background": "light"
     },
     "output_type": "display_data"
    }
   ],
   "source": [
    "ax = plt.axes()\n",
    "ax.set_xscale(\"log\")\n",
    "#ax.set_yscale(\"log\")\n",
    "#ax.plot(r,   DD/DD_f,  'r--',  label='Corrfunc/ F')\n",
    "ax.plot(r,   (DD/RR-1)*r**2,  'b--',  label='Corrfunc PBC')\n",
    "ax.plot(r,   xi_theory*r**2,'r-', label='Linear theory')\n",
    "ax.plot(r, (DD_f/RR-1)*r**2,'y.',  label='F-corrfunc PBC')\n",
    "#ax.plot(r, (DD_f2/RR-1)*r**2,'g--',  label='F-corrfunc 2 PBC')\n",
    "ax.set_ylabel(\"$\\\\xi_{dd}.r^2$ \")\n",
    "ax.set_xlabel(\"r$[Mpc.h^{-1}]$\")\n",
    "ax.legend()\n",
    "ax.set_ylim(-500,500)\n",
    "ax.set_xlim(10,)\n",
    "ax.set_title('$\\\\xi_{dd}$ in real space')\n",
    "#plt.savefig('why.png')"
   ]
  },
  {
   "cell_type": "code",
   "execution_count": 400,
   "id": "8077789e-70cd-4684-92bd-7c48e322f848",
   "metadata": {},
   "outputs": [
    {
     "name": "stdout",
     "output_type": "stream",
     "text": [
      "[[  1.0312699    1.        ]\n",
      " [  1.10633456   1.        ]\n",
      " [  1.17523741   1.        ]\n",
      " [  1.24813135   1.        ]\n",
      " [  1.35322528   1.        ]\n",
      " [  1.43355761   1.        ]\n",
      " [  1.52772159   1.        ]\n",
      " [  1.62747838   1.        ]\n",
      " [  1.73735884   1.        ]\n",
      " [  1.853429     1.        ]\n",
      " [  1.98079452   1.        ]\n",
      " [  2.11739927   1.        ]\n",
      " [  2.25498139   1.        ]\n",
      " [  2.40828861   1.        ]\n",
      " [  2.57258146   1.        ]\n",
      " [  2.74230926   1.        ]\n",
      " [  2.92447559   1.        ]\n",
      " [  3.12238206   1.        ]\n",
      " [  3.33182282   1.        ]\n",
      " [  3.55967583   1.        ]\n",
      " [  3.79660596   1.        ]\n",
      " [  4.04963167   1.        ]\n",
      " [  4.31840993   1.        ]\n",
      " [  4.61113995   1.        ]\n",
      " [  4.92500568   1.        ]\n",
      " [  5.25492308   1.        ]\n",
      " [  5.60643259   1.        ]\n",
      " [  5.97932748   1.        ]\n",
      " [  6.38570418   1.        ]\n",
      " [  6.81513296   1.        ]\n",
      " [  7.26991678   1.        ]\n",
      " [  7.76091766   1.        ]\n",
      " [  8.27862938   1.        ]\n",
      " [  8.83310903   1.        ]\n",
      " [  9.43501936   1.        ]\n",
      " [ 10.06520347   1.        ]\n",
      " [ 10.74248849   1.        ]\n",
      " [ 11.4641178    1.        ]\n",
      " [ 12.23656144   1.        ]\n",
      " [ 13.05814988   1.        ]\n",
      " [ 13.93603605   1.        ]\n",
      " [ 14.87341739   1.        ]\n",
      " [ 15.86938124   1.        ]\n",
      " [ 16.93521313   1.        ]\n",
      " [ 18.0728262    1.        ]\n",
      " [ 19.29041273   1.        ]\n",
      " [ 20.58311218   1.        ]\n",
      " [ 21.96294715   1.        ]\n",
      " [ 23.44615681   1.        ]\n",
      " [ 25.01930902   1.        ]\n",
      " [ 26.69697974   1.        ]\n",
      " [ 28.49667137   1.        ]\n",
      " [ 30.41428014   1.        ]\n",
      " [ 32.45115713   1.        ]\n",
      " [ 34.63345888   1.        ]\n",
      " [ 36.96255467   1.        ]\n",
      " [ 39.44408717   1.        ]\n",
      " [ 42.09426227   1.        ]\n",
      " [ 44.92424195   1.        ]\n",
      " [ 47.94470506   1.        ]\n",
      " [ 51.16912839   1.        ]\n",
      " [ 54.605318     1.        ]\n",
      " [ 58.27328768   1.        ]\n",
      " [ 62.19029136   1.        ]\n",
      " [ 66.36343309   1.        ]\n",
      " [ 70.82590521   1.        ]\n",
      " [ 75.58326244   1.        ]\n",
      " [ 80.66191835   1.        ]\n",
      " [ 86.08016716   1.        ]\n",
      " [ 91.86638963   1.        ]\n",
      " [ 98.03662388   1.        ]\n",
      " [104.6192742    1.        ]\n",
      " [111.65176658   1.        ]\n",
      " [119.15267109   1.        ]\n",
      " [127.15711445   1.        ]\n",
      " [135.70135848   1.        ]\n",
      " [144.81970551   1.        ]\n",
      " [154.55047588   1.        ]\n",
      " [164.93274812   1.        ]\n",
      " [176.01575618   1.        ]\n",
      " [187.83914913   1.        ]\n",
      " [200.45824106   1.        ]\n",
      " [213.92316486   1.        ]\n",
      " [228.29845549   1.        ]\n",
      " [243.63127001   1.        ]\n",
      " [260.00122866   1.        ]\n",
      " [277.4690716    1.        ]\n",
      " [296.11251159   1.        ]\n",
      " [316.00491225   1.        ]\n",
      " [337.23399845   1.        ]\n",
      " [359.88971589   1.        ]\n",
      " [384.07200967   1.        ]\n",
      " [409.87624176   1.        ]\n",
      " [437.41033056   1.        ]\n",
      " [466.79897847   1.        ]\n",
      " [498.15785933   1.        ]\n",
      " [531.62439414   1.        ]\n",
      " [567.34497968   1.        ]\n",
      " [605.45676353   1.        ]\n",
      " [646.1372762    1.        ]]\n"
     ]
    }
   ],
   "source": [
    "print(np.c_[r, xi/xi_f])"
   ]
  },
  {
   "cell_type": "markdown",
   "id": "b88f33e6-1283-4381-ad66-1a2f86056962",
   "metadata": {},
   "source": [
    "Why F-corrfunc goes wrong on large scales (> BAO?) "
   ]
  },
  {
   "cell_type": "markdown",
   "id": "3d7b09bf-f22b-46ac-bf84-f14826af2b89",
   "metadata": {},
   "source": [
    "xi vv auto correlation in real space"
   ]
  },
  {
   "cell_type": "code",
   "execution_count": null,
   "id": "f5f7c2ac-c6c0-4fac-9f53-98f7cdf2364d",
   "metadata": {},
   "outputs": [],
   "source": [
    "r_vv2        = np.loadtxt(path+'/my-p-code/xi_vv_realspace_quad.txt', usecols = 0)\n",
    "xi_vv2       = np.loadtxt(path+'/my-p-code/xi_vv_realspace_quad.txt', usecols = 1)"
   ]
  },
  {
   "cell_type": "code",
   "execution_count": null,
   "id": "2f6943ae-8eb7-4387-8041-2db6890a84dc",
   "metadata": {},
   "outputs": [],
   "source": []
  }
 ],
 "metadata": {
  "kernelspec": {
   "display_name": "Python 3",
   "language": "python",
   "name": "python3"
  },
  "language_info": {
   "codemirror_mode": {
    "name": "ipython",
    "version": 3
   },
   "file_extension": ".py",
   "mimetype": "text/x-python",
   "name": "python",
   "nbconvert_exporter": "python",
   "pygments_lexer": "ipython3",
   "version": "3.8.8"
  }
 },
 "nbformat": 4,
 "nbformat_minor": 5
}
