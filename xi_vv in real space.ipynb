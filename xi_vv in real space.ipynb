{
 "cells": [
  {
   "cell_type": "markdown",
   "id": "ae819846-5fca-48ad-a734-ca87dded050c",
   "metadata": {},
   "source": [
    "Code for calculating velocity auto-correlation function $\\xi_{vv,l}$\n",
    "multipole in real space, using the module DDsmu"
   ]
  },
  {
   "cell_type": "code",
   "execution_count": 9,
   "id": "ed24bc9a-a508-4135-98e8-65a9274b4cec",
   "metadata": {},
   "outputs": [],
   "source": [
    "from __future__ import print_function\n",
    "import numpy as np\n",
    "import matplotlib.pyplot as plt\n",
    "from Corrfunc.theory.DDsmu import DDsmu\n",
    "from hankel import HankelTransform\n",
    "from scipy.interpolate import InterpolatedUnivariateSpline as spline \n",
    "path ='/Users/ngoc/Desktop/Master-study/project'"
   ]
  },
  {
   "cell_type": "code",
   "execution_count": 10,
   "id": "05129d40",
   "metadata": {},
   "outputs": [],
   "source": [
    "#cosmological parameters\n",
    "z        = 0.306                   #redshift\n",
    "f        = 0.687255861             #growth rate\n",
    "Omg_lamb = 0.685                   #dark energy density parameter\n",
    "Omg_m    = 1. - Omg_lamb           #matter density parameter\n",
    "a        = 1./(1. + z)             #scale factor\n",
    "E_a      = np.sqrt(Omg_m*(1.+z)**3. + Omg_lamb) \n"
   ]
  },
  {
   "cell_type": "code",
   "execution_count": 11,
   "id": "f07bc370",
   "metadata": {},
   "outputs": [],
   "source": [
    "#simulation parameters\n",
    "boxsize  = 2000                    #length of the box [Mpc/h]\n",
    "nthreads = 4                       #number of Open MP threads to use \n",
    "autocorr = 1                       #auto correlation\n",
    "nbins    = 50                      #number of bins\n",
    "rmin     = 1.                      #minimum separation [Mpc/h]\n",
    "rmax     = boxsize/3               #maximum separation [Mpc/h]\n",
    "bins     = np.logspace(np.log10(rmin), np.log10(rmax), nbins+1)     \n",
    "mu_max   = 1                       #maximum value of cosine of the angle separated from the LOS\n",
    "nmu_bins = 10                      #number of bins of the angle separation \n",
    "delta_mu = mu_max/nmu_bins\n",
    "ndata    = 8                       #number of data sets\n",
    "set_data = \"112345678\"             #for reading data\n",
    "\n"
   ]
  },
  {
   "cell_type": "code",
   "execution_count": 12,
   "id": "2e7821b4",
   "metadata": {},
   "outputs": [],
   "source": [
    "A_0 = np.zeros((ndata,nbins))\n",
    "r   = np.zeros((ndata,nbins))\n",
    "A_2 = np.zeros((ndata,nbins))\n",
    "A_4 = np.zeros((ndata,nbins))\n",
    "\n",
    "\n",
    "#Legendre polynomials\n",
    "P0 = 1\n",
    "P2 = lambda mu: (3*mu**2-1)/2\n",
    "P4 = lambda mu: (35*mu**4 - 30*mu**2 + 3)/8 \n"
   ]
  },
  {
   "cell_type": "code",
   "execution_count": 13,
   "id": "129a059a-a061-400f-80cb-2f88cdc65465",
   "metadata": {},
   "outputs": [],
   "source": [
    "for i in range (0,ndata):\n",
    "    # load positions of objects\n",
    "    X = np.loadtxt(path+'/catalogs/'+set_data[0]+set_data[i+1]+'/gals/2gpc/R1'+set_data[0]+set_data[i+1]+'_S014_clu_d.cat', usecols = (1))\n",
    "    Y = np.loadtxt(path+'/catalogs/'+set_data[0]+set_data[i+1]+'/gals/2gpc/R1'+set_data[0]+set_data[i+1]+'_S014_clu_d.cat', usecols = (2))\n",
    "    Z = np.loadtxt(path+'/catalogs/'+set_data[0]+set_data[i+1]+'/gals/2gpc/R1'+set_data[0]+set_data[i+1]+'_S014_clu_d.cat', usecols = (3))\n",
    "\n",
    "    # load velocities of objects\n",
    "    V_z     = np.loadtxt(path+'/catalogs/'+set_data[0]+set_data[i+1]+'/gals/2gpc/R1'+set_data[0]+set_data[i+1]+'_S014_clu_d.cat', usecols = (6))\n",
    "    weights = V_z/(a*E_a*100)\n",
    "    \n",
    "    #calculate random-random pairs \n",
    "    N    = len(X)          # number of halos\n",
    "    RR   = 4./3.*np.pi*(bins[1::]**3 - bins[0:-1:]**3)*N*(N-1)/boxsize**3\n",
    "    \n",
    "    # using DDsmu to calculate pair in each mu bin\n",
    "    results_DDsmu = DDsmu(autocorr, \n",
    "                          nthreads,\n",
    "                          bins,\n",
    "                          mu_max,\n",
    "                          nmu_bins,\n",
    "                          X, Y, Z,\n",
    "                          weights1    = weights,\n",
    "                          boxsize     = boxsize,\n",
    "                          weight_type = 'pair_product',\n",
    "                          output_savg = True,\n",
    "                          periodic    = True)\n",
    "  \n",
    "    npair         = results_DDsmu['npairs']\n",
    "    weight        = results_DDsmu['weightavg']\n",
    "#    mu            = results_DDsmu['mu_max']\n",
    "    r_mu          = results_DDsmu['savg']\n",
    "    DD_r_mu       = npair*weight\n",
    "      \n",
    "    #using mu value of F code\n",
    "    mu    = np.loadtxt(path+'/my-f-code/results/xi-vv-realization'+set_data[i+1]+'.txt', usecols = (2))\n",
    "        \n",
    "    #monopole\n",
    "    DD_r= np.zeros(nbins)      \n",
    "    xi0 = np.zeros(nbins)\n",
    "    r0  = np.zeros(nbins)\n",
    "    l   = 0 \n",
    "    for ii in range(0,nbins):\n",
    "        for j in range ((ii)*nmu_bins,(ii+1)*nmu_bins):\n",
    "            xi0[ii] = xi0[ii] + DD_r_mu[j]/(RR[ii]/nmu_bins)*P0*delta_mu    \n",
    "            r0[ii]  = r0[ii]  + r_mu[j]  \n",
    "            DD_r[ii]= DD_r[ii]+ DD_r_mu[j]\n",
    "    xi0 = (2*l+1)*xi0\n",
    "    r0  = r0/nmu_bins\n",
    "    \n",
    "    A_0[i] = xi0\n",
    "    r[i]   = r0\n",
    "    \n",
    " \n",
    "    #quadrupole\n",
    "            \n",
    "    xi2 = np.zeros(nbins)\n",
    "    l   = 2\n",
    "    \n",
    "    for ii in range(0,nbins):\n",
    "        for j in range ((ii)*nmu_bins,(ii+1)*nmu_bins):\n",
    "            xi2[ii] = xi2[ii] + DD_r_mu[j]/(RR[ii]/nmu_bins)*delta_mu*P2(mu[j])\n",
    "   \n",
    "    xi2    = (2*l+1)*xi2\n",
    "    A_2[i] = xi2\n",
    "\n",
    "  \n",
    "    #hexadecapole\n",
    "        \n",
    "    xi4 = np.zeros(nbins)\n",
    "    l   = 4    \n",
    "    for ii in range(0,nbins):\n",
    "        for j in range ((ii)*nmu_bins,(ii+1)*nmu_bins):\n",
    "            xi4[ii] = xi4[ii] + DD_r_mu[j]/(RR[ii]/nmu_bins)*delta_mu*P4(mu[j])\n",
    "        \n",
    "    xi4    = (2*l+1)*xi4 \n",
    "    A_4[i] = xi4\n",
    "    \n"
   ]
  },
  {
   "cell_type": "code",
   "execution_count": 14,
   "id": "96b5ae7e",
   "metadata": {},
   "outputs": [],
   "source": [
    "#calculate the mean values and error bars\n",
    "\n",
    "#monopole\n",
    "xi_vv0 = np.zeros(nbins)\n",
    "r_simul  = np.zeros(nbins)\n",
    "\n",
    "for i in range(0,nbins):\n",
    "    r_simul[i]  = np.mean(r[0:ndata,i])\n",
    "    xi_vv0[i]   = np.mean(A_0[0:ndata,i])\n",
    "\n",
    "error_xi_vv0 = np.zeros(nbins) \n",
    "for i in range(0,nbins):\n",
    "    a = 0\n",
    "    for j in range(0,ndata):\n",
    "        a = a + (A_0[j,i] - xi_vv0[i])**2.\n",
    "#    error_xi_vv0[i] = np.sqrt(a/(ndata-1.))\n",
    "    error_xi_vv0[i] = np.sqrt(a/(ndata*(ndata-1.)))\n",
    "\n",
    "#quadrupole\n",
    "xi_vv2 = np.zeros(nbins)\n",
    "for i in range(0,nbins):\n",
    "    xi_vv2[i] = np.mean(A_2[0:ndata,i])\n",
    "\n",
    "error_xi_vv2 = np.zeros(nbins) \n",
    "for i in range(0,nbins):\n",
    "    a = 0\n",
    "    for j in range(0,ndata):\n",
    "        a = a + (A_2[j,i] - xi_vv2[i])**2.\n",
    "#    error_xi_vv2[i] = np.sqrt(a/(ndata-1.))\n",
    "    error_xi_vv2[i] = np.sqrt(a/(ndata*(ndata-1.)))"
   ]
  },
  {
   "cell_type": "raw",
   "id": "91d65613-f36c-4ad4-ba0f-9d7c6bdfd4be",
   "metadata": {},
   "source": [
    "output = np.array([r_simul, xi_vv0, error_xi_vv0])\n",
    "output1 = output.T\n",
    "np.savetxt('xi_vv_realspace_mono.txt', output1)\n",
    "\n",
    "output = np.array([r_simul, xi_vv2, error_xi_vv2])\n",
    "output1 = output.T\n",
    "np.savetxt('xi_vv_realspace_quad.txt', output1)"
   ]
  },
  {
   "cell_type": "code",
   "execution_count": 6,
   "id": "b1fa5ddd",
   "metadata": {},
   "outputs": [],
   "source": [
    "# loading matter power spectrum\n",
    "\n",
    "k   = np.loadtxt(path+'/my_results/matter_Pk.txt', usecols = (0))\n",
    "P   = np.loadtxt(path+'/my_results/matter_Pk.txt', usecols = (1))\n",
    "r   = np.loadtxt(path+'/my-p-code/xi_vv_realspace_mono.txt',usecols = (0))\n",
    "P_k = spline(k, P)\n",
    "\n",
    "Pcut = np.loadtxt(path+'/my-p-code/results/mPk_cut.txt',usecols=(1))\n",
    "P_k_cut = spline(k,Pcut)"
   ]
  },
  {
   "cell_type": "code",
   "execution_count": 7,
   "id": "ef4f10a1-4366-4d70-b775-fb4517e210e4",
   "metadata": {},
   "outputs": [],
   "source": [
    "# xi_vv monopole\n",
    "f1    = lambda kk: P_k(kk)/(kk*np.pi*2)**(3/2)\n",
    "h10000    = HankelTransform(nu=1/2, N = np.pi*1e5, h = 1e-5)\n",
    "xi_mono = 1/np.sqrt(r)*h10000.transform(f1,r, ret_err=False, inverse=True)  \n",
    "\n",
    "f1_cut    = lambda kk: P_k_cut(kk)/(kk*np.pi*2)**(3/2)\n",
    "xi_mono_cut = 1/np.sqrt(r)*h10000.transform(f1_cut,r, ret_err=False, inverse=True)  \n",
    "    \n",
    "xi_vv0_theory = f**2*xi_mono/3\n",
    "xi_vv0_cut = f**2*xi_mono_cut/3"
   ]
  },
  {
   "cell_type": "code",
   "execution_count": 11,
   "id": "560e417c-2ad5-4285-ae73-75bbf4200fd9",
   "metadata": {},
   "outputs": [
    {
     "data": {
      "text/plain": [
       "[<matplotlib.lines.Line2D at 0x7faa37531700>]"
      ]
     },
     "execution_count": 11,
     "metadata": {},
     "output_type": "execute_result"
    },
    {
     "data": {
      "image/png": "[encoded data removed]",
      "text/plain": [
       "<Figure size 432x288 with 1 Axes>"
      ]
     },
     "metadata": {
      "needs_background": "light"
     },
     "output_type": "display_data"
    }
   ],
   "source": [
    "plt.loglog(r,xi_vv0_theory,'r-')\n",
    "plt.loglog(r,xi_vv0_cut, 'g:')"
   ]
  },
  {
   "cell_type": "code",
   "execution_count": 13,
   "id": "60830b13",
   "metadata": {},
   "outputs": [],
   "source": [
    "# xi_vv quadrupole\n",
    "\n",
    "h2    = HankelTransform(nu=5/2, N = 314150, h = 1e-5)\n",
    "\n",
    "f1    = lambda kk: P_k(kk)/(kk*np.pi*2)**(3/2)\n",
    "xi_p2 = 1/np.sqrt(r)*h2.transform(f1,r, ret_err=False, inverse=True)\n",
    "xi_vv2_theory = -2/3*f**2*xi_p2\n",
    "\n",
    "\n",
    "f1_cut    = lambda kk: P_k_cut(kk)/(kk*np.pi*2)**(3/2)\n",
    "xi_p2_cut = 1/np.sqrt(r)*h2.transform(f1_cut,r, ret_err=False, inverse=True)\n",
    "xi_vv2_cut = -2/3*f**2*xi_p2_cut\n",
    "\n"
   ]
  },
  {
   "cell_type": "code",
   "execution_count": 17,
   "id": "310dcf05-79b4-4ac7-b023-e2913f8c05c3",
   "metadata": {},
   "outputs": [
    {
     "data": {
      "text/plain": [
       "[<matplotlib.lines.Line2D at 0x7faa26dcb730>]"
      ]
     },
     "execution_count": 17,
     "metadata": {},
     "output_type": "execute_result"
    },
    {
     "data": {
      "image/png": "[encoded data removed]",
      "text/plain": [
       "<Figure size 432x288 with 1 Axes>"
      ]
     },
     "metadata": {
      "needs_background": "light"
     },
     "output_type": "display_data"
    }
   ],
   "source": [
    "plt.loglog(r,-xi_vv2_cut*r**2,'g:')\n",
    "plt.plot(r,-xi_vv2_theory*r**2,'r-')"
   ]
  },
  {
   "cell_type": "raw",
   "id": "928760f9-7907-4880-b400-c63bec082582",
   "metadata": {},
   "source": [
    "output = np.array([r, xi_vv0_theory, xi_vv2_theory])\n",
    "output1 = output.T\n",
    "np.savetxt(path+'/my-p-code/results/xi_vv_realspace_theory.txt', output1)\n"
   ]
  },
  {
   "cell_type": "raw",
   "id": "4d2cdecb-b9ee-4509-8f67-051f8e1c42fd",
   "metadata": {},
   "source": [
    "output = np.array([r, xi_vv0_cut, xi_vv2_cut])\n",
    "output1 = output.T\n",
    "np.savetxt(path+'/my-p-code/results/xi_vv_realspace_theory_cut.txt', output1)\n"
   ]
  },
  {
   "cell_type": "code",
   "execution_count": 47,
   "id": "33f2fb99-9f9f-46bd-8b6a-efd7a82eaaa5",
   "metadata": {},
   "outputs": [
    {
     "data": {
      "text/plain": [
       "(0.0, 2.0)"
      ]
     },
     "execution_count": 47,
     "metadata": {},
     "output_type": "execute_result"
    },
    {
     "data": {
      "image/png": "[encoded data removed]",
      "text/plain": [
       "<Figure size 432x288 with 1 Axes>"
      ]
     },
     "metadata": {
      "needs_background": "light"
     },
     "output_type": "display_data"
    }
   ],
   "source": [
    "#ratio between simulation and linear theory results \n",
    "y = np.full_like(r_simul,1)\n",
    "ax = plt.axes()\n",
    "ax.set_xscale(\"log\")\n",
    "#ax.set_yscale(\"log\")\n",
    "ax.plot(r_simul,y)\n",
    "ax.errorbar(r_simul,  xi_vv0/xi_vv0_theory, fmt = 'r.', yerr = error_xi_vv0*np.sqrt(8)/xi_vv0_theory, label ='$\\\\xi_{vv,0}$')\n",
    "#ax.errorbar(r_simul,  xi_vv0/xi_vv0_theory, fmt = 'c.', yerr = (1+xi_vv0)/np.sqrt(DD_r)/xi_vv0_theory, label =' $\\\\xi_{vv,0}/\\\\xi_{vv,0 (Linear)}$ Poisson error')\n",
    "ax.set_ylabel(\"$\\\\xi_{vv,l}/\\\\xi_{vv,l (theory)}$\")\n",
    "ax.set_xlabel(\"r[Mpc$.h^{-1}$]\")\n",
    "ax.set_title('The ratio between simulation and theory results of monopole velocity autocorrelation function in real space')\n",
    "ax.legend()\n",
    "ax.set_xlim(1,)\n",
    "ax.set_ylim(0,2)\n",
    "#plt.savefig('xi-vv0-Poisson-err.png')"
   ]
  },
  {
   "cell_type": "code",
   "execution_count": 44,
   "id": "05f4746e",
   "metadata": {},
   "outputs": [
    {
     "name": "stderr",
     "output_type": "stream",
     "text": [
      "<ipython-input-44-47b85a9b6a54>:14: UserWarning: Attempted to set non-positive bottom ylim on a log-scaled axis.\n",
      "Invalid limit will be ignored.\n",
      "  ax.set_ylim(-1,200)\n"
     ]
    },
    {
     "data": {
      "image/png": "[encoded data removed]",
      "text/plain": [
       "<Figure size 432x288 with 1 Axes>"
      ]
     },
     "metadata": {
      "needs_background": "light"
     },
     "output_type": "display_data"
    }
   ],
   "source": [
    "ax = plt.axes()\n",
    "ax.set_xscale(\"log\")\n",
    "ax.set_yscale(\"log\")\n",
    "#for i in range(0,ndata):\n",
    "#    ax.plot(r_simul,-A_2[i],':')\n",
    "ax.errorbar(r_simul, -xi_vv2, fmt = 'b.', yerr = error_xi_vv2, label ='$-\\\\xi_{vv,2}$ simulation')\n",
    "#ax.errorbar(r_simul, -xi_vv2, fmt = 'y.', yerr = (1+xi_vv2)/np.sqrt(DD_r), label ='$-\\\\xi_{vv,2}$ simulation Poisson error')\n",
    "ax.plot(r_theory, -xi_vv2_theory, 'b-', label ='$-\\\\xi_{vv,2}$ theory')\n",
    "ax.set_ylabel(\"$\\\\xi_{vv,l}$\")\n",
    "ax.set_xlabel(\"r[Mpc$.h^{-1}$]\")\n",
    "ax.set_title('The quarupole velocity autocorrelation function in real space')\n",
    "ax.legend()\n",
    "ax.set_xlim(1,)\n",
    "ax.set_ylim(-1,200)\n",
    "plt.savefig('xi_vv2.png')"
   ]
  },
  {
   "cell_type": "code",
   "execution_count": 49,
   "id": "e7fe20ad-cec0-4b62-87f1-6d908aad2b76",
   "metadata": {},
   "outputs": [
    {
     "data": {
      "text/plain": [
       "(0.5, 1.5)"
      ]
     },
     "execution_count": 49,
     "metadata": {},
     "output_type": "execute_result"
    },
    {
     "data": {
      "image/png": "[encoded data removed]",
      "text/plain": [
       "<Figure size 432x288 with 1 Axes>"
      ]
     },
     "metadata": {
      "needs_background": "light"
     },
     "output_type": "display_data"
    }
   ],
   "source": [
    "#ratio between simulation and linear theory results \n",
    "y = np.full_like(r_simul,1)\n",
    "ax = plt.axes()\n",
    "ax.set_xscale(\"log\")\n",
    "#ax.set_yscale(\"log\")\n",
    "ax.plot(r_simul,y)\n",
    "ax.errorbar(r_simul,  xi_vv2/xi_vv2_theory, fmt = 'b.', yerr = error_xi_vv2/xi_vv2_theory,label='$\\\\xi_{vv,2}$')\n",
    "#ax.errorbar(r_simul,  xi_vv2/xi_vv2_theory, fmt = 'y.', yerr = (1+xi_vv2)/np.sqrt(DD_r)/xi_vv2_theory, label ='$\\\\xi_{vv,2}\\\\xi_{vv,2(Linear)}$ Poisson error')\n",
    "ax.set_ylabel(\"$\\\\xi_{vv,l}/\\\\xi_{vv,l (theory)}$\")\n",
    "ax.set_xlabel(\"r[Mpc$.h^{-1}$]\")\n",
    "ax.set_title('The ratio between simulation and theory results of quadrupole velocity autocorrelation function in real space')\n",
    "ax.legend()\n",
    "ax.set_xlim(1,)\n",
    "ax.set_ylim(0.5,1.5)\n",
    "#plt.savefig('xi-vv2-Poisson-err.png')"
   ]
  },
  {
   "cell_type": "code",
   "execution_count": null,
   "id": "c4f2d30d-0364-49b5-a4ba-aeb12922080d",
   "metadata": {},
   "outputs": [],
   "source": []
  }
 ],
 "metadata": {
  "kernelspec": {
   "display_name": "Python 3",
   "language": "python",
   "name": "python3"
  },
  "language_info": {
   "codemirror_mode": {
    "name": "ipython",
    "version": 3
   },
   "file_extension": ".py",
   "mimetype": "text/x-python",
   "name": "python",
   "nbconvert_exporter": "python",
   "pygments_lexer": "ipython3",
   "version": "3.8.8"
  }
 },
 "nbformat": 4,
 "nbformat_minor": 5
}
