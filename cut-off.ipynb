{
 "cells": [
  {
   "cell_type": "markdown",
   "id": "ec80a92c-595e-4b41-8159-f173108a7638",
   "metadata": {},
   "source": [
    "In the simulation, we cannot make the boxsize to infinity. Therefore to compare the results between theory and simulation, we should do the cut-off in the theory correlation function to the size of simulation box and compare between those two.\n",
    "\n",
    "The k cut-off value depends on the boxsize as\n",
    "\n",
    "$k_{min}  = \\frac{2\\pi}{r_{max}} = \\frac{2\\pi}{2000 \\sqrt{3}} = \\frac{\\pi}{\\sqrt{3}}10^{-3}$ \n",
    "\n",
    "with $r_{max}  = L\\sqrt{3}$.\n",
    "\n",
    "The idea to cut is that we have the correlation function which is the Fourier transform of power spectrum, integral from $\\int_0^\\infty dk$, that integral equal to the sum of two integral with the boundaries are\n",
    "\n",
    "\\begin{align}\n",
    "    \\int_0^\\infty dk = \\int_0^{k_{min}} dk + \\int_{k_{min}}^\\infty dk.\n",
    "\\end{align}\n",
    "\n",
    "However from CLASS, we get the boundary of this integral is from $\\int_{10^{-4}}^{10^2} dk$. Therefore\n",
    "\\begin{align}\n",
    "    \\int_{10^{-4}}^{10^2} dk = \\int_{10^{-4}}^{k_{min}} dk + \\int_{k_{min}}^{10^2} dk.\n",
    "\\end{align}\n",
    "\n",
    "We already had the correlation function with the integral from $\\int_{10^{-4}}^{10^2} dk$, to get the cut-off value, we should subtract it to that of $\\int_{10^{-4}}^{k_{min}} dk$. "
   ]
  },
  {
   "cell_type": "code",
   "execution_count": 2,
   "id": "38ce9969-7a45-4da7-aadf-190b461ee8ee",
   "metadata": {},
   "outputs": [],
   "source": [
    "import numpy as np\n",
    "import matplotlib.pyplot as plt\n",
    "from hankel import HankelTransform\n",
    "from scipy.interpolate import InterpolatedUnivariateSpline as spline \n",
    "path ='/Users/ngoc/Desktop/Master-study/project'"
   ]
  },
  {
   "cell_type": "code",
   "execution_count": 6,
   "id": "7bcdcce5-2ead-4128-8baa-2b58446364d7",
   "metadata": {},
   "outputs": [],
   "source": [
    "\n",
    "#cosmological parameters\n",
    "z        = 0.306                                #redshift\n",
    "H_0      = 67                                   #Hubble const\n",
    "Omg_lamb = 0.685                                #cosmological density parameter\n",
    "Omg_m    = 1. - Omg_lamb                        #mater density parameter\n",
    "a        = 1./(1. + z)                          #scale factor\n",
    "f        = 0.687255861\n",
    "b        = 3.11                                 #bias for halo b = \\delta_halo/\\delta_matter\n",
    "beta     = f/b   \n",
    "\n",
    "#relation between the real and redshift space power spectrum multipoles (Kaiser's coefficients)\n",
    "K0       = 1 + 2/3*beta + 1/5*beta**2\n",
    "K2       = 4/3*beta + 4/7*beta**2\n",
    "K4       = 8/35*beta**2\n",
    "\n",
    "#simulation parameters\n",
    "L      = 2000. #boxsize\n",
    "r_max  = L*3**0.5\n",
    "k_min  = 2*np.pi/r_max\n",
    "ni     = int(k_min/1e-4)                                # n = (upper_bound - lower_bound)/dk  "
   ]
  },
  {
   "cell_type": "code",
   "execution_count": null,
   "id": "78379d70-16a9-424d-811b-146152414587",
   "metadata": {},
   "outputs": [],
   "source": [
    "# loading matter power spectrum\n",
    "\n",
    "kk  = np.loadtxt(path+'/my_results/matter_Pk.txt', usecols = (0))\n",
    "P   = np.loadtxt(path+'/my_results/matter_Pk.txt', usecols = (1))\n",
    "r   = np.loadtxt(path+'/my-p-code/xi_dd_realspace.txt', usecols = 0)\n",
    "P_k = spline(kk, P)\n"
   ]
  },
  {
   "cell_type": "code",
   "execution_count": 35,
   "id": "4fbdda9b-0547-4710-987c-f8d6c93614b4",
   "metadata": {},
   "outputs": [],
   "source": [
    "# xi_dd^s monopole cut off\n",
    "\n",
    "xi = lambda r, k: P_k(k)*k*np.sin(k*r)\n",
    "              \n",
    "dk = 1e-4\n",
    "xi_dd0_cut = np.full_like(r,0) \n",
    "ii = 0\n",
    "\n",
    "for rr in r:\n",
    "    xi_r = 0\n",
    "    for i in range (1, ni):              #notice when choosing i to avoid divided by r=0\n",
    "        xi_r = xi_r + xi(rr,i*dk)\n",
    "    xi_dd0_cut[ii] = xi_r*K0*b**2*dk/(2*np.pi**2*rr)\n",
    "    ii = ii+1"
   ]
  },
  {
   "cell_type": "code",
   "execution_count": 36,
   "id": "53102388-a8cd-428f-aa86-c202eb4837ff",
   "metadata": {},
   "outputs": [],
   "source": [
    "# xi_dd^s quadrupole cut off\n",
    "\n",
    "xi = lambda r, k: P_k(k)*((k**2*r**2 - 3)*np.sin(k*r)/(k*r) + 3*np.cos(k*r))\n",
    "             \n",
    "dk = 1e-4\n",
    "xi_dd2_cut = np.full_like(r,0) \n",
    "ii = 0\n",
    "\n",
    "for rr in r:\n",
    "    xi_r = 0\n",
    "    for i in range (1, ni):              #notice when choosing i to avoid divided by r=0\n",
    "        xi_r = xi_r + xi(rr,i*dk)\n",
    "    xi_dd2_cut[ii] = xi_r*K2*b**2*dk/(2*np.pi**2*rr**2)\n",
    "    ii = ii+1"
   ]
  },
  {
   "cell_type": "code",
   "execution_count": 37,
   "id": "0cb9a588-8ba3-4380-9c63-c33edb763773",
   "metadata": {},
   "outputs": [],
   "source": [
    "xi_dd0_num = np.loadtxt(path+'/results/xi_dd_s_num_integral.txt',usecols=(1))\n",
    "xi_dd2_num = np.loadtxt(path+'/results/xi_dd_s_num_integral.txt',usecols=(2))"
   ]
  },
  {
   "cell_type": "code",
   "execution_count": 38,
   "id": "a44d26ff-9fdf-4f07-bc39-4c32af573d43",
   "metadata": {},
   "outputs": [],
   "source": [
    "xi_dd0_cutoff = xi_dd0_num - xi_dd0_cut\n",
    "xi_dd2_cutoff = xi_dd2_num - xi_dd2_cut"
   ]
  },
  {
   "cell_type": "code",
   "execution_count": 39,
   "id": "72d1e0ca-539f-46bf-8bae-f761c93ed44b",
   "metadata": {},
   "outputs": [
    {
     "data": {
      "text/plain": [
       "[<matplotlib.lines.Line2D at 0x7fdd2da1f850>]"
      ]
     },
     "execution_count": 39,
     "metadata": {},
     "output_type": "execute_result"
    },
    {
     "data": {
      "image/png": "[encoded data removed]",
      "text/plain": [
       "<Figure size 432x288 with 1 Axes>"
      ]
     },
     "metadata": {
      "needs_background": "light"
     },
     "output_type": "display_data"
    }
   ],
   "source": [
    "plt.semilogx(r, xi_dd0_num*r**2,'r-')\n",
    "plt.semilogx(r, xi_dd0_cutoff*r**2,'b--')"
   ]
  },
  {
   "cell_type": "code",
   "execution_count": 40,
   "id": "cbf62707-f681-49d5-a97c-5b07f545e3ca",
   "metadata": {},
   "outputs": [
    {
     "data": {
      "text/plain": [
       "[<matplotlib.lines.Line2D at 0x7fdd2dbc8a90>]"
      ]
     },
     "execution_count": 40,
     "metadata": {},
     "output_type": "execute_result"
    },
    {
     "data": {
      "image/png": "[encoded data removed]",
      "text/plain": [
       "<Figure size 432x288 with 1 Axes>"
      ]
     },
     "metadata": {
      "needs_background": "light"
     },
     "output_type": "display_data"
    }
   ],
   "source": [
    "plt.semilogx(r, -xi_dd2_num*r**2,'r-')\n",
    "plt.semilogx(r, -xi_dd2_cutoff*r**2,'b--')"
   ]
  },
  {
   "cell_type": "raw",
   "id": "28f13ec0-e91a-4607-921e-56e7320ac755",
   "metadata": {},
   "source": [
    "output = np.array([r, xi_dd0_cutoff, xi_dd2_cutoff])\n",
    "output = output.T\n",
    "with open(path+'/results/xi_dd_s_cutoff.txt', 'w') as openfile:\n",
    "    np.savetxt(openfile, output)"
   ]
  },
  {
   "cell_type": "code",
   "execution_count": 41,
   "id": "0e25ddd4-c5a0-419c-b93a-db464a4dacc0",
   "metadata": {},
   "outputs": [],
   "source": [
    "xi_vv0_num = np.loadtxt(path+'/results/xi_vv_num_integral.txt',usecols=(1))\n",
    "xi_vv2_num = np.loadtxt(path+'/results/xi_vv_num_integral.txt',usecols=(2))"
   ]
  },
  {
   "cell_type": "code",
   "execution_count": 42,
   "id": "1d67f10a-ead9-4b05-8e7b-125ec8bf2614",
   "metadata": {},
   "outputs": [],
   "source": [
    "# xi_vv monopole cut off\n",
    "\n",
    "xi = lambda r, k: P_k(k)*np.sin(k*r)/k\n",
    "                \n",
    "dk = 1e-4\n",
    "xi_vv0_cut = np.full_like(r,0) \n",
    "ii = 0\n",
    "\n",
    "for rr in r:\n",
    "    xi_r = 0\n",
    "    for i in range (1, ni):              #notice when choosing i to avoid divided by r=0\n",
    "        xi_r = xi_r + xi(rr,i*dk)\n",
    "    xi_vv0_cut[ii] = xi_r*dk/(6*np.pi**2*rr)*f**2\n",
    "    ii = ii+1"
   ]
  },
  {
   "cell_type": "code",
   "execution_count": 43,
   "id": "bc76d274-9616-4e4b-8c78-6e2e6ddbcd6a",
   "metadata": {},
   "outputs": [],
   "source": [
    "# xi_vv quadrupole cut off\n",
    "\n",
    "xi = lambda r, k: P_k(k)*(np.sin(k*r)/(k*r)*(3/(k*r)**2-1) - 3*np.cos(k*r)/(k*r)**2)\n",
    "                \n",
    "dk = 1e-4\n",
    "xi_vv2_cut = np.full_like(r,0) \n",
    "ii = 0\n",
    "\n",
    "for rr in r:\n",
    "    xi_r = 0\n",
    "    for i in range (1, ni):              #notice when choosing i to avoid divided by r=0\n",
    "        xi_r = xi_r + xi(rr,i*dk)\n",
    "    xi_vv2_cut[ii] = -xi_r*dk/(3*np.pi**2)*f**2\n",
    "    ii = ii+1"
   ]
  },
  {
   "cell_type": "code",
   "execution_count": 44,
   "id": "691b7f07-26a6-4559-aa49-a66520e45538",
   "metadata": {},
   "outputs": [],
   "source": [
    "xi_vv0_cutoff = xi_vv0_num - xi_vv0_cut\n",
    "xi_vv2_cutoff = xi_vv2_num - xi_vv2_cut"
   ]
  },
  {
   "cell_type": "code",
   "execution_count": 45,
   "id": "208d7fd0-0541-4692-aa72-859b729bad25",
   "metadata": {},
   "outputs": [
    {
     "data": {
      "text/plain": [
       "[<matplotlib.lines.Line2D at 0x7fdd2c89c1f0>]"
      ]
     },
     "execution_count": 45,
     "metadata": {},
     "output_type": "execute_result"
    },
    {
     "data": {
      "image/png": "[encoded data removed]",
      "text/plain": [
       "<Figure size 432x288 with 1 Axes>"
      ]
     },
     "metadata": {
      "needs_background": "light"
     },
     "output_type": "display_data"
    }
   ],
   "source": [
    "plt.loglog(r, xi_vv0_num,'r-')\n",
    "plt.loglog(r, xi_vv0_cutoff,'b--')"
   ]
  },
  {
   "cell_type": "code",
   "execution_count": 46,
   "id": "02613a17-aff7-473c-a034-7ddc550f1431",
   "metadata": {},
   "outputs": [
    {
     "data": {
      "text/plain": [
       "[<matplotlib.lines.Line2D at 0x7fdd2dddbf70>]"
      ]
     },
     "execution_count": 46,
     "metadata": {},
     "output_type": "execute_result"
    },
    {
     "data": {
      "image/png": "[encoded data removed]",
      "text/plain": [
       "<Figure size 432x288 with 1 Axes>"
      ]
     },
     "metadata": {
      "needs_background": "light"
     },
     "output_type": "display_data"
    }
   ],
   "source": [
    "plt.loglog(r, -xi_vv2_num,'r-')\n",
    "plt.loglog(r, -xi_vv2_cutoff,'b--')"
   ]
  },
  {
   "cell_type": "raw",
   "id": "7065ab9a-e7b6-4676-a276-680dde33b678",
   "metadata": {},
   "source": [
    "output = np.array([r, xi_vv0_cutoff, xi_vv2_cutoff])\n",
    "output = output.T\n",
    "with open(path+'/results/xi_vv_cutoff.txt', 'w') as openfile:\n",
    "    np.savetxt(openfile, output)"
   ]
  },
  {
   "cell_type": "markdown",
   "id": "84e43ae6-bb12-4f08-82ff-2567c44fc222",
   "metadata": {},
   "source": [
    "Other ways: \n",
    "    \n",
    "1. Cut the power spectrum at k_min then do the integral\n",
    "2. Calculate the integral (by hand) then subtract it (the idea likes the previous way)"
   ]
  },
  {
   "cell_type": "code",
   "execution_count": 4,
   "id": "808baf2c-332f-4b4f-8747-4a7e4adfea4c",
   "metadata": {},
   "outputs": [],
   "source": [
    "#xi_theory with cut at k_min (cut P(k) after integral)\n",
    "\n",
    "h0 = HankelTransform(nu=1./2., N = 3000, h = 1e-5)\n",
    "f1 = lambda k: P_k(k)/(k*np.pi*2.)**(3./2.)\n",
    "\n",
    "i=0\n",
    "xi_cut = np.zeros(len(r))\n",
    "xi_p1 = 1/np.sqrt(r)*h0.transform(f1,r, ret_err=False, inverse=True)\n",
    "\n",
    "for rr in r:\n",
    "    if kk[i] < k_min:\n",
    "        cut = 3.e6/(2.*np.pi**2.*rr**2.)*(1.-np.cos(k_min*rr))\n",
    "        xi_cut[i] = xi_p1[i] - cut\n",
    "    else:\n",
    "        xi_cut[i] = xi_p1[i]\n",
    "    i = i+1\n",
    "    \n",
    "xi_cut =  f**2*xi_cut/3"
   ]
  },
  {
   "cell_type": "code",
   "execution_count": 5,
   "id": "af828647-f9be-4557-a772-f9a006106103",
   "metadata": {},
   "outputs": [],
   "source": [
    "r_vv0       = np.loadtxt(path+'/my-p-code/xi_vv_realspace_mono.txt', usecols = 0)\n",
    "xi_vv0      = np.loadtxt(path+'/my-p-code/xi_vv_realspace_mono.txt', usecols = 1)\n",
    "error_xi_vv0= np.loadtxt(path+'/my-p-code/xi_vv_realspace_mono.txt', usecols = 2)\n",
    "xi_vv0_lin   = np.loadtxt(path+'/my-p-code/xi_vv_realspace_theory.txt', usecols = 1)"
   ]
  },
  {
   "cell_type": "code",
   "execution_count": 6,
   "id": "f5728572-8db4-425f-ab63-f5cf8b8800f0",
   "metadata": {},
   "outputs": [],
   "source": [
    "#cut P(k) before integral\n",
    "\n",
    "for i in range(0,len(kk)):\n",
    "    if kk[i] < k_min:\n",
    "        P[i] = 0\n",
    "P_k = spline(kk, P)\n"
   ]
  },
  {
   "cell_type": "code",
   "execution_count": 7,
   "id": "5dc0c51b-9147-4aa1-aaa2-c1c284b1da14",
   "metadata": {},
   "outputs": [],
   "source": [
    "h0 = HankelTransform(nu=1./2., N = 3000, h = 1e-5)\n",
    "f1 = lambda k: P_k(k)/(k*np.pi*2.)**(3./2.)\n",
    "\n",
    "xi_p1 = 1/np.sqrt(r)*h0.transform(f1,r, ret_err=False, inverse=True)\n",
    "    \n",
    "xi_cut_before =  f**2*xi_p1/3"
   ]
  },
  {
   "cell_type": "code",
   "execution_count": 12,
   "id": "7507c104-30bb-4289-bcc8-f7d8e8adf024",
   "metadata": {},
   "outputs": [
    {
     "data": {
      "text/plain": [
       "<matplotlib.legend.Legend at 0x7fa8a54caac0>"
      ]
     },
     "execution_count": 12,
     "metadata": {},
     "output_type": "execute_result"
    },
    {
     "data": {
      "image/png": "[encoded data removed]",
      "text/plain": [
       "<Figure size 432x288 with 1 Axes>"
      ]
     },
     "metadata": {
      "needs_background": "light"
     },
     "output_type": "display_data"
    }
   ],
   "source": [
    "ax = plt.axes()\n",
    "ax.set_xscale(\"log\")\n",
    "ax.set_yscale(\"log\")\n",
    "ax.plot(r,xi_cut, label='cut ')\n",
    "ax.plot(r,xi_cut_before, label='cut before')\n",
    "ax.plot(r,xi_vv0_lin, label='linear ')\n",
    "ax.errorbar(r_vv0,xi_vv0, fmt='.',yerr = error_xi_vv0, label = 'simulation')\n",
    "ax.set_ylabel(\"$\\\\xi_{vv,0}$ \")\n",
    "ax.set_xlabel(\"r$[Mpc.h^{-1}]$\")\n",
    "#ax.set_xlim(10,)\n",
    "ax.legend()"
   ]
  },
  {
   "cell_type": "code",
   "execution_count": 9,
   "id": "106fa6c5-71aa-49fd-85ca-2dfbe5ec4d35",
   "metadata": {},
   "outputs": [
    {
     "data": {
      "text/plain": [
       "<matplotlib.legend.Legend at 0x7fa8a4f4b310>"
      ]
     },
     "execution_count": 9,
     "metadata": {},
     "output_type": "execute_result"
    },
    {
     "data": {
      "image/png": "[encoded data removed]",
      "text/plain": [
       "<Figure size 432x288 with 1 Axes>"
      ]
     },
     "metadata": {
      "needs_background": "light"
     },
     "output_type": "display_data"
    }
   ],
   "source": [
    "y = np.full_like(r,1)\n",
    "plt.plot(r,y)\n",
    "plt.plot(r,xi_cut_before/xi_cut, '.', label ='xi_cut before/xi cut')\n",
    "plt.plot(r,xi_cut_before/xi_vv0_lin, '.',label='xi_cut before/xi')\n",
    "plt.plot(r,xi_cut/xi_vv0_lin, '.', label ='xi_cut/xi')\n",
    "plt.plot(r,xi_cut_before/xi_vv0, '.',label='xi_cut before/xi simul')\n",
    "plt.plot(r,xi_cut/xi_vv0, '.', label ='xi_cut/xi simul')\n",
    "plt.plot(r,xi_vv0_lin/xi_vv0, '.', label ='xi/xi simul')\n",
    "plt.xlim(10,)\n",
    "plt.ylim(0,)\n",
    "plt.legend(loc=(1.1,0))"
   ]
  },
  {
   "cell_type": "raw",
   "id": "8a378688-6ad2-4197-9ad8-2edf2b44c53f",
   "metadata": {},
   "source": [
    "output = np.array([kk, P])\n",
    "output1 = output.T\n",
    "np.savetxt(path+'/my-p-code/results/mPk_cut.txt', output1)"
   ]
  },
  {
   "cell_type": "code",
   "execution_count": null,
   "id": "bfd7cb4c-8fbe-4688-875f-6d418361bc4d",
   "metadata": {},
   "outputs": [],
   "source": []
  }
 ],
 "metadata": {
  "kernelspec": {
   "display_name": "Python 3",
   "language": "python",
   "name": "python3"
  },
  "language_info": {
   "codemirror_mode": {
    "name": "ipython",
    "version": 3
   },
   "file_extension": ".py",
   "mimetype": "text/x-python",
   "name": "python",
   "nbconvert_exporter": "python",
   "pygments_lexer": "ipython3",
   "version": "3.8.8"
  }
 },
 "nbformat": 4,
 "nbformat_minor": 5
}
